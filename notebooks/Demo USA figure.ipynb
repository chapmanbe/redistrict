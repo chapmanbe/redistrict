{
 "cells": [
  {
   "cell_type": "markdown",
   "metadata": {},
   "source": [
    "This is the code to create the figure used in the paper which shows the whole USA."
   ]
  },
  {
   "cell_type": "code",
   "execution_count": 1,
   "metadata": {
    "collapsed": false
   },
   "outputs": [
    {
     "name": "stdout",
     "output_type": "stream",
     "text": [
      "/home/olivia/GitHub/redistrict\n"
     ]
    }
   ],
   "source": [
    "%matplotlib inline\n",
    "\n",
    "# Assuming we are in the notebooks directory, we need to move one up:\n",
    "%cd ..\n",
    "\n",
    "from __future__ import print_function\n",
    "\n",
    "import os\n",
    "import us\n",
    "import glob\n",
    "\n",
    "import numpy as np\n",
    "import pandas as pd\n",
    "import seaborn as sns\n",
    "import geopandas as gpd\n",
    "import matplotlib.pyplot as plt"
   ]
  },
  {
   "cell_type": "code",
   "execution_count": 2,
   "metadata": {
    "collapsed": false
   },
   "outputs": [
    {
     "name": "stdout",
     "output_type": "stream",
     "text": [
      "American Samoa 51\n",
      "Guam 52\n",
      "Northern Mariana Islands 53\n",
      "Puerto Rico 54\n",
      "Virgin Islands 55\n"
     ]
    }
   ],
   "source": [
    "states = gpd.read_file('./fig/geojson/state_outlines.geo.json')\n",
    "# states = gpd.read_file('./fig/shapefile/state_outlines.shp')\n",
    "delete_states = []\n",
    "for index, row in states.iterrows():\n",
    "#     print(index, row)\n",
    "    st = us.states.lookup(row['STATEFP'])\n",
    "    if st.is_territory:\n",
    "        print(st, index)\n",
    "        delete_states.append(index)\n",
    "states = states.drop(states.index[delete_states])\n",
    "def get_abbr(row):\n",
    "#     print(row)\n",
    "    st = us.states.lookup(row['STATEFP'])\n",
    "#     state_name.append(str(st.abbr))\n",
    "#     print(str(st.abbr))\n",
    "    return str(st.abbr)\n",
    "states['State'] = states.apply(get_abbr, axis =1)\n",
    "improvement = pd.read_csv('./fig/csv/improvement.csv')\n",
    "improvement = improvement[['State', 'Ratio of Mean Pairwise Distance of Clusters versus of Congressional Districts']]\n",
    "improvement.rename(columns={'Ratio of Mean Pairwise Distance of Clusters versus of Congressional Districts': 'Ratio'}, inplace=True)\n",
    "result = gpd.GeoDataFrame(pd.merge(improvement, states, on='State'))\n",
    "result['Colour'] = 1 - result['Ratio']"
   ]
  },
  {
   "cell_type": "code",
   "execution_count": null,
   "metadata": {
    "collapsed": false
   },
   "outputs": [],
   "source": [
    "# states.crs.pop('no_defs', None)\n",
    "# result.crs.pop('no_defs', None)\n",
    "result.crs = {'init': u'epsg:4326'}\n",
    "states.crs = {'init': u'epsg:4326'}\n",
    "# result.crs = None\n",
    "# states.crs = None\n",
    "\n",
    "print(result.crs, states.crs)"
   ]
  },
  {
   "cell_type": "code",
   "execution_count": null,
   "metadata": {
    "collapsed": false
   },
   "outputs": [],
   "source": [
    "fig, ax = plt.subplots()\n",
    "ax.set_aspect('equal')\n",
    "# states = states.to_crs({'init': 'epsg:3395'})\n",
    "states.plot(ax=ax, color='#888888', linewidth=0.1)\n",
    "# result = result.to_crs({'init': 'epsg:3395'})\n",
    "result.plot(ax=ax, linewidth=0.1, column='Colour', cmap='OrRd')\n",
    "plt.axis('off')\n",
    "# plt.savefig('./fig/usa.pdf', bbox_inches='tight')\n",
    "plt.show();"
   ]
  },
  {
   "cell_type": "code",
   "execution_count": null,
   "metadata": {
    "collapsed": false
   },
   "outputs": [],
   "source": [
    "states.to_file('./fig/shapefile/results/states.shp', driver=\"ESRI Shapefile\")\n",
    "result.to_file('./fig/shapefile/results/result.shp', driver=\"ESRI Shapefile\")"
   ]
  },
  {
   "cell_type": "code",
   "execution_count": null,
   "metadata": {
    "collapsed": true
   },
   "outputs": [],
   "source": [
    "usa = gpd.read_file('./fig/shapefile/States/States.shp')\n"
   ]
  },
  {
   "cell_type": "code",
   "execution_count": null,
   "metadata": {
    "collapsed": false
   },
   "outputs": [],
   "source": [
    "usa.plot()"
   ]
  },
  {
   "cell_type": "code",
   "execution_count": null,
   "metadata": {
    "collapsed": false
   },
   "outputs": [],
   "source": [
    "usa.head()"
   ]
  },
  {
   "cell_type": "code",
   "execution_count": null,
   "metadata": {
    "collapsed": true
   },
   "outputs": [],
   "source": [
    "del result['geometry']"
   ]
  },
  {
   "cell_type": "code",
   "execution_count": null,
   "metadata": {
    "collapsed": false
   },
   "outputs": [],
   "source": [
    "result.head()"
   ]
  },
  {
   "cell_type": "code",
   "execution_count": null,
   "metadata": {
    "collapsed": false
   },
   "outputs": [],
   "source": [
    "merged = pd.merge(usa, result, left_on='state_abbr', right_on='State')"
   ]
  },
  {
   "cell_type": "code",
   "execution_count": null,
   "metadata": {
    "collapsed": false
   },
   "outputs": [],
   "source": [
    "merged.plot()"
   ]
  },
  {
   "cell_type": "code",
   "execution_count": null,
   "metadata": {
    "collapsed": false
   },
   "outputs": [],
   "source": [
    "merged.to_file('./fig/shapefile/results/result_better_shape.shp', driver=\"ESRI Shapefile\")"
   ]
  }
 ],
 "metadata": {
  "anaconda-cloud": {},
  "kernelspec": {
   "display_name": "Python [default]",
   "language": "python",
   "name": "python2"
  },
  "language_info": {
   "codemirror_mode": {
    "name": "ipython",
    "version": 2
   },
   "file_extension": ".py",
   "mimetype": "text/x-python",
   "name": "python",
   "nbconvert_exporter": "python",
   "pygments_lexer": "ipython2",
   "version": "2.7.12"
  }
 },
 "nbformat": 4,
 "nbformat_minor": 2
}
