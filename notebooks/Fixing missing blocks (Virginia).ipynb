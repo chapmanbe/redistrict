{
 "cells": [
  {
   "cell_type": "code",
   "execution_count": null,
   "metadata": {
    "collapsed": false
   },
   "outputs": [],
   "source": [
    "%matplotlib inline\n",
    "\n",
    "# Assuming we are in the notebooks directory, we need to move one up:\n",
    "%cd ..\n",
    "\n",
    "from __future__ import division\n",
    "\n",
    "import os\n",
    "import us\n",
    "import requests\n",
    "\n",
    "import pandas as pd\n",
    "import geopandas as gpd\n",
    "\n",
    "from secret import *\n",
    "from default_values import *"
   ]
  },
  {
   "cell_type": "code",
   "execution_count": 2,
   "metadata": {
    "collapsed": false
   },
   "outputs": [
    {
     "data": {
      "text/plain": [
       "u'51'"
      ]
     },
     "execution_count": 2,
     "metadata": {},
     "output_type": "execute_result"
    }
   ],
   "source": [
    "state = u'Virginia'\n",
    "state_fips = us.states.lookup(state).fips\n",
    "state_fips"
   ]
  },
  {
   "cell_type": "code",
   "execution_count": 9,
   "metadata": {
    "collapsed": false
   },
   "outputs": [
    {
     "name": "stdout",
     "output_type": "stream",
     "text": [
      "Attempting to load predicted population by block for: Virginia\n",
      "\tNot found on disk...\n",
      "\tDownloading and processing blocks and block groups for: Virginia\n",
      "\tOpening 2010 blocks shapefile for: Virginia\n",
      "\tOpening ACS5 block groups shapefile for: Virginia\n",
      "set([u'510190501004', u'510190501005', u'510190501001', u'510190501002', u'510190501003', '515150501003', '515150501002', '515150501001', '515150501005', '515150501004'])\n"
     ]
    }
   ],
   "source": [
    "# try:\n",
    "if True:\n",
    "    print 'Attempting to load predicted population by block for:', state\n",
    "#     df = gpd.read_file(blocks_geojson_filename)\n",
    "# except IOError:\n",
    "    print '\\tNot found on disk...'\n",
    "    print '\\tDownloading and processing blocks and block groups for:', state\n",
    "    # Open 2010 blocks for state (the population):\n",
    "    print '\\tOpening 2010 blocks shapefile for:', state\n",
    "    blocks_2010_shapefile_name = blocks_2010_shapefile_dir + 'tabblock2010_' +\\\n",
    "        state_fips + '_pophu.shp'\n",
    "    blocks_df = gpd.read_file(blocks_2010_shapefile_name)\n",
    "    blocks_df['BLOCKID10'] = blocks_df['BLOCKID10'].apply(str)\n",
    "    def get_group_GEOID(blockGEOID):\n",
    "        return blockGEOID[0:-3]\n",
    "    blocks_df['Block Group GEOID'] = blocks_df['BLOCKID10'].apply(get_group_GEOID)\n",
    "    assert (blocks_df['Block Group GEOID'].apply(len)).unique() == [12]\n",
    "    # The filename for the whole state with block groups (without population):\n",
    "    print '\\tOpening ACS5 block groups shapefile for:', state\n",
    "    block_groups_shapefile_name = acs5_shapefile_dir + 'tl_' + year + '_' +\\\n",
    "        state_fips + '_bg.shp'\n",
    "    block_groups_df = gpd.read_file(block_groups_shapefile_name)\n",
    "    # We will add to this the population per block group from the API.\n",
    "    # Check GEOIDs are of length 12 because they have to be by definition,\n",
    "    # see: https://www.census.gov/geo/reference/geoidentifiers.html\n",
    "    assert (block_groups_df['GEOID'].apply(len)).unique() == [12]\n",
    "\n",
    "    \n",
    "    \n",
    "    \n",
    "    print set(block_groups_df['GEOID'].unique()).symmetric_difference(set(\n",
    "        blocks_df['Block Group GEOID'].unique()))\n",
    "        # ['060378002043', '060379304011', u'060371370002', u'060371370001']"
   ]
  },
  {
   "cell_type": "code",
   "execution_count": 10,
   "metadata": {
    "collapsed": false,
    "scrolled": true
   },
   "outputs": [
    {
     "data": {
      "text/plain": [
       "10"
      ]
     },
     "execution_count": 10,
     "metadata": {},
     "output_type": "execute_result"
    }
   ],
   "source": [
    "diff = list(set(block_groups_df['GEOID'].unique()).symmetric_difference(set(\n",
    "         blocks_df['Block Group GEOID'].unique())))\n",
    "len(diff)"
   ]
  },
  {
   "cell_type": "code",
   "execution_count": 11,
   "metadata": {
    "collapsed": false
   },
   "outputs": [
    {
     "name": "stdout",
     "output_type": "stream",
     "text": [
      "515150501003\n",
      "515150501002\n",
      "515150501001\n",
      "515150501005\n",
      "515150501004\n"
     ]
    }
   ],
   "source": [
    "for d in diff:\n",
    "    if d in blocks_df['Block Group GEOID'].values:\n",
    "        print d"
   ]
  },
  {
   "cell_type": "code",
   "execution_count": 12,
   "metadata": {
    "collapsed": false
   },
   "outputs": [
    {
     "data": {
      "text/plain": [
       "(5, 13)"
      ]
     },
     "execution_count": 12,
     "metadata": {},
     "output_type": "execute_result"
    }
   ],
   "source": [
    "# del lost_block_groups\n",
    "#These are the block groups that get lost:\n",
    "for i, d in enumerate(diff):\n",
    "#     print i\n",
    "#     d = str(d)\n",
    "#     print block_groups_df[block_groups_df['GEOID'].astype(str).str.contains(d)]\n",
    "    try:\n",
    "        lost_block_groups = pd.concat([lost_block_groups,\n",
    "                                      block_groups_df[block_groups_df['GEOID'].astype(str).str.contains(d)]])\n",
    "    except NameError:\n",
    "        lost_block_groups = block_groups_df[block_groups_df['GEOID'].astype(str).str.contains(d)]\n",
    "lost_block_groups.shape"
   ]
  },
  {
   "cell_type": "code",
   "execution_count": 13,
   "metadata": {
    "collapsed": false
   },
   "outputs": [
    {
     "data": {
      "text/html": [
       "<div>\n",
       "<table border=\"1\" class=\"dataframe\">\n",
       "  <thead>\n",
       "    <tr style=\"text-align: right;\">\n",
       "      <th></th>\n",
       "      <th>ALAND</th>\n",
       "      <th>AWATER</th>\n",
       "      <th>BLKGRPCE</th>\n",
       "      <th>COUNTYFP</th>\n",
       "      <th>FUNCSTAT</th>\n",
       "      <th>GEOID</th>\n",
       "      <th>INTPTLAT</th>\n",
       "      <th>INTPTLON</th>\n",
       "      <th>MTFCC</th>\n",
       "      <th>NAMELSAD</th>\n",
       "      <th>STATEFP</th>\n",
       "      <th>TRACTCE</th>\n",
       "      <th>geometry</th>\n",
       "    </tr>\n",
       "  </thead>\n",
       "  <tbody>\n",
       "    <tr>\n",
       "      <th>2825</th>\n",
       "      <td>5153425</td>\n",
       "      <td>4049</td>\n",
       "      <td>4</td>\n",
       "      <td>019</td>\n",
       "      <td>S</td>\n",
       "      <td>510190501004</td>\n",
       "      <td>+37.3305215</td>\n",
       "      <td>-079.5359620</td>\n",
       "      <td>G5030</td>\n",
       "      <td>Block Group 4</td>\n",
       "      <td>51</td>\n",
       "      <td>050100</td>\n",
       "      <td>POLYGON ((-79.55945299999999 37.33933, -79.559...</td>\n",
       "    </tr>\n",
       "    <tr>\n",
       "      <th>2826</th>\n",
       "      <td>3834614</td>\n",
       "      <td>34866</td>\n",
       "      <td>5</td>\n",
       "      <td>019</td>\n",
       "      <td>S</td>\n",
       "      <td>510190501005</td>\n",
       "      <td>+37.3306886</td>\n",
       "      <td>-079.5069523</td>\n",
       "      <td>G5030</td>\n",
       "      <td>Block Group 5</td>\n",
       "      <td>51</td>\n",
       "      <td>050100</td>\n",
       "      <td>POLYGON ((-79.52344599999999 37.334641, -79.52...</td>\n",
       "    </tr>\n",
       "    <tr>\n",
       "      <th>2827</th>\n",
       "      <td>2881842</td>\n",
       "      <td>8160</td>\n",
       "      <td>1</td>\n",
       "      <td>019</td>\n",
       "      <td>S</td>\n",
       "      <td>510190501001</td>\n",
       "      <td>+37.3426350</td>\n",
       "      <td>-079.5064689</td>\n",
       "      <td>G5030</td>\n",
       "      <td>Block Group 1</td>\n",
       "      <td>51</td>\n",
       "      <td>050100</td>\n",
       "      <td>POLYGON ((-79.52292 37.33595, -79.522815999999...</td>\n",
       "    </tr>\n",
       "    <tr>\n",
       "      <th>2823</th>\n",
       "      <td>3537683</td>\n",
       "      <td>6596</td>\n",
       "      <td>2</td>\n",
       "      <td>019</td>\n",
       "      <td>S</td>\n",
       "      <td>510190501002</td>\n",
       "      <td>+37.3485833</td>\n",
       "      <td>-079.5168720</td>\n",
       "      <td>G5030</td>\n",
       "      <td>Block Group 2</td>\n",
       "      <td>51</td>\n",
       "      <td>050100</td>\n",
       "      <td>POLYGON ((-79.53537299999999 37.35531599999999...</td>\n",
       "    </tr>\n",
       "    <tr>\n",
       "      <th>2824</th>\n",
       "      <td>2392596</td>\n",
       "      <td>7647</td>\n",
       "      <td>3</td>\n",
       "      <td>019</td>\n",
       "      <td>S</td>\n",
       "      <td>510190501003</td>\n",
       "      <td>+37.3452985</td>\n",
       "      <td>-079.5380822</td>\n",
       "      <td>G5030</td>\n",
       "      <td>Block Group 3</td>\n",
       "      <td>51</td>\n",
       "      <td>050100</td>\n",
       "      <td>POLYGON ((-79.55565 37.344404, -79.555589 37.3...</td>\n",
       "    </tr>\n",
       "  </tbody>\n",
       "</table>\n",
       "</div>"
      ],
      "text/plain": [
       "        ALAND  AWATER BLKGRPCE COUNTYFP FUNCSTAT         GEOID     INTPTLAT  \\\n",
       "2825  5153425    4049        4      019        S  510190501004  +37.3305215   \n",
       "2826  3834614   34866        5      019        S  510190501005  +37.3306886   \n",
       "2827  2881842    8160        1      019        S  510190501001  +37.3426350   \n",
       "2823  3537683    6596        2      019        S  510190501002  +37.3485833   \n",
       "2824  2392596    7647        3      019        S  510190501003  +37.3452985   \n",
       "\n",
       "          INTPTLON  MTFCC       NAMELSAD STATEFP TRACTCE  \\\n",
       "2825  -079.5359620  G5030  Block Group 4      51  050100   \n",
       "2826  -079.5069523  G5030  Block Group 5      51  050100   \n",
       "2827  -079.5064689  G5030  Block Group 1      51  050100   \n",
       "2823  -079.5168720  G5030  Block Group 2      51  050100   \n",
       "2824  -079.5380822  G5030  Block Group 3      51  050100   \n",
       "\n",
       "                                               geometry  \n",
       "2825  POLYGON ((-79.55945299999999 37.33933, -79.559...  \n",
       "2826  POLYGON ((-79.52344599999999 37.334641, -79.52...  \n",
       "2827  POLYGON ((-79.52292 37.33595, -79.522815999999...  \n",
       "2823  POLYGON ((-79.53537299999999 37.35531599999999...  \n",
       "2824  POLYGON ((-79.55565 37.344404, -79.555589 37.3...  "
      ]
     },
     "execution_count": 13,
     "metadata": {},
     "output_type": "execute_result"
    }
   ],
   "source": [
    "lost_block_groups"
   ]
  },
  {
   "cell_type": "code",
   "execution_count": 14,
   "metadata": {
    "collapsed": false
   },
   "outputs": [],
   "source": [
    "# block_groups_df.head()"
   ]
  },
  {
   "cell_type": "code",
   "execution_count": 15,
   "metadata": {
    "collapsed": false,
    "scrolled": true
   },
   "outputs": [],
   "source": [
    "# blocks_df.head()"
   ]
  },
  {
   "cell_type": "code",
   "execution_count": null,
   "metadata": {
    "collapsed": true
   },
   "outputs": [],
   "source": []
  },
  {
   "cell_type": "code",
   "execution_count": 16,
   "metadata": {
    "collapsed": false
   },
   "outputs": [],
   "source": [
    "# blocks_df.dissolve(by='STATEFP10').plot()"
   ]
  },
  {
   "cell_type": "code",
   "execution_count": 17,
   "metadata": {
    "collapsed": false
   },
   "outputs": [],
   "source": [
    "# block_groups_df.dissolve(by='STATEFP').plot()"
   ]
  },
  {
   "cell_type": "code",
   "execution_count": 18,
   "metadata": {
    "collapsed": false
   },
   "outputs": [],
   "source": [
    "#     for bg_index, bg_row in block_groups_df.iterrows():\n",
    "#         for b_index, b_row in blocks_df.iterrows():\n",
    "#             intersection_area = bg_row['geometry'].intersection(b_row['geometry']).area\n",
    "#             if intersection_area > 0.00001:\n",
    "#                 print intersection_area\n"
   ]
  },
  {
   "cell_type": "code",
   "execution_count": null,
   "metadata": {
    "collapsed": true
   },
   "outputs": [],
   "source": []
  },
  {
   "cell_type": "code",
   "execution_count": null,
   "metadata": {
    "collapsed": false
   },
   "outputs": [],
   "source": []
  },
  {
   "cell_type": "code",
   "execution_count": 19,
   "metadata": {
    "collapsed": false,
    "scrolled": true
   },
   "outputs": [
    {
     "name": "stdout",
     "output_type": "stream",
     "text": [
      "5\n"
     ]
    }
   ],
   "source": [
    "    print len(set(block_groups_df['GEOID'].unique()).difference(set(\n",
    "        blocks_df['Block Group GEOID'].unique())))\n"
   ]
  },
  {
   "cell_type": "code",
   "execution_count": 20,
   "metadata": {
    "collapsed": false
   },
   "outputs": [
    {
     "name": "stdout",
     "output_type": "stream",
     "text": [
      "5\n"
     ]
    }
   ],
   "source": [
    "    print len(set(\n",
    "         blocks_df['Block Group GEOID'].unique()).difference(set(block_groups_df['GEOID'].unique())))"
   ]
  },
  {
   "cell_type": "code",
   "execution_count": 21,
   "metadata": {
    "collapsed": false
   },
   "outputs": [
    {
     "name": "stdout",
     "output_type": "stream",
     "text": [
      "Series([], Name: POP10, dtype: int64)\n"
     ]
    }
   ],
   "source": [
    "    print blocks_df[blocks_df['Block Group GEOID'] == '040194705002']['POP10']\n"
   ]
  },
  {
   "cell_type": "code",
   "execution_count": 22,
   "metadata": {
    "collapsed": false
   },
   "outputs": [
    {
     "name": "stdout",
     "output_type": "stream",
     "text": [
      "Series([], Name: POP10, dtype: int64)\n"
     ]
    }
   ],
   "source": [
    "    print blocks_df[blocks_df['Block Group GEOID'] == '060371370001']['POP10']"
   ]
  },
  {
   "cell_type": "code",
   "execution_count": 23,
   "metadata": {
    "collapsed": false
   },
   "outputs": [
    {
     "name": "stdout",
     "output_type": "stream",
     "text": [
      "\tAttempting to load ACS5 population for block groups by county for: Virginia\n",
      "\t\tNot found on disk...\n",
      "\t\tDownloading block groups for county: 031\n",
      "\t\tDownloading block groups for county: 800\n",
      "\t\tDownloading block groups for county: 179\n",
      "\t\tDownloading block groups for county: 101\n",
      "\t\tDownloading block groups for county: 053\n",
      "\t\tDownloading block groups for county: 107\n",
      "\t\tDownloading block groups for county: 133\n",
      "\t\tDownloading block groups for county: 121\n",
      "\t\tDownloading block groups for county: 710\n",
      "\t\tDownloading block groups for county: 510\n",
      "\t\tDownloading block groups for county: 153\n",
      "\t\tDownloading block groups for county: 187\n",
      "\t\tDownloading block groups for county: 095\n",
      "\t\tDownloading block groups for county: 700\n",
      "\t\tDownloading block groups for county: 147\n",
      "\t\tDownloading block groups for county: 760\n",
      "\t\tDownloading block groups for county: 003\n",
      "\t\tDownloading block groups for county: 750\n",
      "\t\tDownloading block groups for county: 143\n",
      "\t\tDownloading block groups for county: 740\n",
      "\t\tDownloading block groups for county: 730\n",
      "\t\tDownloading block groups for county: 183\n",
      "\t\tDownloading block groups for county: 013\n",
      "\t\tDownloading block groups for county: 017\n",
      "\t\tDownloading block groups for county: 197\n",
      "\t\tDownloading block groups for county: 061\n",
      "\t\tDownloading block groups for county: 081\n",
      "\t\tDownloading block groups for county: 015\n",
      "\t\tDownloading block groups for county: 155\n",
      "\t\tDownloading block groups for county: 165\n",
      "\t\tDownloading block groups for county: 079\n",
      "\t\tDownloading block groups for county: 059\n",
      "\t\tDownloading block groups for county: 590\n",
      "\t\tDownloading block groups for county: 775\n",
      "\t\tDownloading block groups for county: 115\n",
      "\t\tDownloading block groups for county: 177\n",
      "\t\tDownloading block groups for county: 025\n",
      "\t\tDownloading block groups for county: 109\n",
      "\t\tDownloading block groups for county: 083\n",
      "\t\tDownloading block groups for county: 820\n",
      "\t\tDownloading block groups for county: 119\n",
      "\t\tDownloading block groups for county: 570\n",
      "\t\tDownloading block groups for county: 660\n",
      "\t\tDownloading block groups for county: 077\n",
      "\t\tDownloading block groups for county: 063\n",
      "\t\tDownloading block groups for county: 810\n",
      "\t\tDownloading block groups for county: 580\n",
      "\t\tDownloading block groups for county: 610\n",
      "\t\tDownloading block groups for county: 103\n",
      "\t\tDownloading block groups for county: 073\n",
      "\t\tDownloading block groups for county: 041\n",
      "\t\tDownloading block groups for county: 023\n",
      "\t\tDownloading block groups for county: 175\n",
      "\t\tDownloading block groups for county: 005\n",
      "\t\tDownloading block groups for county: 199\n",
      "\t\tDownloading block groups for county: 149\n",
      "\t\tDownloading block groups for county: 071\n",
      "\t\tDownloading block groups for county: 069\n",
      "\t\tDownloading block groups for county: 620\n",
      "\t\tDownloading block groups for county: 540\n",
      "\t\tDownloading block groups for county: 169\n",
      "\t\tDownloading block groups for county: 087\n",
      "\t\tDownloading block groups for county: 550\n",
      "\t\tDownloading block groups for county: 093\n",
      "\t\tDownloading block groups for county: 099\n",
      "\t\tDownloading block groups for county: 085\n",
      "\t\tDownloading block groups for county: 630\n",
      "\t\tDownloading block groups for county: 033\n",
      "\t\tDownloading block groups for county: 131\n",
      "\t\tDownloading block groups for county: 065\n",
      "\t\tDownloading block groups for county: 790\n",
      "\t\tDownloading block groups for county: 135\n",
      "\t\tDownloading block groups for county: 007\n",
      "\t\tDownloading block groups for county: 171\n",
      "\t\tDownloading block groups for county: 145\n",
      "\t\tDownloading block groups for county: 670\n",
      "\t\tDownloading block groups for county: 690\n",
      "\t\tDownloading block groups for county: 029\n",
      "\t\tDownloading block groups for county: 770\n",
      "\t\tDownloading block groups for county: 173\n",
      "\t\tDownloading block groups for county: 650\n",
      "\t\tDownloading block groups for county: 683\n",
      "\t\tDownloading block groups for county: 113\n",
      "\t\tDownloading block groups for county: 161\n",
      "\t\tDownloading block groups for county: 117\n",
      "\t\tDownloading block groups for county: 043\n",
      "\t\tDownloading block groups for county: 019\n",
      "\t\tDownloading block groups for county: 195\n",
      "\t\tDownloading block groups for county: 159\n",
      "\t\tDownloading block groups for county: 193\n",
      "\t\tDownloading block groups for county: 167\n",
      "\t\tDownloading block groups for county: 089\n",
      "\t\tDownloading block groups for county: 163\n",
      "\t\tDownloading block groups for county: 127\n",
      "\t\tDownloading block groups for county: 137\n",
      "\t\tDownloading block groups for county: 047\n",
      "\t\tDownloading block groups for county: 035\n",
      "\t\tDownloading block groups for county: 640\n",
      "\t\tDownloading block groups for county: 009\n",
      "\t\tDownloading block groups for county: 057\n",
      "\t\tDownloading block groups for county: 125\n",
      "\t\tDownloading block groups for county: 720\n",
      "\t\tDownloading block groups for county: 680\n",
      "\t\tDownloading block groups for county: 157\n",
      "\t\tDownloading block groups for county: 001\n",
      "\t\tDownloading block groups for county: 595\n",
      "\t\tDownloading block groups for county: 600\n",
      "\t\tDownloading block groups for county: 191\n",
      "\t\tDownloading block groups for county: 067\n",
      "\t\tDownloading block groups for county: 181\n",
      "\t\tDownloading block groups for county: 185\n",
      "\t\tDownloading block groups for county: 011\n",
      "\t\tDownloading block groups for county: 840\n",
      "\t\tDownloading block groups for county: 027\n",
      "\t\tDownloading block groups for county: 075\n",
      "\t\tDownloading block groups for county: 735\n",
      "\t\tDownloading block groups for county: 685\n",
      "\t\tDownloading block groups for county: 049\n",
      "\t\tDownloading block groups for county: 678\n",
      "\t\tDownloading block groups for county: 520\n",
      "\t\tDownloading block groups for county: 111\n",
      "\t\tDownloading block groups for county: 830\n",
      "\t\tDownloading block groups for county: 097\n",
      "\t\tDownloading block groups for county: 021\n",
      "\t\tDownloading block groups for county: 139\n",
      "\t\tDownloading block groups for county: 105\n",
      "\t\tDownloading block groups for county: 045\n",
      "\t\tDownloading block groups for county: 141\n",
      "\t\tDownloading block groups for county: 051\n",
      "\t\tDownloading block groups for county: 036\n",
      "\t\tDownloading block groups for county: 037\n",
      "\t\tDownloading block groups for county: 530\n",
      "\t\tDownloading block groups for county: 091\n",
      "\tDone!\n"
     ]
    }
   ],
   "source": [
    "        # Code to get the total estimated population from the census files:\n",
    "        api_population = 'B01003_001E'  # http://api.census.gov/data/2015/acs5/variables.html\n",
    "        # NB: this is not the same code in the shapefiles for each block from the 2010\n",
    "        # census, which instead uses 'POP10'.\n",
    "        # Get all the counties' IDs so we can d/l each county's population per\n",
    "        # block group:\n",
    "        def block_group_to_county_geoid(geoid):\n",
    "            return geoid[2:5]\n",
    "        block_groups_df['County'] = block_groups_df['GEOID'].apply(block_group_to_county_geoid)\n",
    "        block_groups_for_state = acs5_population_dir + state + '.json'\n",
    "        try:\n",
    "            print '\\tAttempting to load ACS5 population for block groups by county for:', state\n",
    "            with open(block_groups_for_state, 'r') as infile:\n",
    "                population_df = pd.read_json(infile)\n",
    "        except IOError:\n",
    "            print '\\t\\tNot found on disk...'\n",
    "            counties = block_groups_df['County'].unique()\n",
    "            for county in counties:\n",
    "                print '\\t\\tDownloading block groups for county:', county\n",
    "                url = 'http://api.census.gov/data/' + year + '/acs5?get=NAME,' +\\\n",
    "                    api_population + '&for=block+group:*&in=state:' + \\\n",
    "                    state_fips + '+county:' + county + '&key=' + apikey\n",
    "                # Make a get request to get the population of each county per block\n",
    "                # group:\n",
    "                response = requests.get(url)\n",
    "                try:\n",
    "                    data = response.json()\n",
    "                except ValueError:  # includes simplejson.decoder.JSONDecodeError\n",
    "                    # This is what happens when the server times out etc.\n",
    "                    print 'Decoding JSON has failed. Server response:',\\\n",
    "                        response.status_code\n",
    "                    exit()\n",
    "                # Merge the df to get one huge df for the whole state which contains\n",
    "                # all the group blocks and their populations:\n",
    "                columns = data.pop(0) # columns as list and leaves data intact\n",
    "                try:\n",
    "                    # Try appending to previous population_df:\n",
    "                    population_df = population_df.append(\n",
    "                        pd.DataFrame(data, columns=columns),\n",
    "                        ignore_index=True)\n",
    "                except NameError:\n",
    "                    # There is no previous, so create it:\n",
    "                    population_df = pd.DataFrame(data, columns=columns)\n",
    "            population_df.to_json(block_groups_for_state)\n",
    "        print '\\tDone!'"
   ]
  },
  {
   "cell_type": "code",
   "execution_count": 24,
   "metadata": {
    "collapsed": false
   },
   "outputs": [],
   "source": [
    "    def create_geoid(row):\n",
    "        # GEOID Structure is defined as STATE + COUNTY + TRACT + BLOCK GROUP =\n",
    "        # 2 + 3 + 6 + 1 = 12\n",
    "        # see: https://www.census.gov/geo/reference/geoidentifiers.html\n",
    "        STATE = str(row['state']).zfill(2)  # zero padding to conform to GEOID\n",
    "        COUNTY = str(row['county']).zfill(3)\n",
    "        TRACT = str(row['tract']).zfill(6)\n",
    "        BLOCK_GROUP = str(row['block group'])\n",
    "        assert len(STATE + COUNTY + TRACT + BLOCK_GROUP) == 12\n",
    "        return STATE + COUNTY + TRACT + BLOCK_GROUP\n",
    "    population_df['GEOID'] = population_df.apply(create_geoid, axis=1)\n",
    "    \n",
    "    "
   ]
  },
  {
   "cell_type": "code",
   "execution_count": 25,
   "metadata": {
    "collapsed": false
   },
   "outputs": [
    {
     "data": {
      "text/html": [
       "<div>\n",
       "<table border=\"1\" class=\"dataframe\">\n",
       "  <thead>\n",
       "    <tr style=\"text-align: right;\">\n",
       "      <th></th>\n",
       "      <th>ALAND</th>\n",
       "      <th>AWATER</th>\n",
       "      <th>BLKGRPCE</th>\n",
       "      <th>COUNTYFP</th>\n",
       "      <th>FUNCSTAT</th>\n",
       "      <th>GEOID</th>\n",
       "      <th>INTPTLAT</th>\n",
       "      <th>INTPTLON</th>\n",
       "      <th>MTFCC</th>\n",
       "      <th>NAMELSAD</th>\n",
       "      <th>STATEFP</th>\n",
       "      <th>TRACTCE</th>\n",
       "      <th>geometry</th>\n",
       "      <th>County</th>\n",
       "    </tr>\n",
       "  </thead>\n",
       "  <tbody>\n",
       "    <tr>\n",
       "      <th>0</th>\n",
       "      <td>17318797</td>\n",
       "      <td>29278</td>\n",
       "      <td>4</td>\n",
       "      <td>031</td>\n",
       "      <td>S</td>\n",
       "      <td>510310204034</td>\n",
       "      <td>+37.2893326</td>\n",
       "      <td>-079.2458681</td>\n",
       "      <td>G5030</td>\n",
       "      <td>Block Group 4</td>\n",
       "      <td>51</td>\n",
       "      <td>020403</td>\n",
       "      <td>POLYGON ((-79.282174 37.246022, -79.282145 37....</td>\n",
       "      <td>031</td>\n",
       "    </tr>\n",
       "    <tr>\n",
       "      <th>1</th>\n",
       "      <td>63309955</td>\n",
       "      <td>824092</td>\n",
       "      <td>3</td>\n",
       "      <td>031</td>\n",
       "      <td>S</td>\n",
       "      <td>510310201013</td>\n",
       "      <td>+37.3760611</td>\n",
       "      <td>-079.0241906</td>\n",
       "      <td>G5030</td>\n",
       "      <td>Block Group 3</td>\n",
       "      <td>51</td>\n",
       "      <td>020101</td>\n",
       "      <td>POLYGON ((-79.074242 37.355248, -79.0741939999...</td>\n",
       "      <td>031</td>\n",
       "    </tr>\n",
       "    <tr>\n",
       "      <th>2</th>\n",
       "      <td>33306034</td>\n",
       "      <td>296338</td>\n",
       "      <td>1</td>\n",
       "      <td>031</td>\n",
       "      <td>S</td>\n",
       "      <td>510310206001</td>\n",
       "      <td>+37.1391859</td>\n",
       "      <td>-079.2002246</td>\n",
       "      <td>G5030</td>\n",
       "      <td>Block Group 1</td>\n",
       "      <td>51</td>\n",
       "      <td>020600</td>\n",
       "      <td>POLYGON ((-79.243837 37.123124, -79.243786 37....</td>\n",
       "      <td>031</td>\n",
       "    </tr>\n",
       "    <tr>\n",
       "      <th>3</th>\n",
       "      <td>6130330</td>\n",
       "      <td>25812</td>\n",
       "      <td>1</td>\n",
       "      <td>031</td>\n",
       "      <td>S</td>\n",
       "      <td>510310204011</td>\n",
       "      <td>+37.3318804</td>\n",
       "      <td>-079.2231051</td>\n",
       "      <td>G5030</td>\n",
       "      <td>Block Group 1</td>\n",
       "      <td>51</td>\n",
       "      <td>020401</td>\n",
       "      <td>POLYGON ((-79.24656899999999 37.329217, -79.24...</td>\n",
       "      <td>031</td>\n",
       "    </tr>\n",
       "    <tr>\n",
       "      <th>4</th>\n",
       "      <td>1617719</td>\n",
       "      <td>1918</td>\n",
       "      <td>1</td>\n",
       "      <td>031</td>\n",
       "      <td>S</td>\n",
       "      <td>510310203001</td>\n",
       "      <td>+37.3438080</td>\n",
       "      <td>-079.2417715</td>\n",
       "      <td>G5030</td>\n",
       "      <td>Block Group 1</td>\n",
       "      <td>51</td>\n",
       "      <td>020300</td>\n",
       "      <td>POLYGON ((-79.254682 37.34787499999999, -79.25...</td>\n",
       "      <td>031</td>\n",
       "    </tr>\n",
       "  </tbody>\n",
       "</table>\n",
       "</div>"
      ],
      "text/plain": [
       "      ALAND  AWATER BLKGRPCE COUNTYFP FUNCSTAT         GEOID     INTPTLAT  \\\n",
       "0  17318797   29278        4      031        S  510310204034  +37.2893326   \n",
       "1  63309955  824092        3      031        S  510310201013  +37.3760611   \n",
       "2  33306034  296338        1      031        S  510310206001  +37.1391859   \n",
       "3   6130330   25812        1      031        S  510310204011  +37.3318804   \n",
       "4   1617719    1918        1      031        S  510310203001  +37.3438080   \n",
       "\n",
       "       INTPTLON  MTFCC       NAMELSAD STATEFP TRACTCE  \\\n",
       "0  -079.2458681  G5030  Block Group 4      51  020403   \n",
       "1  -079.0241906  G5030  Block Group 3      51  020101   \n",
       "2  -079.2002246  G5030  Block Group 1      51  020600   \n",
       "3  -079.2231051  G5030  Block Group 1      51  020401   \n",
       "4  -079.2417715  G5030  Block Group 1      51  020300   \n",
       "\n",
       "                                            geometry County  \n",
       "0  POLYGON ((-79.282174 37.246022, -79.282145 37....    031  \n",
       "1  POLYGON ((-79.074242 37.355248, -79.0741939999...    031  \n",
       "2  POLYGON ((-79.243837 37.123124, -79.243786 37....    031  \n",
       "3  POLYGON ((-79.24656899999999 37.329217, -79.24...    031  \n",
       "4  POLYGON ((-79.254682 37.34787499999999, -79.25...    031  "
      ]
     },
     "execution_count": 25,
     "metadata": {},
     "output_type": "execute_result"
    }
   ],
   "source": [
    "block_groups_df.head()"
   ]
  },
  {
   "cell_type": "code",
   "execution_count": 26,
   "metadata": {
    "collapsed": false
   },
   "outputs": [],
   "source": [
    "    block_groups_df = block_groups_df.merge(population_df, on='GEOID')\n",
    "    assert block_groups_df['GEOID'].shape == population_df['GEOID'].shape\n",
    "#     del population_df\n",
    "    # Get rid of other columns, we are just interested in below for each block\n",
    "    # group:\n",
    "    block_groups_df = block_groups_df.loc[:,['GEOID',api_population]]\n",
    "    # We need to calculate the proportion of the populalion of 2010 block group\n",
    "    # that a constituent 2010 block has:\n",
    "    # a. get the total population for each block group from 2010 and associate\n",
    "    # each 2010 block with its total:\n",
    "    blocks_df['POP10'] = pd.to_numeric(blocks_df['POP10'])\n",
    "    blocks_df = blocks_df.join(blocks_df.groupby('Block Group GEOID')[\n",
    "                               'POP10'].sum(), on='Block Group GEOID',\n",
    "                                rsuffix=' for 2010 Block Group')\n",
    "    blocks_df.rename(columns={'POP10 for 2010 Block Group':\\\n",
    "                              'Population for 2010 Block Group'}, inplace=True)"
   ]
  },
  {
   "cell_type": "code",
   "execution_count": 27,
   "metadata": {
    "collapsed": false
   },
   "outputs": [
    {
     "data": {
      "text/html": [
       "<div>\n",
       "<table border=\"1\" class=\"dataframe\">\n",
       "  <thead>\n",
       "    <tr style=\"text-align: right;\">\n",
       "      <th></th>\n",
       "      <th>BLOCKCE</th>\n",
       "      <th>BLOCKID10</th>\n",
       "      <th>COUNTYFP10</th>\n",
       "      <th>HOUSING10</th>\n",
       "      <th>PARTFLG</th>\n",
       "      <th>POP10</th>\n",
       "      <th>STATEFP10</th>\n",
       "      <th>TRACTCE10</th>\n",
       "      <th>geometry</th>\n",
       "      <th>Block Group GEOID</th>\n",
       "      <th>Population for 2010 Block Group</th>\n",
       "    </tr>\n",
       "  </thead>\n",
       "  <tbody>\n",
       "    <tr>\n",
       "      <th>0</th>\n",
       "      <td>1093</td>\n",
       "      <td>510010902001093</td>\n",
       "      <td>001</td>\n",
       "      <td>3</td>\n",
       "      <td>N</td>\n",
       "      <td>6</td>\n",
       "      <td>51</td>\n",
       "      <td>090200</td>\n",
       "      <td>POLYGON ((-75.53995399999999 37.953723, -75.54...</td>\n",
       "      <td>510010902001</td>\n",
       "      <td>867</td>\n",
       "    </tr>\n",
       "    <tr>\n",
       "      <th>1</th>\n",
       "      <td>2161</td>\n",
       "      <td>510010904002161</td>\n",
       "      <td>001</td>\n",
       "      <td>0</td>\n",
       "      <td>N</td>\n",
       "      <td>0</td>\n",
       "      <td>51</td>\n",
       "      <td>090400</td>\n",
       "      <td>POLYGON ((-75.55210699999999 37.768716, -75.55...</td>\n",
       "      <td>510010904002</td>\n",
       "      <td>1487</td>\n",
       "    </tr>\n",
       "    <tr>\n",
       "      <th>2</th>\n",
       "      <td>3076</td>\n",
       "      <td>510010904003076</td>\n",
       "      <td>001</td>\n",
       "      <td>4</td>\n",
       "      <td>N</td>\n",
       "      <td>9</td>\n",
       "      <td>51</td>\n",
       "      <td>090400</td>\n",
       "      <td>POLYGON ((-75.631759 37.752436, -75.632374 37....</td>\n",
       "      <td>510010904003</td>\n",
       "      <td>2036</td>\n",
       "    </tr>\n",
       "    <tr>\n",
       "      <th>3</th>\n",
       "      <td>2067</td>\n",
       "      <td>510010908002067</td>\n",
       "      <td>001</td>\n",
       "      <td>0</td>\n",
       "      <td>N</td>\n",
       "      <td>0</td>\n",
       "      <td>51</td>\n",
       "      <td>090800</td>\n",
       "      <td>POLYGON ((-75.80591299999999 37.466697, -75.80...</td>\n",
       "      <td>510010908002</td>\n",
       "      <td>1598</td>\n",
       "    </tr>\n",
       "    <tr>\n",
       "      <th>4</th>\n",
       "      <td>2022</td>\n",
       "      <td>510010908002022</td>\n",
       "      <td>001</td>\n",
       "      <td>0</td>\n",
       "      <td>N</td>\n",
       "      <td>0</td>\n",
       "      <td>51</td>\n",
       "      <td>090800</td>\n",
       "      <td>POLYGON ((-75.71920899999999 37.495485, -75.71...</td>\n",
       "      <td>510010908002</td>\n",
       "      <td>1598</td>\n",
       "    </tr>\n",
       "  </tbody>\n",
       "</table>\n",
       "</div>"
      ],
      "text/plain": [
       "  BLOCKCE        BLOCKID10 COUNTYFP10  HOUSING10 PARTFLG  POP10 STATEFP10  \\\n",
       "0    1093  510010902001093        001          3       N      6        51   \n",
       "1    2161  510010904002161        001          0       N      0        51   \n",
       "2    3076  510010904003076        001          4       N      9        51   \n",
       "3    2067  510010908002067        001          0       N      0        51   \n",
       "4    2022  510010908002022        001          0       N      0        51   \n",
       "\n",
       "  TRACTCE10                                           geometry  \\\n",
       "0    090200  POLYGON ((-75.53995399999999 37.953723, -75.54...   \n",
       "1    090400  POLYGON ((-75.55210699999999 37.768716, -75.55...   \n",
       "2    090400  POLYGON ((-75.631759 37.752436, -75.632374 37....   \n",
       "3    090800  POLYGON ((-75.80591299999999 37.466697, -75.80...   \n",
       "4    090800  POLYGON ((-75.71920899999999 37.495485, -75.71...   \n",
       "\n",
       "  Block Group GEOID  Population for 2010 Block Group  \n",
       "0      510010902001                              867  \n",
       "1      510010904002                             1487  \n",
       "2      510010904003                             2036  \n",
       "3      510010908002                             1598  \n",
       "4      510010908002                             1598  "
      ]
     },
     "execution_count": 27,
     "metadata": {},
     "output_type": "execute_result"
    }
   ],
   "source": [
    "blocks_df.head()"
   ]
  },
  {
   "cell_type": "code",
   "execution_count": 28,
   "metadata": {
    "collapsed": false
   },
   "outputs": [],
   "source": [
    "\n",
    "# b. get the ratio of block population to respective block group\n",
    "# population:\n",
    "def calculate_ratio(row):\n",
    "    try:\n",
    "        return row['POP10'] / row['Population for 2010 Block Group']\n",
    "    except:\n",
    "        return row['Population for 2010 Block Group']\n",
    "blocks_df['Population Ratio'] = blocks_df.apply(calculate_ratio, axis=1)\n",
    "# c. get the population for the 2015 ACS5 block groups and associate them\n",
    "# with their respective blocks:\n",
    "blocks_df = pd.merge(blocks_df, block_groups_df,\n",
    "                     left_on = 'Block Group GEOID',\n",
    "                     right_on = 'GEOID')\n",
    "blocks_df.rename(columns={api_population:\\\n",
    "                    'Population for ' + year + ' Block Group'},\n",
    "                 inplace=True)\n",
    "assert (blocks_df['GEOID'] == blocks_df['Block Group GEOID']).all()\n",
    "del blocks_df['GEOID']\n",
    "blocks_df['Population for ' + year + ' Block Group'] =\\\n",
    "    pd.to_numeric(blocks_df['Population for ' + year + ' Block Group'])\n",
    "assert block_groups_df[api_population].sum() > blocks_df['POP10'].sum()\n",
    "# assert blocks_df['Population for 2010 Block Group'].sum() <\\\n",
    "    # blocks_df['Population for ' + year + ' Block Group'].sum()\n",
    "#     del block_groups_df # we do not need this anymore\n",
    "# d. calculate the predicted population for the block based on the above:\n",
    "blocks_df[population] = blocks_df['Population Ratio'] *\\\n",
    "    blocks_df['Population for ' + year + ' Block Group']\n",
    "# Calculate the centroids for each block required for clustering:\n",
    "def get_x(p): return p.x\n",
    "def get_y(p): return p.y\n",
    "blocks_df['Centroid Longitude'] = blocks_df['geometry'].centroid.apply(get_x)\n",
    "blocks_df['Centroid Latitude'] = blocks_df['geometry'].centroid.apply(get_y)\n",
    "# Find which congressional district each block group for this state belongs\n",
    "#  to. This is done using the block assignments files downloaded from:\n",
    "#  https://www.census.gov/geo/maps-data/data/baf.html\n",
    "# print '\\tCalculating congressional districts for:', state\n",
    "block_assignments_df = pd.read_csv(block_assignments_dir +\\\n",
    "    'National_CD115.txt', dtype={\"BLOCKID\": str, \"CD115\": str})\n",
    "block_assignments_df.rename(columns={'BLOCKID': 'GEOID'}, inplace=True)\n",
    "blocks_df.rename(columns={'BLOCKID10': 'GEOID'}, inplace=True)\n",
    "blocks_df = blocks_df.merge(block_assignments_df, how='left',\n",
    "    indicator=True)\n",
    "assert blocks_df['_merge'].unique() == ['both']\n",
    "del blocks_df['_merge']\n",
    "del block_assignments_df\n",
    "# We are done now, check that columns are what we expect before we remove\n",
    "# useless ones:\n",
    "assert list(blocks_df) ==\\\n",
    "    [u'BLOCKCE', 'GEOID', u'COUNTYFP10', u'HOUSING10', u'PARTFLG', u'POP10',\n",
    "     u'STATEFP10', u'TRACTCE10', 'geometry', 'Block Group GEOID',\n",
    "     'Population for 2010 Block Group', 'Population Ratio',\n",
    "     'Population for 2015 Block Group', 'Predicted 2015 Population',\n",
    "     'Centroid Longitude', 'Centroid Latitude', 'CD115']\n"
   ]
  },
  {
   "cell_type": "code",
   "execution_count": 29,
   "metadata": {
    "collapsed": false
   },
   "outputs": [
    {
     "data": {
      "text/html": [
       "<div>\n",
       "<table border=\"1\" class=\"dataframe\">\n",
       "  <thead>\n",
       "    <tr style=\"text-align: right;\">\n",
       "      <th></th>\n",
       "      <th>BLOCKCE</th>\n",
       "      <th>GEOID</th>\n",
       "      <th>COUNTYFP10</th>\n",
       "      <th>HOUSING10</th>\n",
       "      <th>PARTFLG</th>\n",
       "      <th>POP10</th>\n",
       "      <th>STATEFP10</th>\n",
       "      <th>TRACTCE10</th>\n",
       "      <th>geometry</th>\n",
       "      <th>Block Group GEOID</th>\n",
       "      <th>Population for 2010 Block Group</th>\n",
       "      <th>Population Ratio</th>\n",
       "      <th>Population for 2015 Block Group</th>\n",
       "      <th>Predicted 2015 Population</th>\n",
       "      <th>Centroid Longitude</th>\n",
       "      <th>Centroid Latitude</th>\n",
       "      <th>CD115</th>\n",
       "    </tr>\n",
       "  </thead>\n",
       "  <tbody>\n",
       "    <tr>\n",
       "      <th>0</th>\n",
       "      <td>1093</td>\n",
       "      <td>510010902001093</td>\n",
       "      <td>001</td>\n",
       "      <td>3</td>\n",
       "      <td>N</td>\n",
       "      <td>6</td>\n",
       "      <td>51</td>\n",
       "      <td>090200</td>\n",
       "      <td>POLYGON ((-75.53995399999999 37.953723, -75.54...</td>\n",
       "      <td>510010902001</td>\n",
       "      <td>867</td>\n",
       "      <td>0.006920</td>\n",
       "      <td>691</td>\n",
       "      <td>4.782007</td>\n",
       "      <td>-75.546774</td>\n",
       "      <td>37.954116</td>\n",
       "      <td>02</td>\n",
       "    </tr>\n",
       "    <tr>\n",
       "      <th>1</th>\n",
       "      <td>1013</td>\n",
       "      <td>510010902001013</td>\n",
       "      <td>001</td>\n",
       "      <td>0</td>\n",
       "      <td>N</td>\n",
       "      <td>0</td>\n",
       "      <td>51</td>\n",
       "      <td>090200</td>\n",
       "      <td>POLYGON ((-75.532816 37.988859, -75.5329529999...</td>\n",
       "      <td>510010902001</td>\n",
       "      <td>867</td>\n",
       "      <td>0.000000</td>\n",
       "      <td>691</td>\n",
       "      <td>0.000000</td>\n",
       "      <td>-75.533408</td>\n",
       "      <td>37.989547</td>\n",
       "      <td>02</td>\n",
       "    </tr>\n",
       "    <tr>\n",
       "      <th>2</th>\n",
       "      <td>1012</td>\n",
       "      <td>510010902001012</td>\n",
       "      <td>001</td>\n",
       "      <td>5</td>\n",
       "      <td>N</td>\n",
       "      <td>6</td>\n",
       "      <td>51</td>\n",
       "      <td>090200</td>\n",
       "      <td>POLYGON ((-75.529713 37.984267, -75.5298449999...</td>\n",
       "      <td>510010902001</td>\n",
       "      <td>867</td>\n",
       "      <td>0.006920</td>\n",
       "      <td>691</td>\n",
       "      <td>4.782007</td>\n",
       "      <td>-75.530457</td>\n",
       "      <td>37.991878</td>\n",
       "      <td>02</td>\n",
       "    </tr>\n",
       "    <tr>\n",
       "      <th>3</th>\n",
       "      <td>1045</td>\n",
       "      <td>510010902001045</td>\n",
       "      <td>001</td>\n",
       "      <td>1</td>\n",
       "      <td>N</td>\n",
       "      <td>1</td>\n",
       "      <td>51</td>\n",
       "      <td>090200</td>\n",
       "      <td>POLYGON ((-75.571759 37.989895, -75.5718679999...</td>\n",
       "      <td>510010902001</td>\n",
       "      <td>867</td>\n",
       "      <td>0.001153</td>\n",
       "      <td>691</td>\n",
       "      <td>0.797001</td>\n",
       "      <td>-75.576052</td>\n",
       "      <td>37.991432</td>\n",
       "      <td>02</td>\n",
       "    </tr>\n",
       "    <tr>\n",
       "      <th>4</th>\n",
       "      <td>1030</td>\n",
       "      <td>510010902001030</td>\n",
       "      <td>001</td>\n",
       "      <td>0</td>\n",
       "      <td>N</td>\n",
       "      <td>0</td>\n",
       "      <td>51</td>\n",
       "      <td>090200</td>\n",
       "      <td>POLYGON ((-75.54496899999999 37.981008, -75.54...</td>\n",
       "      <td>510010902001</td>\n",
       "      <td>867</td>\n",
       "      <td>0.000000</td>\n",
       "      <td>691</td>\n",
       "      <td>0.000000</td>\n",
       "      <td>-75.545360</td>\n",
       "      <td>37.983905</td>\n",
       "      <td>02</td>\n",
       "    </tr>\n",
       "  </tbody>\n",
       "</table>\n",
       "</div>"
      ],
      "text/plain": [
       "  BLOCKCE            GEOID COUNTYFP10  HOUSING10 PARTFLG  POP10 STATEFP10  \\\n",
       "0    1093  510010902001093        001          3       N      6        51   \n",
       "1    1013  510010902001013        001          0       N      0        51   \n",
       "2    1012  510010902001012        001          5       N      6        51   \n",
       "3    1045  510010902001045        001          1       N      1        51   \n",
       "4    1030  510010902001030        001          0       N      0        51   \n",
       "\n",
       "  TRACTCE10                                           geometry  \\\n",
       "0    090200  POLYGON ((-75.53995399999999 37.953723, -75.54...   \n",
       "1    090200  POLYGON ((-75.532816 37.988859, -75.5329529999...   \n",
       "2    090200  POLYGON ((-75.529713 37.984267, -75.5298449999...   \n",
       "3    090200  POLYGON ((-75.571759 37.989895, -75.5718679999...   \n",
       "4    090200  POLYGON ((-75.54496899999999 37.981008, -75.54...   \n",
       "\n",
       "  Block Group GEOID  Population for 2010 Block Group  Population Ratio  \\\n",
       "0      510010902001                              867          0.006920   \n",
       "1      510010902001                              867          0.000000   \n",
       "2      510010902001                              867          0.006920   \n",
       "3      510010902001                              867          0.001153   \n",
       "4      510010902001                              867          0.000000   \n",
       "\n",
       "   Population for 2015 Block Group  Predicted 2015 Population  \\\n",
       "0                              691                   4.782007   \n",
       "1                              691                   0.000000   \n",
       "2                              691                   4.782007   \n",
       "3                              691                   0.797001   \n",
       "4                              691                   0.000000   \n",
       "\n",
       "   Centroid Longitude  Centroid Latitude CD115  \n",
       "0          -75.546774          37.954116    02  \n",
       "1          -75.533408          37.989547    02  \n",
       "2          -75.530457          37.991878    02  \n",
       "3          -75.576052          37.991432    02  \n",
       "4          -75.545360          37.983905    02  "
      ]
     },
     "execution_count": 29,
     "metadata": {},
     "output_type": "execute_result"
    }
   ],
   "source": [
    "blocks_df.head()"
   ]
  },
  {
   "cell_type": "code",
   "execution_count": 30,
   "metadata": {
    "collapsed": false
   },
   "outputs": [
    {
     "data": {
      "text/html": [
       "<div>\n",
       "<table border=\"1\" class=\"dataframe\">\n",
       "  <thead>\n",
       "    <tr style=\"text-align: right;\">\n",
       "      <th></th>\n",
       "      <th>ALAND</th>\n",
       "      <th>AWATER</th>\n",
       "      <th>BLKGRPCE</th>\n",
       "      <th>COUNTYFP</th>\n",
       "      <th>FUNCSTAT</th>\n",
       "      <th>GEOID</th>\n",
       "      <th>INTPTLAT</th>\n",
       "      <th>INTPTLON</th>\n",
       "      <th>MTFCC</th>\n",
       "      <th>NAMELSAD</th>\n",
       "      <th>STATEFP</th>\n",
       "      <th>TRACTCE</th>\n",
       "      <th>geometry</th>\n",
       "    </tr>\n",
       "  </thead>\n",
       "  <tbody>\n",
       "    <tr>\n",
       "      <th>2825</th>\n",
       "      <td>5153425</td>\n",
       "      <td>4049</td>\n",
       "      <td>4</td>\n",
       "      <td>019</td>\n",
       "      <td>S</td>\n",
       "      <td>510190501004</td>\n",
       "      <td>+37.3305215</td>\n",
       "      <td>-079.5359620</td>\n",
       "      <td>G5030</td>\n",
       "      <td>Block Group 4</td>\n",
       "      <td>51</td>\n",
       "      <td>050100</td>\n",
       "      <td>POLYGON ((-79.55945299999999 37.33933, -79.559...</td>\n",
       "    </tr>\n",
       "    <tr>\n",
       "      <th>2826</th>\n",
       "      <td>3834614</td>\n",
       "      <td>34866</td>\n",
       "      <td>5</td>\n",
       "      <td>019</td>\n",
       "      <td>S</td>\n",
       "      <td>510190501005</td>\n",
       "      <td>+37.3306886</td>\n",
       "      <td>-079.5069523</td>\n",
       "      <td>G5030</td>\n",
       "      <td>Block Group 5</td>\n",
       "      <td>51</td>\n",
       "      <td>050100</td>\n",
       "      <td>POLYGON ((-79.52344599999999 37.334641, -79.52...</td>\n",
       "    </tr>\n",
       "    <tr>\n",
       "      <th>2827</th>\n",
       "      <td>2881842</td>\n",
       "      <td>8160</td>\n",
       "      <td>1</td>\n",
       "      <td>019</td>\n",
       "      <td>S</td>\n",
       "      <td>510190501001</td>\n",
       "      <td>+37.3426350</td>\n",
       "      <td>-079.5064689</td>\n",
       "      <td>G5030</td>\n",
       "      <td>Block Group 1</td>\n",
       "      <td>51</td>\n",
       "      <td>050100</td>\n",
       "      <td>POLYGON ((-79.52292 37.33595, -79.522815999999...</td>\n",
       "    </tr>\n",
       "    <tr>\n",
       "      <th>2823</th>\n",
       "      <td>3537683</td>\n",
       "      <td>6596</td>\n",
       "      <td>2</td>\n",
       "      <td>019</td>\n",
       "      <td>S</td>\n",
       "      <td>510190501002</td>\n",
       "      <td>+37.3485833</td>\n",
       "      <td>-079.5168720</td>\n",
       "      <td>G5030</td>\n",
       "      <td>Block Group 2</td>\n",
       "      <td>51</td>\n",
       "      <td>050100</td>\n",
       "      <td>POLYGON ((-79.53537299999999 37.35531599999999...</td>\n",
       "    </tr>\n",
       "    <tr>\n",
       "      <th>2824</th>\n",
       "      <td>2392596</td>\n",
       "      <td>7647</td>\n",
       "      <td>3</td>\n",
       "      <td>019</td>\n",
       "      <td>S</td>\n",
       "      <td>510190501003</td>\n",
       "      <td>+37.3452985</td>\n",
       "      <td>-079.5380822</td>\n",
       "      <td>G5030</td>\n",
       "      <td>Block Group 3</td>\n",
       "      <td>51</td>\n",
       "      <td>050100</td>\n",
       "      <td>POLYGON ((-79.55565 37.344404, -79.555589 37.3...</td>\n",
       "    </tr>\n",
       "  </tbody>\n",
       "</table>\n",
       "</div>"
      ],
      "text/plain": [
       "        ALAND  AWATER BLKGRPCE COUNTYFP FUNCSTAT         GEOID     INTPTLAT  \\\n",
       "2825  5153425    4049        4      019        S  510190501004  +37.3305215   \n",
       "2826  3834614   34866        5      019        S  510190501005  +37.3306886   \n",
       "2827  2881842    8160        1      019        S  510190501001  +37.3426350   \n",
       "2823  3537683    6596        2      019        S  510190501002  +37.3485833   \n",
       "2824  2392596    7647        3      019        S  510190501003  +37.3452985   \n",
       "\n",
       "          INTPTLON  MTFCC       NAMELSAD STATEFP TRACTCE  \\\n",
       "2825  -079.5359620  G5030  Block Group 4      51  050100   \n",
       "2826  -079.5069523  G5030  Block Group 5      51  050100   \n",
       "2827  -079.5064689  G5030  Block Group 1      51  050100   \n",
       "2823  -079.5168720  G5030  Block Group 2      51  050100   \n",
       "2824  -079.5380822  G5030  Block Group 3      51  050100   \n",
       "\n",
       "                                               geometry  \n",
       "2825  POLYGON ((-79.55945299999999 37.33933, -79.559...  \n",
       "2826  POLYGON ((-79.52344599999999 37.334641, -79.52...  \n",
       "2827  POLYGON ((-79.52292 37.33595, -79.522815999999...  \n",
       "2823  POLYGON ((-79.53537299999999 37.35531599999999...  \n",
       "2824  POLYGON ((-79.55565 37.344404, -79.555589 37.3...  "
      ]
     },
     "execution_count": 30,
     "metadata": {},
     "output_type": "execute_result"
    }
   ],
   "source": [
    "lost_block_groups.head()"
   ]
  },
  {
   "cell_type": "code",
   "execution_count": 31,
   "metadata": {
    "collapsed": false
   },
   "outputs": [],
   "source": [
    "\n",
    "    # Get rid of colums we do not need:\n",
    "blocks_df = blocks_df.loc[:,['GEOID', 'CD115', 'geometry',\n",
    "                                 'Predicted 2015 Population',\n",
    "                                 'Centroid Longitude', 'Centroid Latitude']]"
   ]
  },
  {
   "cell_type": "code",
   "execution_count": 32,
   "metadata": {
    "collapsed": false
   },
   "outputs": [
    {
     "data": {
      "text/html": [
       "<div>\n",
       "<table border=\"1\" class=\"dataframe\">\n",
       "  <thead>\n",
       "    <tr style=\"text-align: right;\">\n",
       "      <th></th>\n",
       "      <th>GEOID</th>\n",
       "      <th>CD115</th>\n",
       "      <th>geometry</th>\n",
       "      <th>Predicted 2015 Population</th>\n",
       "      <th>Centroid Longitude</th>\n",
       "      <th>Centroid Latitude</th>\n",
       "    </tr>\n",
       "  </thead>\n",
       "  <tbody>\n",
       "    <tr>\n",
       "      <th>0</th>\n",
       "      <td>510010902001093</td>\n",
       "      <td>02</td>\n",
       "      <td>POLYGON ((-75.53995399999999 37.953723, -75.54...</td>\n",
       "      <td>4.782007</td>\n",
       "      <td>-75.546774</td>\n",
       "      <td>37.954116</td>\n",
       "    </tr>\n",
       "    <tr>\n",
       "      <th>1</th>\n",
       "      <td>510010902001013</td>\n",
       "      <td>02</td>\n",
       "      <td>POLYGON ((-75.532816 37.988859, -75.5329529999...</td>\n",
       "      <td>0.000000</td>\n",
       "      <td>-75.533408</td>\n",
       "      <td>37.989547</td>\n",
       "    </tr>\n",
       "    <tr>\n",
       "      <th>2</th>\n",
       "      <td>510010902001012</td>\n",
       "      <td>02</td>\n",
       "      <td>POLYGON ((-75.529713 37.984267, -75.5298449999...</td>\n",
       "      <td>4.782007</td>\n",
       "      <td>-75.530457</td>\n",
       "      <td>37.991878</td>\n",
       "    </tr>\n",
       "    <tr>\n",
       "      <th>3</th>\n",
       "      <td>510010902001045</td>\n",
       "      <td>02</td>\n",
       "      <td>POLYGON ((-75.571759 37.989895, -75.5718679999...</td>\n",
       "      <td>0.797001</td>\n",
       "      <td>-75.576052</td>\n",
       "      <td>37.991432</td>\n",
       "    </tr>\n",
       "    <tr>\n",
       "      <th>4</th>\n",
       "      <td>510010902001030</td>\n",
       "      <td>02</td>\n",
       "      <td>POLYGON ((-75.54496899999999 37.981008, -75.54...</td>\n",
       "      <td>0.000000</td>\n",
       "      <td>-75.545360</td>\n",
       "      <td>37.983905</td>\n",
       "    </tr>\n",
       "  </tbody>\n",
       "</table>\n",
       "</div>"
      ],
      "text/plain": [
       "             GEOID CD115                                           geometry  \\\n",
       "0  510010902001093    02  POLYGON ((-75.53995399999999 37.953723, -75.54...   \n",
       "1  510010902001013    02  POLYGON ((-75.532816 37.988859, -75.5329529999...   \n",
       "2  510010902001012    02  POLYGON ((-75.529713 37.984267, -75.5298449999...   \n",
       "3  510010902001045    02  POLYGON ((-75.571759 37.989895, -75.5718679999...   \n",
       "4  510010902001030    02  POLYGON ((-75.54496899999999 37.981008, -75.54...   \n",
       "\n",
       "   Predicted 2015 Population  Centroid Longitude  Centroid Latitude  \n",
       "0                   4.782007          -75.546774          37.954116  \n",
       "1                   0.000000          -75.533408          37.989547  \n",
       "2                   4.782007          -75.530457          37.991878  \n",
       "3                   0.797001          -75.576052          37.991432  \n",
       "4                   0.000000          -75.545360          37.983905  "
      ]
     },
     "execution_count": 32,
     "metadata": {},
     "output_type": "execute_result"
    }
   ],
   "source": [
    "blocks_df.head()"
   ]
  },
  {
   "cell_type": "code",
   "execution_count": 33,
   "metadata": {
    "collapsed": false
   },
   "outputs": [
    {
     "name": "stdout",
     "output_type": "stream",
     "text": [
      "Saving file...\n",
      "Done!\n"
     ]
    }
   ],
   "source": [
    "\n",
    "# Give columns better names:\n",
    "blocks_df.rename(columns={'CD115': 'Congressional District',\n",
    "                          'Centroid Longitude': 'Centroid Longitude',\n",
    "                          'Centroid Latitude': 'Centroid Latitude'},\n",
    "                  inplace=True)\n",
    "blocks_df['Congressional District'] = blocks_df['Congressional District'].apply(str)\n",
    "blocks_df['Centroid Longitude'] = blocks_df['Centroid Longitude'].apply(float)\n",
    "blocks_df['Centroid Latitude'] = blocks_df['Centroid Latitude'].apply(float)\n",
    "blocks_df['Predicted 2015 Population'] = blocks_df['Predicted 2015 Population'].apply(float)\n",
    "# We are finally done, save the file!\n",
    "print 'Saving file...'\n",
    "blocks_df = gpd.GeoDataFrame(blocks_df)\n",
    "with open(blocks_geojson_filename, 'w') as outfile:\n",
    "    outfile.write(blocks_df.to_json())\n",
    "# In the rest of this code the block-wise dataframe with predicted\n",
    "# populations is called just df:\n",
    "df = blocks_df\n",
    "del blocks_df\n",
    "print 'Done!'"
   ]
  },
  {
   "cell_type": "code",
   "execution_count": 34,
   "metadata": {
    "collapsed": false
   },
   "outputs": [],
   "source": [
    "# del lost_block_groups['ALAND']\n",
    "# del lost_block_groups['AWATER']\n",
    "# del lost_block_groups['BLKGRPCE']\n",
    "\n",
    "population_df.head()\n",
    "lost_block_groups = lost_block_groups.merge(population_df, on='GEOID')"
   ]
  },
  {
   "cell_type": "code",
   "execution_count": 35,
   "metadata": {
    "collapsed": false
   },
   "outputs": [],
   "source": [
    "lost_block_groups.head()\n",
    "lost_block_groups['Centroid Longitude'] = lost_block_groups['geometry'].centroid.apply(get_x)\n",
    "    \n",
    "lost_block_groups['Centroid Latitude'] = lost_block_groups['geometry'].centroid.apply(get_y)"
   ]
  },
  {
   "cell_type": "code",
   "execution_count": 36,
   "metadata": {
    "collapsed": false
   },
   "outputs": [
    {
     "data": {
      "text/html": [
       "<div>\n",
       "<table border=\"1\" class=\"dataframe\">\n",
       "  <thead>\n",
       "    <tr style=\"text-align: right;\">\n",
       "      <th></th>\n",
       "      <th>GEOID</th>\n",
       "      <th>geometry</th>\n",
       "      <th>Predicted 2015 Population</th>\n",
       "      <th>Centroid Longitude</th>\n",
       "      <th>Centroid Latitude</th>\n",
       "    </tr>\n",
       "  </thead>\n",
       "  <tbody>\n",
       "    <tr>\n",
       "      <th>0</th>\n",
       "      <td>510190501004</td>\n",
       "      <td>POLYGON ((-79.55945299999999 37.33933, -79.559...</td>\n",
       "      <td>2216</td>\n",
       "      <td>-79.535365</td>\n",
       "      <td>37.330213</td>\n",
       "    </tr>\n",
       "    <tr>\n",
       "      <th>1</th>\n",
       "      <td>510190501005</td>\n",
       "      <td>POLYGON ((-79.52344599999999 37.334641, -79.52...</td>\n",
       "      <td>1198</td>\n",
       "      <td>-79.506286</td>\n",
       "      <td>37.329718</td>\n",
       "    </tr>\n",
       "    <tr>\n",
       "      <th>2</th>\n",
       "      <td>510190501001</td>\n",
       "      <td>POLYGON ((-79.52292 37.33595, -79.522815999999...</td>\n",
       "      <td>853</td>\n",
       "      <td>-79.503950</td>\n",
       "      <td>37.342783</td>\n",
       "    </tr>\n",
       "    <tr>\n",
       "      <th>3</th>\n",
       "      <td>510190501002</td>\n",
       "      <td>POLYGON ((-79.53537299999999 37.35531599999999...</td>\n",
       "      <td>1295</td>\n",
       "      <td>-79.516659</td>\n",
       "      <td>37.349142</td>\n",
       "    </tr>\n",
       "    <tr>\n",
       "      <th>4</th>\n",
       "      <td>510190501003</td>\n",
       "      <td>POLYGON ((-79.55565 37.344404, -79.555589 37.3...</td>\n",
       "      <td>650</td>\n",
       "      <td>-79.535087</td>\n",
       "      <td>37.344807</td>\n",
       "    </tr>\n",
       "  </tbody>\n",
       "</table>\n",
       "</div>"
      ],
      "text/plain": [
       "          GEOID                                           geometry  \\\n",
       "0  510190501004  POLYGON ((-79.55945299999999 37.33933, -79.559...   \n",
       "1  510190501005  POLYGON ((-79.52344599999999 37.334641, -79.52...   \n",
       "2  510190501001  POLYGON ((-79.52292 37.33595, -79.522815999999...   \n",
       "3  510190501002  POLYGON ((-79.53537299999999 37.35531599999999...   \n",
       "4  510190501003  POLYGON ((-79.55565 37.344404, -79.555589 37.3...   \n",
       "\n",
       "  Predicted 2015 Population  Centroid Longitude  Centroid Latitude  \n",
       "0                      2216          -79.535365          37.330213  \n",
       "1                      1198          -79.506286          37.329718  \n",
       "2                       853          -79.503950          37.342783  \n",
       "3                      1295          -79.516659          37.349142  \n",
       "4                       650          -79.535087          37.344807  "
      ]
     },
     "execution_count": 36,
     "metadata": {},
     "output_type": "execute_result"
    }
   ],
   "source": [
    "lost_block_groups.rename(columns={'B01003_001E': 'Predicted 2015 Population'}, inplace=True)\n",
    "\n",
    "lost_block_groups = lost_block_groups[['GEOID', 'geometry', 'Predicted 2015 Population', 'Centroid Longitude', 'Centroid Latitude']]\n",
    "lost_block_groups.head()\n"
   ]
  },
  {
   "cell_type": "code",
   "execution_count": 37,
   "metadata": {
    "collapsed": false
   },
   "outputs": [
    {
     "data": {
      "text/html": [
       "<div>\n",
       "<table border=\"1\" class=\"dataframe\">\n",
       "  <thead>\n",
       "    <tr style=\"text-align: right;\">\n",
       "      <th></th>\n",
       "      <th>GEOID</th>\n",
       "      <th>Congressional District</th>\n",
       "      <th>geometry</th>\n",
       "      <th>Predicted 2015 Population</th>\n",
       "      <th>Centroid Longitude</th>\n",
       "      <th>Centroid Latitude</th>\n",
       "    </tr>\n",
       "  </thead>\n",
       "  <tbody>\n",
       "    <tr>\n",
       "      <th>285510</th>\n",
       "      <td>518400001002003</td>\n",
       "      <td>10</td>\n",
       "      <td>POLYGON ((-78.158661 39.191404, -78.1592579999...</td>\n",
       "      <td>47.586207</td>\n",
       "      <td>-78.158163</td>\n",
       "      <td>39.191682</td>\n",
       "    </tr>\n",
       "    <tr>\n",
       "      <th>285511</th>\n",
       "      <td>518400001002005</td>\n",
       "      <td>10</td>\n",
       "      <td>POLYGON ((-78.157359 39.188891, -78.157039 39....</td>\n",
       "      <td>63.448276</td>\n",
       "      <td>-78.156567</td>\n",
       "      <td>39.189882</td>\n",
       "    </tr>\n",
       "    <tr>\n",
       "      <th>285512</th>\n",
       "      <td>518400001002013</td>\n",
       "      <td>10</td>\n",
       "      <td>POLYGON ((-78.1563 39.189602, -78.156224999999...</td>\n",
       "      <td>216.781609</td>\n",
       "      <td>-78.155209</td>\n",
       "      <td>39.190629</td>\n",
       "    </tr>\n",
       "    <tr>\n",
       "      <th>285513</th>\n",
       "      <td>518400001002006</td>\n",
       "      <td>10</td>\n",
       "      <td>POLYGON ((-78.157912 39.191235, -78.156976 39....</td>\n",
       "      <td>37.011494</td>\n",
       "      <td>-78.157272</td>\n",
       "      <td>39.190543</td>\n",
       "    </tr>\n",
       "    <tr>\n",
       "      <th>285514</th>\n",
       "      <td>518400001002004</td>\n",
       "      <td>10</td>\n",
       "      <td>POLYGON ((-78.159043 39.193009, -78.158164 39....</td>\n",
       "      <td>334.160920</td>\n",
       "      <td>-78.155957</td>\n",
       "      <td>39.193046</td>\n",
       "    </tr>\n",
       "  </tbody>\n",
       "</table>\n",
       "</div>"
      ],
      "text/plain": [
       "                  GEOID Congressional District  \\\n",
       "285510  518400001002003                     10   \n",
       "285511  518400001002005                     10   \n",
       "285512  518400001002013                     10   \n",
       "285513  518400001002006                     10   \n",
       "285514  518400001002004                     10   \n",
       "\n",
       "                                                 geometry  \\\n",
       "285510  POLYGON ((-78.158661 39.191404, -78.1592579999...   \n",
       "285511  POLYGON ((-78.157359 39.188891, -78.157039 39....   \n",
       "285512  POLYGON ((-78.1563 39.189602, -78.156224999999...   \n",
       "285513  POLYGON ((-78.157912 39.191235, -78.156976 39....   \n",
       "285514  POLYGON ((-78.159043 39.193009, -78.158164 39....   \n",
       "\n",
       "        Predicted 2015 Population  Centroid Longitude  Centroid Latitude  \n",
       "285510                  47.586207          -78.158163          39.191682  \n",
       "285511                  63.448276          -78.156567          39.189882  \n",
       "285512                 216.781609          -78.155209          39.190629  \n",
       "285513                  37.011494          -78.157272          39.190543  \n",
       "285514                 334.160920          -78.155957          39.193046  "
      ]
     },
     "execution_count": 37,
     "metadata": {},
     "output_type": "execute_result"
    }
   ],
   "source": [
    "df.tail()"
   ]
  },
  {
   "cell_type": "code",
   "execution_count": 38,
   "metadata": {
    "collapsed": false
   },
   "outputs": [
    {
     "data": {
      "text/html": [
       "<div>\n",
       "<table border=\"1\" class=\"dataframe\">\n",
       "  <thead>\n",
       "    <tr style=\"text-align: right;\">\n",
       "      <th></th>\n",
       "      <th>GEOID</th>\n",
       "      <th>B01003_001E</th>\n",
       "    </tr>\n",
       "  </thead>\n",
       "  <tbody>\n",
       "    <tr>\n",
       "      <th>0</th>\n",
       "      <td>510310204034</td>\n",
       "      <td>916</td>\n",
       "    </tr>\n",
       "    <tr>\n",
       "      <th>1</th>\n",
       "      <td>510310201013</td>\n",
       "      <td>2390</td>\n",
       "    </tr>\n",
       "    <tr>\n",
       "      <th>2</th>\n",
       "      <td>510310206001</td>\n",
       "      <td>1037</td>\n",
       "    </tr>\n",
       "    <tr>\n",
       "      <th>3</th>\n",
       "      <td>510310204011</td>\n",
       "      <td>3504</td>\n",
       "    </tr>\n",
       "    <tr>\n",
       "      <th>4</th>\n",
       "      <td>510310203001</td>\n",
       "      <td>960</td>\n",
       "    </tr>\n",
       "  </tbody>\n",
       "</table>\n",
       "</div>"
      ],
      "text/plain": [
       "          GEOID B01003_001E\n",
       "0  510310204034         916\n",
       "1  510310201013        2390\n",
       "2  510310206001        1037\n",
       "3  510310204011        3504\n",
       "4  510310203001         960"
      ]
     },
     "execution_count": 38,
     "metadata": {},
     "output_type": "execute_result"
    }
   ],
   "source": [
    "block_groups_df.head()"
   ]
  },
  {
   "cell_type": "code",
   "execution_count": 39,
   "metadata": {
    "collapsed": false
   },
   "outputs": [],
   "source": [
    "# ['060378002043', '060379304011', u'060371370002', u'060371370001']"
   ]
  },
  {
   "cell_type": "code",
   "execution_count": 40,
   "metadata": {
    "collapsed": false
   },
   "outputs": [],
   "source": [
    "# def check_geoid(row):\n",
    "#     if row['GEOID'] in '060379304011':\n",
    "        \n",
    "#         print row[['GEOID']]\n",
    "        \n",
    "#     else:\n",
    "        \n",
    "#         return\n",
    "# df.apply(check_geoid,axis=1)"
   ]
  },
  {
   "cell_type": "code",
   "execution_count": 41,
   "metadata": {
    "collapsed": false
   },
   "outputs": [],
   "source": [
    "by_distrct_df = df.dissolve(by='Congressional District')"
   ]
  },
  {
   "cell_type": "code",
   "execution_count": 42,
   "metadata": {
    "collapsed": false
   },
   "outputs": [
    {
     "data": {
      "text/html": [
       "<div>\n",
       "<table border=\"1\" class=\"dataframe\">\n",
       "  <thead>\n",
       "    <tr style=\"text-align: right;\">\n",
       "      <th></th>\n",
       "      <th>geometry</th>\n",
       "      <th>GEOID</th>\n",
       "      <th>Predicted 2015 Population</th>\n",
       "      <th>Centroid Longitude</th>\n",
       "      <th>Centroid Latitude</th>\n",
       "    </tr>\n",
       "    <tr>\n",
       "      <th>Congressional District</th>\n",
       "      <th></th>\n",
       "      <th></th>\n",
       "      <th></th>\n",
       "      <th></th>\n",
       "      <th></th>\n",
       "    </tr>\n",
       "  </thead>\n",
       "  <tbody>\n",
       "    <tr>\n",
       "      <th>01</th>\n",
       "      <td>POLYGON ((-76.67525599999999 37.368573, -76.67...</td>\n",
       "      <td>510330302021190</td>\n",
       "      <td>0.000000</td>\n",
       "      <td>-77.151323</td>\n",
       "      <td>38.019560</td>\n",
       "    </tr>\n",
       "    <tr>\n",
       "      <th>02</th>\n",
       "      <td>POLYGON ((-76.06945399999999 36.69385, -76.072...</td>\n",
       "      <td>510010902001093</td>\n",
       "      <td>4.782007</td>\n",
       "      <td>-75.546774</td>\n",
       "      <td>37.954116</td>\n",
       "    </tr>\n",
       "    <tr>\n",
       "      <th>03</th>\n",
       "      <td>POLYGON ((-76.442886 36.81666999999999, -76.44...</td>\n",
       "      <td>510932802001074</td>\n",
       "      <td>8.213287</td>\n",
       "      <td>-76.781543</td>\n",
       "      <td>36.911686</td>\n",
       "    </tr>\n",
       "    <tr>\n",
       "      <th>04</th>\n",
       "      <td>POLYGON ((-76.22984599999999 36.550552, -76.23...</td>\n",
       "      <td>510366003001004</td>\n",
       "      <td>2.413379</td>\n",
       "      <td>-77.049013</td>\n",
       "      <td>37.384408</td>\n",
       "    </tr>\n",
       "    <tr>\n",
       "      <th>05</th>\n",
       "      <td>POLYGON ((-80.010273 36.795538, -80.0118959999...</td>\n",
       "      <td>510030112012084</td>\n",
       "      <td>3.016496</td>\n",
       "      <td>-78.751882</td>\n",
       "      <td>38.010169</td>\n",
       "    </tr>\n",
       "    <tr>\n",
       "      <th>06</th>\n",
       "      <td>POLYGON ((-80.05133099999999 37.40392, -80.051...</td>\n",
       "      <td>510090101004197</td>\n",
       "      <td>2.418407</td>\n",
       "      <td>-79.318062</td>\n",
       "      <td>37.596633</td>\n",
       "    </tr>\n",
       "    <tr>\n",
       "      <th>07</th>\n",
       "      <td>POLYGON ((-77.424306 37.417489, -77.4270779999...</td>\n",
       "      <td>510079302004059</td>\n",
       "      <td>17.720139</td>\n",
       "      <td>-77.778230</td>\n",
       "      <td>37.253752</td>\n",
       "    </tr>\n",
       "    <tr>\n",
       "      <th>08</th>\n",
       "      <td>POLYGON ((-77.226432 38.630415, -77.226266 38....</td>\n",
       "      <td>510131001003018</td>\n",
       "      <td>39.346290</td>\n",
       "      <td>-77.144930</td>\n",
       "      <td>38.895366</td>\n",
       "    </tr>\n",
       "    <tr>\n",
       "      <th>09</th>\n",
       "      <td>POLYGON ((-79.76991799999999 36.728387, -79.76...</td>\n",
       "      <td>510050802012111</td>\n",
       "      <td>0.000000</td>\n",
       "      <td>-79.966269</td>\n",
       "      <td>37.774511</td>\n",
       "    </tr>\n",
       "    <tr>\n",
       "      <th>10</th>\n",
       "      <td>POLYGON ((-78.46352899999999 39.030833, -78.46...</td>\n",
       "      <td>510430103002049</td>\n",
       "      <td>244.679487</td>\n",
       "      <td>-77.994755</td>\n",
       "      <td>39.014751</td>\n",
       "    </tr>\n",
       "    <tr>\n",
       "      <th>11</th>\n",
       "      <td>POLYGON ((-77.438198 38.806248, -77.4383699999...</td>\n",
       "      <td>510594612021015</td>\n",
       "      <td>0.000000</td>\n",
       "      <td>-77.331931</td>\n",
       "      <td>38.860917</td>\n",
       "    </tr>\n",
       "  </tbody>\n",
       "</table>\n",
       "</div>"
      ],
      "text/plain": [
       "                                                                 geometry  \\\n",
       "Congressional District                                                      \n",
       "01                      POLYGON ((-76.67525599999999 37.368573, -76.67...   \n",
       "02                      POLYGON ((-76.06945399999999 36.69385, -76.072...   \n",
       "03                      POLYGON ((-76.442886 36.81666999999999, -76.44...   \n",
       "04                      POLYGON ((-76.22984599999999 36.550552, -76.23...   \n",
       "05                      POLYGON ((-80.010273 36.795538, -80.0118959999...   \n",
       "06                      POLYGON ((-80.05133099999999 37.40392, -80.051...   \n",
       "07                      POLYGON ((-77.424306 37.417489, -77.4270779999...   \n",
       "08                      POLYGON ((-77.226432 38.630415, -77.226266 38....   \n",
       "09                      POLYGON ((-79.76991799999999 36.728387, -79.76...   \n",
       "10                      POLYGON ((-78.46352899999999 39.030833, -78.46...   \n",
       "11                      POLYGON ((-77.438198 38.806248, -77.4383699999...   \n",
       "\n",
       "                                  GEOID  Predicted 2015 Population  \\\n",
       "Congressional District                                               \n",
       "01                      510330302021190                   0.000000   \n",
       "02                      510010902001093                   4.782007   \n",
       "03                      510932802001074                   8.213287   \n",
       "04                      510366003001004                   2.413379   \n",
       "05                      510030112012084                   3.016496   \n",
       "06                      510090101004197                   2.418407   \n",
       "07                      510079302004059                  17.720139   \n",
       "08                      510131001003018                  39.346290   \n",
       "09                      510050802012111                   0.000000   \n",
       "10                      510430103002049                 244.679487   \n",
       "11                      510594612021015                   0.000000   \n",
       "\n",
       "                        Centroid Longitude  Centroid Latitude  \n",
       "Congressional District                                         \n",
       "01                              -77.151323          38.019560  \n",
       "02                              -75.546774          37.954116  \n",
       "03                              -76.781543          36.911686  \n",
       "04                              -77.049013          37.384408  \n",
       "05                              -78.751882          38.010169  \n",
       "06                              -79.318062          37.596633  \n",
       "07                              -77.778230          37.253752  \n",
       "08                              -77.144930          38.895366  \n",
       "09                              -79.966269          37.774511  \n",
       "10                              -77.994755          39.014751  \n",
       "11                              -77.331931          38.860917  "
      ]
     },
     "execution_count": 42,
     "metadata": {},
     "output_type": "execute_result"
    }
   ],
   "source": [
    "by_district_df = by_distrct_df\n",
    "by_district_df"
   ]
  },
  {
   "cell_type": "code",
   "execution_count": 43,
   "metadata": {
    "collapsed": false
   },
   "outputs": [],
   "source": [
    "usa = gpd.read_file(usa_shapefile_path)\n",
    "cong_dist = usa[usa['STATEFP'].apply(\n",
    "    int) == int(state_fips)]\n",
    "del usa\n"
   ]
  },
  {
   "cell_type": "code",
   "execution_count": 44,
   "metadata": {
    "collapsed": false
   },
   "outputs": [
    {
     "data": {
      "text/html": [
       "<div>\n",
       "<table border=\"1\" class=\"dataframe\">\n",
       "  <thead>\n",
       "    <tr style=\"text-align: right;\">\n",
       "      <th></th>\n",
       "      <th>ALAND</th>\n",
       "      <th>AWATER</th>\n",
       "      <th>CD115FP</th>\n",
       "      <th>CDSESSN</th>\n",
       "      <th>FUNCSTAT</th>\n",
       "      <th>GEOID</th>\n",
       "      <th>INTPTLAT</th>\n",
       "      <th>INTPTLON</th>\n",
       "      <th>LSAD</th>\n",
       "      <th>MTFCC</th>\n",
       "      <th>NAMELSAD</th>\n",
       "      <th>STATEFP</th>\n",
       "      <th>geometry</th>\n",
       "    </tr>\n",
       "  </thead>\n",
       "  <tbody>\n",
       "    <tr>\n",
       "      <th>46</th>\n",
       "      <td>10909582912</td>\n",
       "      <td>1767244527</td>\n",
       "      <td>01</td>\n",
       "      <td>115</td>\n",
       "      <td>N</td>\n",
       "      <td>5101</td>\n",
       "      <td>+37.8807201</td>\n",
       "      <td>-076.9762880</td>\n",
       "      <td>C2</td>\n",
       "      <td>G5200</td>\n",
       "      <td>Congressional District 1</td>\n",
       "      <td>51</td>\n",
       "      <td>POLYGON ((-77.81356799999999 38.530129, -77.81...</td>\n",
       "    </tr>\n",
       "    <tr>\n",
       "      <th>89</th>\n",
       "      <td>2859165075</td>\n",
       "      <td>5175276563</td>\n",
       "      <td>02</td>\n",
       "      <td>115</td>\n",
       "      <td>N</td>\n",
       "      <td>5102</td>\n",
       "      <td>+37.3937297</td>\n",
       "      <td>-075.9356016</td>\n",
       "      <td>C2</td>\n",
       "      <td>G5200</td>\n",
       "      <td>Congressional District 2</td>\n",
       "      <td>51</td>\n",
       "      <td>POLYGON ((-76.79773999999999 37.214087, -76.79...</td>\n",
       "    </tr>\n",
       "    <tr>\n",
       "      <th>127</th>\n",
       "      <td>1618703360</td>\n",
       "      <td>406602884</td>\n",
       "      <td>03</td>\n",
       "      <td>115</td>\n",
       "      <td>N</td>\n",
       "      <td>5103</td>\n",
       "      <td>+36.9137548</td>\n",
       "      <td>-076.5694796</td>\n",
       "      <td>C2</td>\n",
       "      <td>G5200</td>\n",
       "      <td>Congressional District 3</td>\n",
       "      <td>51</td>\n",
       "      <td>POLYGON ((-76.96941 36.696297, -76.96933299999...</td>\n",
       "    </tr>\n",
       "    <tr>\n",
       "      <th>163</th>\n",
       "      <td>9432206964</td>\n",
       "      <td>297489515</td>\n",
       "      <td>04</td>\n",
       "      <td>115</td>\n",
       "      <td>N</td>\n",
       "      <td>5104</td>\n",
       "      <td>+36.9617490</td>\n",
       "      <td>-077.1577179</td>\n",
       "      <td>C2</td>\n",
       "      <td>G5200</td>\n",
       "      <td>Congressional District 4</td>\n",
       "      <td>51</td>\n",
       "      <td>POLYGON ((-77.90025399999999 37.143885, -77.89...</td>\n",
       "    </tr>\n",
       "    <tr>\n",
       "      <th>192</th>\n",
       "      <td>25977255356</td>\n",
       "      <td>391593341</td>\n",
       "      <td>05</td>\n",
       "      <td>115</td>\n",
       "      <td>N</td>\n",
       "      <td>5105</td>\n",
       "      <td>+37.3323415</td>\n",
       "      <td>-078.7235580</td>\n",
       "      <td>C2</td>\n",
       "      <td>G5200</td>\n",
       "      <td>Congressional District 5</td>\n",
       "      <td>51</td>\n",
       "      <td>POLYGON ((-80.235294 36.87226, -80.231988 36.8...</td>\n",
       "    </tr>\n",
       "  </tbody>\n",
       "</table>\n",
       "</div>"
      ],
      "text/plain": [
       "           ALAND      AWATER CD115FP CDSESSN FUNCSTAT GEOID     INTPTLAT  \\\n",
       "46   10909582912  1767244527      01     115        N  5101  +37.8807201   \n",
       "89    2859165075  5175276563      02     115        N  5102  +37.3937297   \n",
       "127   1618703360   406602884      03     115        N  5103  +36.9137548   \n",
       "163   9432206964   297489515      04     115        N  5104  +36.9617490   \n",
       "192  25977255356   391593341      05     115        N  5105  +37.3323415   \n",
       "\n",
       "         INTPTLON LSAD  MTFCC                  NAMELSAD STATEFP  \\\n",
       "46   -076.9762880   C2  G5200  Congressional District 1      51   \n",
       "89   -075.9356016   C2  G5200  Congressional District 2      51   \n",
       "127  -076.5694796   C2  G5200  Congressional District 3      51   \n",
       "163  -077.1577179   C2  G5200  Congressional District 4      51   \n",
       "192  -078.7235580   C2  G5200  Congressional District 5      51   \n",
       "\n",
       "                                              geometry  \n",
       "46   POLYGON ((-77.81356799999999 38.530129, -77.81...  \n",
       "89   POLYGON ((-76.79773999999999 37.214087, -76.79...  \n",
       "127  POLYGON ((-76.96941 36.696297, -76.96933299999...  \n",
       "163  POLYGON ((-77.90025399999999 37.143885, -77.89...  \n",
       "192  POLYGON ((-80.235294 36.87226, -80.231988 36.8...  "
      ]
     },
     "execution_count": 44,
     "metadata": {},
     "output_type": "execute_result"
    }
   ],
   "source": [
    "cong_dist.head()"
   ]
  },
  {
   "cell_type": "code",
   "execution_count": 45,
   "metadata": {
    "collapsed": false
   },
   "outputs": [
    {
     "data": {
      "text/html": [
       "<div>\n",
       "<table border=\"1\" class=\"dataframe\">\n",
       "  <thead>\n",
       "    <tr style=\"text-align: right;\">\n",
       "      <th></th>\n",
       "      <th>GEOID</th>\n",
       "      <th>Congressional District</th>\n",
       "    </tr>\n",
       "  </thead>\n",
       "  <tbody>\n",
       "  </tbody>\n",
       "</table>\n",
       "</div>"
      ],
      "text/plain": [
       "Empty DataFrame\n",
       "Columns: [GEOID, Congressional District]\n",
       "Index: []"
      ]
     },
     "execution_count": 45,
     "metadata": {},
     "output_type": "execute_result"
    }
   ],
   "source": [
    "missing_bg_cong_dist = pd.DataFrame(columns=[['GEOID', 'Congressional District']])\n",
    "missing_bg_cong_dist.head()"
   ]
  },
  {
   "cell_type": "code",
   "execution_count": 46,
   "metadata": {
    "collapsed": false
   },
   "outputs": [
    {
     "data": {
      "text/plain": [
       "([u'510190501004',\n",
       "  u'510190501005',\n",
       "  u'510190501001',\n",
       "  u'510190501002',\n",
       "  u'510190501003'],\n",
       " [u'05', u'05', u'05', u'05', u'05'])"
      ]
     },
     "execution_count": 46,
     "metadata": {},
     "output_type": "execute_result"
    }
   ],
   "source": [
    "geoid = []\n",
    "cd = []\n",
    "for bg_index, bg_row in lost_block_groups.iterrows():\n",
    "    for dist_index, dist_row in cong_dist.iterrows():\n",
    "        bg_area =  bg_row['geometry'].area\n",
    "        intersection_area = bg_row['geometry'].intersection(dist_row['geometry']).area\n",
    "        if bg_area - intersection_area < 1e-10:\n",
    "#             print bg_index, dist_row['CD115FP']\n",
    "#             print intersection_area, bg_area\n",
    "            geoid.append(bg_row['GEOID'])\n",
    "            cd.append(dist_row['CD115FP'])\n",
    "        \n",
    "geoid, cd"
   ]
  },
  {
   "cell_type": "code",
   "execution_count": 47,
   "metadata": {
    "collapsed": false
   },
   "outputs": [
    {
     "data": {
      "text/html": [
       "<div>\n",
       "<table border=\"1\" class=\"dataframe\">\n",
       "  <thead>\n",
       "    <tr style=\"text-align: right;\">\n",
       "      <th></th>\n",
       "      <th>GEOID</th>\n",
       "      <th>Congressional District</th>\n",
       "    </tr>\n",
       "  </thead>\n",
       "  <tbody>\n",
       "    <tr>\n",
       "      <th>0</th>\n",
       "      <td>510190501004</td>\n",
       "      <td>05</td>\n",
       "    </tr>\n",
       "    <tr>\n",
       "      <th>1</th>\n",
       "      <td>510190501005</td>\n",
       "      <td>05</td>\n",
       "    </tr>\n",
       "    <tr>\n",
       "      <th>2</th>\n",
       "      <td>510190501001</td>\n",
       "      <td>05</td>\n",
       "    </tr>\n",
       "    <tr>\n",
       "      <th>3</th>\n",
       "      <td>510190501002</td>\n",
       "      <td>05</td>\n",
       "    </tr>\n",
       "    <tr>\n",
       "      <th>4</th>\n",
       "      <td>510190501003</td>\n",
       "      <td>05</td>\n",
       "    </tr>\n",
       "  </tbody>\n",
       "</table>\n",
       "</div>"
      ],
      "text/plain": [
       "          GEOID Congressional District\n",
       "0  510190501004                     05\n",
       "1  510190501005                     05\n",
       "2  510190501001                     05\n",
       "3  510190501002                     05\n",
       "4  510190501003                     05"
      ]
     },
     "execution_count": 47,
     "metadata": {},
     "output_type": "execute_result"
    }
   ],
   "source": [
    "missing_bg_cong_dist['GEOID'] = geoid\n",
    "missing_bg_cong_dist['Congressional District'] = cd\n",
    "missing_bg_cong_dist.head()"
   ]
  },
  {
   "cell_type": "code",
   "execution_count": 48,
   "metadata": {
    "collapsed": false
   },
   "outputs": [],
   "source": [
    "lost_block_groups = lost_block_groups.merge(missing_bg_cong_dist, on = 'GEOID')\n",
    "# del lost_block_groups['Congressional District_x']\n",
    "# del lost_block_groups['Congressional District_y']"
   ]
  },
  {
   "cell_type": "code",
   "execution_count": 49,
   "metadata": {
    "collapsed": false
   },
   "outputs": [
    {
     "data": {
      "text/html": [
       "<div>\n",
       "<table border=\"1\" class=\"dataframe\">\n",
       "  <thead>\n",
       "    <tr style=\"text-align: right;\">\n",
       "      <th></th>\n",
       "      <th>GEOID</th>\n",
       "      <th>geometry</th>\n",
       "      <th>Predicted 2015 Population</th>\n",
       "      <th>Centroid Longitude</th>\n",
       "      <th>Centroid Latitude</th>\n",
       "      <th>Congressional District</th>\n",
       "    </tr>\n",
       "  </thead>\n",
       "  <tbody>\n",
       "    <tr>\n",
       "      <th>0</th>\n",
       "      <td>510190501004</td>\n",
       "      <td>POLYGON ((-79.55945299999999 37.33933, -79.559...</td>\n",
       "      <td>2216</td>\n",
       "      <td>-79.535365</td>\n",
       "      <td>37.330213</td>\n",
       "      <td>05</td>\n",
       "    </tr>\n",
       "    <tr>\n",
       "      <th>1</th>\n",
       "      <td>510190501005</td>\n",
       "      <td>POLYGON ((-79.52344599999999 37.334641, -79.52...</td>\n",
       "      <td>1198</td>\n",
       "      <td>-79.506286</td>\n",
       "      <td>37.329718</td>\n",
       "      <td>05</td>\n",
       "    </tr>\n",
       "    <tr>\n",
       "      <th>2</th>\n",
       "      <td>510190501001</td>\n",
       "      <td>POLYGON ((-79.52292 37.33595, -79.522815999999...</td>\n",
       "      <td>853</td>\n",
       "      <td>-79.503950</td>\n",
       "      <td>37.342783</td>\n",
       "      <td>05</td>\n",
       "    </tr>\n",
       "    <tr>\n",
       "      <th>3</th>\n",
       "      <td>510190501002</td>\n",
       "      <td>POLYGON ((-79.53537299999999 37.35531599999999...</td>\n",
       "      <td>1295</td>\n",
       "      <td>-79.516659</td>\n",
       "      <td>37.349142</td>\n",
       "      <td>05</td>\n",
       "    </tr>\n",
       "    <tr>\n",
       "      <th>4</th>\n",
       "      <td>510190501003</td>\n",
       "      <td>POLYGON ((-79.55565 37.344404, -79.555589 37.3...</td>\n",
       "      <td>650</td>\n",
       "      <td>-79.535087</td>\n",
       "      <td>37.344807</td>\n",
       "      <td>05</td>\n",
       "    </tr>\n",
       "  </tbody>\n",
       "</table>\n",
       "</div>"
      ],
      "text/plain": [
       "          GEOID                                           geometry  \\\n",
       "0  510190501004  POLYGON ((-79.55945299999999 37.33933, -79.559...   \n",
       "1  510190501005  POLYGON ((-79.52344599999999 37.334641, -79.52...   \n",
       "2  510190501001  POLYGON ((-79.52292 37.33595, -79.522815999999...   \n",
       "3  510190501002  POLYGON ((-79.53537299999999 37.35531599999999...   \n",
       "4  510190501003  POLYGON ((-79.55565 37.344404, -79.555589 37.3...   \n",
       "\n",
       "  Predicted 2015 Population  Centroid Longitude  Centroid Latitude  \\\n",
       "0                      2216          -79.535365          37.330213   \n",
       "1                      1198          -79.506286          37.329718   \n",
       "2                       853          -79.503950          37.342783   \n",
       "3                      1295          -79.516659          37.349142   \n",
       "4                       650          -79.535087          37.344807   \n",
       "\n",
       "  Congressional District  \n",
       "0                     05  \n",
       "1                     05  \n",
       "2                     05  \n",
       "3                     05  \n",
       "4                     05  "
      ]
     },
     "execution_count": 49,
     "metadata": {},
     "output_type": "execute_result"
    }
   ],
   "source": [
    "lost_block_groups.tail()\n"
   ]
  },
  {
   "cell_type": "code",
   "execution_count": 50,
   "metadata": {
    "collapsed": false
   },
   "outputs": [
    {
     "data": {
      "text/html": [
       "<div>\n",
       "<table border=\"1\" class=\"dataframe\">\n",
       "  <thead>\n",
       "    <tr style=\"text-align: right;\">\n",
       "      <th></th>\n",
       "      <th>GEOID</th>\n",
       "      <th>Congressional District</th>\n",
       "      <th>geometry</th>\n",
       "      <th>Predicted 2015 Population</th>\n",
       "      <th>Centroid Longitude</th>\n",
       "      <th>Centroid Latitude</th>\n",
       "    </tr>\n",
       "  </thead>\n",
       "  <tbody>\n",
       "    <tr>\n",
       "      <th>0</th>\n",
       "      <td>510010902001093</td>\n",
       "      <td>02</td>\n",
       "      <td>POLYGON ((-75.53995399999999 37.953723, -75.54...</td>\n",
       "      <td>4.782007</td>\n",
       "      <td>-75.546774</td>\n",
       "      <td>37.954116</td>\n",
       "    </tr>\n",
       "    <tr>\n",
       "      <th>1</th>\n",
       "      <td>510010902001013</td>\n",
       "      <td>02</td>\n",
       "      <td>POLYGON ((-75.532816 37.988859, -75.5329529999...</td>\n",
       "      <td>0.000000</td>\n",
       "      <td>-75.533408</td>\n",
       "      <td>37.989547</td>\n",
       "    </tr>\n",
       "    <tr>\n",
       "      <th>2</th>\n",
       "      <td>510010902001012</td>\n",
       "      <td>02</td>\n",
       "      <td>POLYGON ((-75.529713 37.984267, -75.5298449999...</td>\n",
       "      <td>4.782007</td>\n",
       "      <td>-75.530457</td>\n",
       "      <td>37.991878</td>\n",
       "    </tr>\n",
       "    <tr>\n",
       "      <th>3</th>\n",
       "      <td>510010902001045</td>\n",
       "      <td>02</td>\n",
       "      <td>POLYGON ((-75.571759 37.989895, -75.5718679999...</td>\n",
       "      <td>0.797001</td>\n",
       "      <td>-75.576052</td>\n",
       "      <td>37.991432</td>\n",
       "    </tr>\n",
       "    <tr>\n",
       "      <th>4</th>\n",
       "      <td>510010902001030</td>\n",
       "      <td>02</td>\n",
       "      <td>POLYGON ((-75.54496899999999 37.981008, -75.54...</td>\n",
       "      <td>0.000000</td>\n",
       "      <td>-75.545360</td>\n",
       "      <td>37.983905</td>\n",
       "    </tr>\n",
       "  </tbody>\n",
       "</table>\n",
       "</div>"
      ],
      "text/plain": [
       "             GEOID Congressional District  \\\n",
       "0  510010902001093                     02   \n",
       "1  510010902001013                     02   \n",
       "2  510010902001012                     02   \n",
       "3  510010902001045                     02   \n",
       "4  510010902001030                     02   \n",
       "\n",
       "                                            geometry  \\\n",
       "0  POLYGON ((-75.53995399999999 37.953723, -75.54...   \n",
       "1  POLYGON ((-75.532816 37.988859, -75.5329529999...   \n",
       "2  POLYGON ((-75.529713 37.984267, -75.5298449999...   \n",
       "3  POLYGON ((-75.571759 37.989895, -75.5718679999...   \n",
       "4  POLYGON ((-75.54496899999999 37.981008, -75.54...   \n",
       "\n",
       "   Predicted 2015 Population  Centroid Longitude  Centroid Latitude  \n",
       "0                   4.782007          -75.546774          37.954116  \n",
       "1                   0.000000          -75.533408          37.989547  \n",
       "2                   4.782007          -75.530457          37.991878  \n",
       "3                   0.797001          -75.576052          37.991432  \n",
       "4                   0.000000          -75.545360          37.983905  "
      ]
     },
     "execution_count": 50,
     "metadata": {},
     "output_type": "execute_result"
    }
   ],
   "source": [
    "df.head()"
   ]
  },
  {
   "cell_type": "code",
   "execution_count": 51,
   "metadata": {
    "collapsed": false
   },
   "outputs": [
    {
     "data": {
      "text/plain": [
       "(285520, 6)"
      ]
     },
     "execution_count": 51,
     "metadata": {},
     "output_type": "execute_result"
    }
   ],
   "source": [
    "df.shape\n",
    "df = df.append(lost_block_groups, ignore_index=True)\n",
    "df.shape"
   ]
  },
  {
   "cell_type": "code",
   "execution_count": 52,
   "metadata": {
    "collapsed": false,
    "scrolled": true
   },
   "outputs": [
    {
     "data": {
      "text/plain": [
       "<matplotlib.axes._subplots.AxesSubplot at 0x7f72c0637510>"
      ]
     },
     "execution_count": 52,
     "metadata": {},
     "output_type": "execute_result"
    },
    {
     "data": {
      "image/png": "[encoded data removed]",
      "text/plain": [
       "<matplotlib.figure.Figure at 0x7f72bfc3fe10>"
      ]
     },
     "metadata": {},
     "output_type": "display_data"
    }
   ],
   "source": [
    "df.dissolve(by='Congressional District').plot()"
   ]
  },
  {
   "cell_type": "code",
   "execution_count": null,
   "metadata": {
    "collapsed": true
   },
   "outputs": [],
   "source": []
  },
  {
   "cell_type": "code",
   "execution_count": null,
   "metadata": {
    "collapsed": true
   },
   "outputs": [],
   "source": []
  }
 ],
 "metadata": {
  "anaconda-cloud": {},
  "kernelspec": {
   "display_name": "Python [default]",
   "language": "python",
   "name": "python2"
  },
  "language_info": {
   "codemirror_mode": {
    "name": "ipython",
    "version": 2
   },
   "file_extension": ".py",
   "mimetype": "text/x-python",
   "name": "python",
   "nbconvert_exporter": "python",
   "pygments_lexer": "ipython2",
   "version": "2.7.12"
  }
 },
 "nbformat": 4,
 "nbformat_minor": 2
}
