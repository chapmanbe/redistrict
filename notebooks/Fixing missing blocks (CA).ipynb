{
 "cells": [
  {
   "cell_type": "code",
   "execution_count": null,
   "metadata": {
    "collapsed": false
   },
   "outputs": [],
   "source": [
    "%matplotlib inline\n",
    "\n",
    "# Assuming we are in the notebooks directory, we need to move one up:\n",
    "%cd ..\n",
    "\n",
    "from __future__ import division\n",
    "\n",
    "import os\n",
    "import us\n",
    "import requests\n",
    "\n",
    "import pandas as pd\n",
    "import geopandas as gpd\n",
    "\n",
    "from utils.settings import (blocks_2010_shapefile_dir, acs5_shapefile_dir)"
   ]
  },
  {
   "cell_type": "code",
   "execution_count": 2,
   "metadata": {
    "collapsed": false
   },
   "outputs": [
    {
     "data": {
      "text/plain": [
       "u'06'"
      ]
     },
     "execution_count": 2,
     "metadata": {},
     "output_type": "execute_result"
    }
   ],
   "source": [
    "state = u'california'\n",
    "state_fips = us.states.lookup(state).fips\n",
    "state_fips"
   ]
  },
  {
   "cell_type": "code",
   "execution_count": null,
   "metadata": {
    "collapsed": false
   },
   "outputs": [
    {
     "name": "stdout",
     "output_type": "stream",
     "text": [
      "Attempting to load predicted population by block for: california\n",
      "\tNot found on disk...\n",
      "\tDownloading and processing blocks and block groups for: california\n",
      "\tOpening 2010 blocks shapefile for: california\n"
     ]
    }
   ],
   "source": [
    "# try:\n",
    "if True:\n",
    "    print 'Attempting to load predicted population by block for:', state\n",
    "#     df = gpd.read_file(blocks_geojson_filename)\n",
    "# except IOError:\n",
    "    print '\\tNot found on disk...'\n",
    "    print '\\tDownloading and processing blocks and block groups for:', state\n",
    "    # Open 2010 blocks for state (the population):\n",
    "    print '\\tOpening 2010 blocks shapefile for:', state\n",
    "    blocks_2010_shapefile_name = blocks_2010_shapefile_dir + 'tabblock2010_' +\\\n",
    "        state_fips + '_pophu.shp'\n",
    "    blocks_df = gpd.read_file(blocks_2010_shapefile_name)\n",
    "    blocks_df['BLOCKID10'] = blocks_df['BLOCKID10'].apply(str)\n",
    "    def get_group_GEOID(blockGEOID):\n",
    "        return blockGEOID[0:-3]\n",
    "    blocks_df['Block Group GEOID'] = blocks_df['BLOCKID10'].apply(get_group_GEOID)\n",
    "    assert (blocks_df['Block Group GEOID'].apply(len)).unique() == [12]\n",
    "    # The filename for the whole state with block groups (without population):\n",
    "    print '\\tOpening ACS5 block groups shapefile for:', state\n",
    "    block_groups_shapefile_name = acs5_shapefile_dir + 'tl_' + year + '_' +\\\n",
    "        state_fips + '_bg.shp'\n",
    "    block_groups_df = gpd.read_file(block_groups_shapefile_name)\n",
    "    # We will add to this the population per block group from the API.\n",
    "    # Check GEOIDs are of length 12 because they have to be by definition,\n",
    "    # see: https://www.census.gov/geo/reference/geoidentifiers.html\n",
    "    assert (block_groups_df['GEOID'].apply(len)).unique() == [12]\n",
    "\n",
    "    \n",
    "    \n",
    "    \n",
    "    print set(block_groups_df['GEOID'].unique()).symmetric_difference(set(\n",
    "        blocks_df['Block Group GEOID'].unique()))\n",
    "        # ['060378002043', '060379304011', u'060371370002', u'060371370001']"
   ]
  },
  {
   "cell_type": "code",
   "execution_count": 16,
   "metadata": {
    "collapsed": false,
    "scrolled": true
   },
   "outputs": [
    {
     "data": {
      "text/plain": [
       "['060378002043', '060379304011', u'060371370002', u'060371370001']"
      ]
     },
     "execution_count": 16,
     "metadata": {},
     "output_type": "execute_result"
    }
   ],
   "source": [
    "diff = list(set(block_groups_df['GEOID'].unique()).symmetric_difference(set(\n",
    "         blocks_df['Block Group GEOID'].unique())))\n",
    "len(diff)\n",
    "diff"
   ]
  },
  {
   "cell_type": "code",
   "execution_count": 17,
   "metadata": {
    "collapsed": false
   },
   "outputs": [
    {
     "name": "stdout",
     "output_type": "stream",
     "text": [
      "060371370002\n",
      "<type 'unicode'>\n",
      "060371370001\n",
      "<type 'unicode'>\n"
     ]
    }
   ],
   "source": [
    "for d in diff:\n",
    "    if d in block_groups_df['GEOID'].values:\n",
    "        print d\n",
    "        print type(d)"
   ]
  },
  {
   "cell_type": "code",
   "execution_count": 18,
   "metadata": {
    "collapsed": false
   },
   "outputs": [
    {
     "name": "stdout",
     "output_type": "stream",
     "text": [
      "060371370002\n",
      "         ALAND  AWATER BLKGRPCE COUNTYFP FUNCSTAT         GEOID     INTPTLAT  \\\n",
      "15389  1836175       0        2      037        S  060371370002  +34.1669674   \n",
      "\n",
      "           INTPTLON  MTFCC       NAMELSAD STATEFP TRACTCE  \\\n",
      "15389  -118.6423283  G5030  Block Group 2      06  137000   \n",
      "\n",
      "                                                geometry  \n",
      "15389  POLYGON ((-118.658618 34.171419, -118.658488 3...  \n",
      "060371370001\n",
      "        ALAND  AWATER BLKGRPCE COUNTYFP FUNCSTAT         GEOID     INTPTLAT  \\\n",
      "7976  1169619    4374        1      037        S  060371370001  +34.1674127   \n",
      "\n",
      "          INTPTLON  MTFCC       NAMELSAD STATEFP TRACTCE  \\\n",
      "7976  -118.6298536  G5030  Block Group 1      06  137000   \n",
      "\n",
      "                                               geometry  \n",
      "7976  POLYGON ((-118.636332 34.163179, -118.636312 3...  \n"
     ]
    },
    {
     "data": {
      "text/plain": [
       "(4, 13)"
      ]
     },
     "execution_count": 18,
     "metadata": {},
     "output_type": "execute_result"
    }
   ],
   "source": [
    "# del lost_block_groups\n",
    "#These are the block groups that get lost:\n",
    "for i, d in enumerate(diff):\n",
    "    if d in block_groups_df['GEOID'].values:\n",
    "\n",
    "        print d\n",
    "        d = str(d)\n",
    "        print block_groups_df[block_groups_df['GEOID'].astype(unicode)== unicode(d)]\n",
    "        try:\n",
    "            lost_block_groups = pd.concat([lost_block_groups, block_groups_df[block_groups_df['GEOID'].astype(unicode)== unicode(d)]])\n",
    "        except NameError:\n",
    "            lost_block_groups = block_groups_df[block_groups_df['GEOID'].astype(str).str.contains(d)]\n",
    "lost_block_groups.shape"
   ]
  },
  {
   "cell_type": "code",
   "execution_count": 19,
   "metadata": {
    "collapsed": false
   },
   "outputs": [
    {
     "data": {
      "text/html": [
       "<div>\n",
       "<table border=\"1\" class=\"dataframe\">\n",
       "  <thead>\n",
       "    <tr style=\"text-align: right;\">\n",
       "      <th></th>\n",
       "      <th>ALAND</th>\n",
       "      <th>AWATER</th>\n",
       "      <th>BLKGRPCE</th>\n",
       "      <th>COUNTYFP</th>\n",
       "      <th>FUNCSTAT</th>\n",
       "      <th>GEOID</th>\n",
       "      <th>INTPTLAT</th>\n",
       "      <th>INTPTLON</th>\n",
       "      <th>MTFCC</th>\n",
       "      <th>NAMELSAD</th>\n",
       "      <th>STATEFP</th>\n",
       "      <th>TRACTCE</th>\n",
       "      <th>geometry</th>\n",
       "    </tr>\n",
       "  </thead>\n",
       "  <tbody>\n",
       "    <tr>\n",
       "      <th>15389</th>\n",
       "      <td>1836175</td>\n",
       "      <td>0</td>\n",
       "      <td>2</td>\n",
       "      <td>037</td>\n",
       "      <td>S</td>\n",
       "      <td>060371370002</td>\n",
       "      <td>+34.1669674</td>\n",
       "      <td>-118.6423283</td>\n",
       "      <td>G5030</td>\n",
       "      <td>Block Group 2</td>\n",
       "      <td>06</td>\n",
       "      <td>137000</td>\n",
       "      <td>POLYGON ((-118.658618 34.171419, -118.658488 3...</td>\n",
       "    </tr>\n",
       "    <tr>\n",
       "      <th>7976</th>\n",
       "      <td>1169619</td>\n",
       "      <td>4374</td>\n",
       "      <td>1</td>\n",
       "      <td>037</td>\n",
       "      <td>S</td>\n",
       "      <td>060371370001</td>\n",
       "      <td>+34.1674127</td>\n",
       "      <td>-118.6298536</td>\n",
       "      <td>G5030</td>\n",
       "      <td>Block Group 1</td>\n",
       "      <td>06</td>\n",
       "      <td>137000</td>\n",
       "      <td>POLYGON ((-118.636332 34.163179, -118.636312 3...</td>\n",
       "    </tr>\n",
       "    <tr>\n",
       "      <th>15389</th>\n",
       "      <td>1836175</td>\n",
       "      <td>0</td>\n",
       "      <td>2</td>\n",
       "      <td>037</td>\n",
       "      <td>S</td>\n",
       "      <td>060371370002</td>\n",
       "      <td>+34.1669674</td>\n",
       "      <td>-118.6423283</td>\n",
       "      <td>G5030</td>\n",
       "      <td>Block Group 2</td>\n",
       "      <td>06</td>\n",
       "      <td>137000</td>\n",
       "      <td>POLYGON ((-118.658618 34.171419, -118.658488 3...</td>\n",
       "    </tr>\n",
       "    <tr>\n",
       "      <th>7976</th>\n",
       "      <td>1169619</td>\n",
       "      <td>4374</td>\n",
       "      <td>1</td>\n",
       "      <td>037</td>\n",
       "      <td>S</td>\n",
       "      <td>060371370001</td>\n",
       "      <td>+34.1674127</td>\n",
       "      <td>-118.6298536</td>\n",
       "      <td>G5030</td>\n",
       "      <td>Block Group 1</td>\n",
       "      <td>06</td>\n",
       "      <td>137000</td>\n",
       "      <td>POLYGON ((-118.636332 34.163179, -118.636312 3...</td>\n",
       "    </tr>\n",
       "  </tbody>\n",
       "</table>\n",
       "</div>"
      ],
      "text/plain": [
       "         ALAND  AWATER BLKGRPCE COUNTYFP FUNCSTAT         GEOID     INTPTLAT  \\\n",
       "15389  1836175       0        2      037        S  060371370002  +34.1669674   \n",
       "7976   1169619    4374        1      037        S  060371370001  +34.1674127   \n",
       "15389  1836175       0        2      037        S  060371370002  +34.1669674   \n",
       "7976   1169619    4374        1      037        S  060371370001  +34.1674127   \n",
       "\n",
       "           INTPTLON  MTFCC       NAMELSAD STATEFP TRACTCE  \\\n",
       "15389  -118.6423283  G5030  Block Group 2      06  137000   \n",
       "7976   -118.6298536  G5030  Block Group 1      06  137000   \n",
       "15389  -118.6423283  G5030  Block Group 2      06  137000   \n",
       "7976   -118.6298536  G5030  Block Group 1      06  137000   \n",
       "\n",
       "                                                geometry  \n",
       "15389  POLYGON ((-118.658618 34.171419, -118.658488 3...  \n",
       "7976   POLYGON ((-118.636332 34.163179, -118.636312 3...  \n",
       "15389  POLYGON ((-118.658618 34.171419, -118.658488 3...  \n",
       "7976   POLYGON ((-118.636332 34.163179, -118.636312 3...  "
      ]
     },
     "execution_count": 19,
     "metadata": {},
     "output_type": "execute_result"
    }
   ],
   "source": [
    "lost_block_groups"
   ]
  },
  {
   "cell_type": "code",
   "execution_count": 25,
   "metadata": {
    "collapsed": false,
    "scrolled": true
   },
   "outputs": [
    {
     "name": "stdout",
     "output_type": "stream",
     "text": [
      "2\n"
     ]
    }
   ],
   "source": [
    "print len(set(block_groups_df['GEOID'].unique()).difference(set(blocks_df['Block Group GEOID'].unique())))\n"
   ]
  },
  {
   "cell_type": "code",
   "execution_count": 26,
   "metadata": {
    "collapsed": false
   },
   "outputs": [
    {
     "name": "stdout",
     "output_type": "stream",
     "text": [
      "2\n"
     ]
    }
   ],
   "source": [
    "print len(set(blocks_df['Block Group GEOID'].unique()).difference(set(block_groups_df['GEOID'].unique())))"
   ]
  },
  {
   "cell_type": "code",
   "execution_count": 27,
   "metadata": {
    "collapsed": false
   },
   "outputs": [
    {
     "name": "stdout",
     "output_type": "stream",
     "text": [
      "Series([], Name: POP10, dtype: int64)\n"
     ]
    }
   ],
   "source": [
    "print blocks_df[blocks_df['Block Group GEOID'] == '040194705002']['POP10']\n"
   ]
  },
  {
   "cell_type": "code",
   "execution_count": 28,
   "metadata": {
    "collapsed": false
   },
   "outputs": [
    {
     "name": "stdout",
     "output_type": "stream",
     "text": [
      "Series([], Name: POP10, dtype: int64)\n"
     ]
    }
   ],
   "source": [
    "print blocks_df[blocks_df['Block Group GEOID'] == '060371370001']['POP10']"
   ]
  },
  {
   "cell_type": "code",
   "execution_count": 29,
   "metadata": {
    "collapsed": false
   },
   "outputs": [
    {
     "name": "stdout",
     "output_type": "stream",
     "text": [
      "\tAttempting to load ACS5 population for block groups by county for: california\n",
      "\tDone!\n"
     ]
    }
   ],
   "source": [
    "# Code to get the total estimated population from the census files:\n",
    "api_population = 'B01003_001E'  # http://api.census.gov/data/2015/acs5/variables.html\n",
    "# NB: this is not the same code in the shapefiles for each block from the 2010\n",
    "# census, which instead uses 'POP10'.\n",
    "# Get all the counties' IDs so we can d/l each county's population per\n",
    "# block group:\n",
    "def block_group_to_county_geoid(geoid):\n",
    "    return geoid[2:5]\n",
    "block_groups_df['County'] = block_groups_df['GEOID'].apply(block_group_to_county_geoid)\n",
    "block_groups_for_state = acs5_population_dir + state + '.json'\n",
    "try:\n",
    "    print '\\tAttempting to load ACS5 population for block groups by county for:', state\n",
    "    with open(block_groups_for_state, 'r') as infile:\n",
    "        population_df = pd.read_json(infile)\n",
    "except IOError:\n",
    "    print '\\t\\tNot found on disk...'\n",
    "    counties = block_groups_df['County'].unique()\n",
    "    for county in counties:\n",
    "        print '\\t\\tDownloading block groups for county:', county\n",
    "        url = 'http://api.census.gov/data/' + year + '/acs5?get=NAME,' +\\\n",
    "            api_population + '&for=block+group:*&in=state:' + \\\n",
    "            state_fips + '+county:' + county + '&key=' + apikey\n",
    "        # Make a get request to get the population of each county per block\n",
    "        # group:\n",
    "        response = requests.get(url)\n",
    "        try:\n",
    "            data = response.json()\n",
    "        except ValueError:  # includes simplejson.decoder.JSONDecodeError\n",
    "            # This is what happens when the server times out etc.\n",
    "            print 'Decoding JSON has failed. Server response:',\\\n",
    "                response.status_code\n",
    "            exit()\n",
    "        # Merge the df to get one huge df for the whole state which contains\n",
    "        # all the group blocks and their populations:\n",
    "        columns = data.pop(0) # columns as list and leaves data intact\n",
    "        try:\n",
    "            # Try appending to previous population_df:\n",
    "            population_df = population_df.append(\n",
    "                pd.DataFrame(data, columns=columns),\n",
    "                ignore_index=True)\n",
    "        except NameError:\n",
    "            # There is no previous, so create it:\n",
    "            population_df = pd.DataFrame(data, columns=columns)\n",
    "    population_df.to_json(block_groups_for_state)\n",
    "print '\\tDone!'"
   ]
  },
  {
   "cell_type": "code",
   "execution_count": 30,
   "metadata": {
    "collapsed": false
   },
   "outputs": [],
   "source": [
    "def create_geoid(row):\n",
    "    # GEOID Structure is defined as STATE + COUNTY + TRACT + BLOCK GROUP =\n",
    "    # 2 + 3 + 6 + 1 = 12\n",
    "    # see: https://www.census.gov/geo/reference/geoidentifiers.html\n",
    "    STATE = str(row['state']).zfill(2)  # zero padding to conform to GEOID\n",
    "    COUNTY = str(row['county']).zfill(3)\n",
    "    TRACT = str(row['tract']).zfill(6)\n",
    "    BLOCK_GROUP = str(row['block group'])\n",
    "    assert len(STATE + COUNTY + TRACT + BLOCK_GROUP) == 12\n",
    "    return STATE + COUNTY + TRACT + BLOCK_GROUP\n",
    "population_df['GEOID'] = population_df.apply(create_geoid, axis=1)\n",
    "    \n",
    "    "
   ]
  },
  {
   "cell_type": "code",
   "execution_count": 31,
   "metadata": {
    "collapsed": false
   },
   "outputs": [
    {
     "data": {
      "text/html": [
       "<div>\n",
       "<table border=\"1\" class=\"dataframe\">\n",
       "  <thead>\n",
       "    <tr style=\"text-align: right;\">\n",
       "      <th></th>\n",
       "      <th>ALAND</th>\n",
       "      <th>AWATER</th>\n",
       "      <th>BLKGRPCE</th>\n",
       "      <th>COUNTYFP</th>\n",
       "      <th>FUNCSTAT</th>\n",
       "      <th>GEOID</th>\n",
       "      <th>INTPTLAT</th>\n",
       "      <th>INTPTLON</th>\n",
       "      <th>MTFCC</th>\n",
       "      <th>NAMELSAD</th>\n",
       "      <th>STATEFP</th>\n",
       "      <th>TRACTCE</th>\n",
       "      <th>geometry</th>\n",
       "      <th>County</th>\n",
       "    </tr>\n",
       "  </thead>\n",
       "  <tbody>\n",
       "    <tr>\n",
       "      <th>0</th>\n",
       "      <td>12266417</td>\n",
       "      <td>680361</td>\n",
       "      <td>3</td>\n",
       "      <td>025</td>\n",
       "      <td>S</td>\n",
       "      <td>060259400003</td>\n",
       "      <td>+32.7424027</td>\n",
       "      <td>-114.6675664</td>\n",
       "      <td>G5030</td>\n",
       "      <td>Block Group 3</td>\n",
       "      <td>06</td>\n",
       "      <td>940000</td>\n",
       "      <td>POLYGON ((-114.726531 32.718236, -114.726392 3...</td>\n",
       "      <td>025</td>\n",
       "    </tr>\n",
       "    <tr>\n",
       "      <th>1</th>\n",
       "      <td>59331725</td>\n",
       "      <td>0</td>\n",
       "      <td>2</td>\n",
       "      <td>025</td>\n",
       "      <td>S</td>\n",
       "      <td>060250108002</td>\n",
       "      <td>+32.7658550</td>\n",
       "      <td>-115.3923892</td>\n",
       "      <td>G5030</td>\n",
       "      <td>Block Group 2</td>\n",
       "      <td>06</td>\n",
       "      <td>010800</td>\n",
       "      <td>POLYGON ((-115.430817 32.730903, -115.430817 3...</td>\n",
       "      <td>025</td>\n",
       "    </tr>\n",
       "    <tr>\n",
       "      <th>2</th>\n",
       "      <td>230656791</td>\n",
       "      <td>0</td>\n",
       "      <td>1</td>\n",
       "      <td>025</td>\n",
       "      <td>S</td>\n",
       "      <td>060250108001</td>\n",
       "      <td>+32.8363463</td>\n",
       "      <td>-115.3514134</td>\n",
       "      <td>G5030</td>\n",
       "      <td>Block Group 1</td>\n",
       "      <td>06</td>\n",
       "      <td>010800</td>\n",
       "      <td>POLYGON ((-115.457835 32.908953, -115.457726 3...</td>\n",
       "      <td>025</td>\n",
       "    </tr>\n",
       "    <tr>\n",
       "      <th>3</th>\n",
       "      <td>1209336</td>\n",
       "      <td>0</td>\n",
       "      <td>3</td>\n",
       "      <td>025</td>\n",
       "      <td>S</td>\n",
       "      <td>060250111003</td>\n",
       "      <td>+32.7932442</td>\n",
       "      <td>-115.6903925</td>\n",
       "      <td>G5030</td>\n",
       "      <td>Block Group 3</td>\n",
       "      <td>06</td>\n",
       "      <td>011100</td>\n",
       "      <td>POLYGON ((-115.701342 32.790854, -115.70091 32...</td>\n",
       "      <td>025</td>\n",
       "    </tr>\n",
       "    <tr>\n",
       "      <th>4</th>\n",
       "      <td>404606</td>\n",
       "      <td>0</td>\n",
       "      <td>2</td>\n",
       "      <td>073</td>\n",
       "      <td>S</td>\n",
       "      <td>060730100132</td>\n",
       "      <td>+32.5564082</td>\n",
       "      <td>-117.0507980</td>\n",
       "      <td>G5030</td>\n",
       "      <td>Block Group 2</td>\n",
       "      <td>06</td>\n",
       "      <td>010013</td>\n",
       "      <td>POLYGON ((-117.054301 32.555424, -117.054296 3...</td>\n",
       "      <td>073</td>\n",
       "    </tr>\n",
       "  </tbody>\n",
       "</table>\n",
       "</div>"
      ],
      "text/plain": [
       "       ALAND  AWATER BLKGRPCE COUNTYFP FUNCSTAT         GEOID     INTPTLAT  \\\n",
       "0   12266417  680361        3      025        S  060259400003  +32.7424027   \n",
       "1   59331725       0        2      025        S  060250108002  +32.7658550   \n",
       "2  230656791       0        1      025        S  060250108001  +32.8363463   \n",
       "3    1209336       0        3      025        S  060250111003  +32.7932442   \n",
       "4     404606       0        2      073        S  060730100132  +32.5564082   \n",
       "\n",
       "       INTPTLON  MTFCC       NAMELSAD STATEFP TRACTCE  \\\n",
       "0  -114.6675664  G5030  Block Group 3      06  940000   \n",
       "1  -115.3923892  G5030  Block Group 2      06  010800   \n",
       "2  -115.3514134  G5030  Block Group 1      06  010800   \n",
       "3  -115.6903925  G5030  Block Group 3      06  011100   \n",
       "4  -117.0507980  G5030  Block Group 2      06  010013   \n",
       "\n",
       "                                            geometry County  \n",
       "0  POLYGON ((-114.726531 32.718236, -114.726392 3...    025  \n",
       "1  POLYGON ((-115.430817 32.730903, -115.430817 3...    025  \n",
       "2  POLYGON ((-115.457835 32.908953, -115.457726 3...    025  \n",
       "3  POLYGON ((-115.701342 32.790854, -115.70091 32...    025  \n",
       "4  POLYGON ((-117.054301 32.555424, -117.054296 3...    073  "
      ]
     },
     "execution_count": 31,
     "metadata": {},
     "output_type": "execute_result"
    }
   ],
   "source": [
    "block_groups_df.head()"
   ]
  },
  {
   "cell_type": "code",
   "execution_count": 32,
   "metadata": {
    "collapsed": false
   },
   "outputs": [],
   "source": [
    "block_groups_df = block_groups_df.merge(population_df, on='GEOID')\n",
    "assert block_groups_df['GEOID'].shape == population_df['GEOID'].shape\n",
    "#     del population_df\n",
    "# Get rid of other columns, we are just interested in below for each block\n",
    "# group:\n",
    "block_groups_df = block_groups_df.loc[:,['GEOID',api_population]]\n",
    "# We need to calculate the proportion of the populalion of 2010 block group\n",
    "# that a constituent 2010 block has:\n",
    "# a. get the total population for each block group from 2010 and associate\n",
    "# each 2010 block with its total:\n",
    "blocks_df['POP10'] = pd.to_numeric(blocks_df['POP10'])\n",
    "blocks_df = blocks_df.join(blocks_df.groupby('Block Group GEOID')[\n",
    "                           'POP10'].sum(), on='Block Group GEOID',\n",
    "                            rsuffix=' for 2010 Block Group')\n",
    "blocks_df.rename(columns={'POP10 for 2010 Block Group':\\\n",
    "                          'Population for 2010 Block Group'}, inplace=True)"
   ]
  },
  {
   "cell_type": "code",
   "execution_count": 33,
   "metadata": {
    "collapsed": false
   },
   "outputs": [
    {
     "data": {
      "text/html": [
       "<div>\n",
       "<table border=\"1\" class=\"dataframe\">\n",
       "  <thead>\n",
       "    <tr style=\"text-align: right;\">\n",
       "      <th></th>\n",
       "      <th>BLOCKCE</th>\n",
       "      <th>BLOCKID10</th>\n",
       "      <th>COUNTYFP10</th>\n",
       "      <th>HOUSING10</th>\n",
       "      <th>PARTFLG</th>\n",
       "      <th>POP10</th>\n",
       "      <th>STATEFP10</th>\n",
       "      <th>TRACTCE10</th>\n",
       "      <th>geometry</th>\n",
       "      <th>Block Group GEOID</th>\n",
       "      <th>Population for 2010 Block Group</th>\n",
       "    </tr>\n",
       "  </thead>\n",
       "  <tbody>\n",
       "    <tr>\n",
       "      <th>0</th>\n",
       "      <td>2001</td>\n",
       "      <td>060014403362001</td>\n",
       "      <td>001</td>\n",
       "      <td>1</td>\n",
       "      <td>N</td>\n",
       "      <td>4</td>\n",
       "      <td>06</td>\n",
       "      <td>440336</td>\n",
       "      <td>POLYGON ((-122.010627 37.582659, -122.010821 3...</td>\n",
       "      <td>060014403362</td>\n",
       "      <td>2305</td>\n",
       "    </tr>\n",
       "    <tr>\n",
       "      <th>1</th>\n",
       "      <td>2022</td>\n",
       "      <td>060014403362022</td>\n",
       "      <td>001</td>\n",
       "      <td>16</td>\n",
       "      <td>N</td>\n",
       "      <td>66</td>\n",
       "      <td>06</td>\n",
       "      <td>440336</td>\n",
       "      <td>POLYGON ((-122.01992 37.580664, -122.019717 37...</td>\n",
       "      <td>060014403362</td>\n",
       "      <td>2305</td>\n",
       "    </tr>\n",
       "    <tr>\n",
       "      <th>2</th>\n",
       "      <td>1000</td>\n",
       "      <td>060014401001000</td>\n",
       "      <td>001</td>\n",
       "      <td>6</td>\n",
       "      <td>N</td>\n",
       "      <td>12</td>\n",
       "      <td>06</td>\n",
       "      <td>440100</td>\n",
       "      <td>POLYGON ((-121.97565 37.640444, -121.97417 37....</td>\n",
       "      <td>060014401001</td>\n",
       "      <td>2310</td>\n",
       "    </tr>\n",
       "    <tr>\n",
       "      <th>3</th>\n",
       "      <td>1003</td>\n",
       "      <td>060014506011003</td>\n",
       "      <td>001</td>\n",
       "      <td>0</td>\n",
       "      <td>N</td>\n",
       "      <td>0</td>\n",
       "      <td>06</td>\n",
       "      <td>450601</td>\n",
       "      <td>POLYGON ((-121.950215 37.661304, -121.950202 3...</td>\n",
       "      <td>060014506011</td>\n",
       "      <td>629</td>\n",
       "    </tr>\n",
       "    <tr>\n",
       "      <th>4</th>\n",
       "      <td>1057</td>\n",
       "      <td>060014351031057</td>\n",
       "      <td>001</td>\n",
       "      <td>5</td>\n",
       "      <td>N</td>\n",
       "      <td>13</td>\n",
       "      <td>06</td>\n",
       "      <td>435103</td>\n",
       "      <td>POLYGON ((-121.969345 37.643885, -121.969286 3...</td>\n",
       "      <td>060014351031</td>\n",
       "      <td>2702</td>\n",
       "    </tr>\n",
       "  </tbody>\n",
       "</table>\n",
       "</div>"
      ],
      "text/plain": [
       "  BLOCKCE        BLOCKID10 COUNTYFP10  HOUSING10 PARTFLG  POP10 STATEFP10  \\\n",
       "0    2001  060014403362001        001          1       N      4        06   \n",
       "1    2022  060014403362022        001         16       N     66        06   \n",
       "2    1000  060014401001000        001          6       N     12        06   \n",
       "3    1003  060014506011003        001          0       N      0        06   \n",
       "4    1057  060014351031057        001          5       N     13        06   \n",
       "\n",
       "  TRACTCE10                                           geometry  \\\n",
       "0    440336  POLYGON ((-122.010627 37.582659, -122.010821 3...   \n",
       "1    440336  POLYGON ((-122.01992 37.580664, -122.019717 37...   \n",
       "2    440100  POLYGON ((-121.97565 37.640444, -121.97417 37....   \n",
       "3    450601  POLYGON ((-121.950215 37.661304, -121.950202 3...   \n",
       "4    435103  POLYGON ((-121.969345 37.643885, -121.969286 3...   \n",
       "\n",
       "  Block Group GEOID  Population for 2010 Block Group  \n",
       "0      060014403362                             2305  \n",
       "1      060014403362                             2305  \n",
       "2      060014401001                             2310  \n",
       "3      060014506011                              629  \n",
       "4      060014351031                             2702  "
      ]
     },
     "execution_count": 33,
     "metadata": {},
     "output_type": "execute_result"
    }
   ],
   "source": [
    "blocks_df.head()"
   ]
  },
  {
   "cell_type": "code",
   "execution_count": 34,
   "metadata": {
    "collapsed": false
   },
   "outputs": [],
   "source": [
    "# b. get the ratio of block population to respective block group\n",
    "# population:\n",
    "def calculate_ratio(row):\n",
    "    try:\n",
    "        return row['POP10'] / row['Population for 2010 Block Group']\n",
    "    except:\n",
    "        return row['Population for 2010 Block Group']\n",
    "blocks_df['Population Ratio'] = blocks_df.apply(calculate_ratio, axis=1)\n",
    "# c. get the population for the 2015 ACS5 block groups and associate them\n",
    "# with their respective blocks:\n",
    "blocks_df = pd.merge(blocks_df, block_groups_df,\n",
    "                     left_on = 'Block Group GEOID',\n",
    "                     right_on = 'GEOID')\n",
    "blocks_df.rename(columns={api_population:\\\n",
    "                    'Population for ' + year + ' Block Group'},\n",
    "                 inplace=True)\n",
    "assert (blocks_df['GEOID'] == blocks_df['Block Group GEOID']).all()\n",
    "del blocks_df['GEOID']\n",
    "blocks_df['Population for ' + year + ' Block Group'] =\\\n",
    "    pd.to_numeric(blocks_df['Population for ' + year + ' Block Group'])\n",
    "assert block_groups_df[api_population].sum() > blocks_df['POP10'].sum()\n",
    "# assert blocks_df['Population for 2010 Block Group'].sum() <\\\n",
    "    # blocks_df['Population for ' + year + ' Block Group'].sum()\n",
    "#     del block_groups_df # we do not need this anymore\n",
    "# d. calculate the predicted population for the block based on the above:\n",
    "blocks_df[population] = blocks_df['Population Ratio'] *\\\n",
    "    blocks_df['Population for ' + year + ' Block Group']\n",
    "# Calculate the centroids for each block required for clustering:\n",
    "def get_x(p): return p.x\n",
    "def get_y(p): return p.y\n",
    "blocks_df['Centroid Longitude'] = blocks_df['geometry'].centroid.apply(get_x)\n",
    "blocks_df['Centroid Latitude'] = blocks_df['geometry'].centroid.apply(get_y)\n",
    "# Find which congressional district each block group for this state belongs\n",
    "#  to. This is done using the block assignments files downloaded from:\n",
    "#  https://www.census.gov/geo/maps-data/data/baf.html\n",
    "# print '\\tCalculating congressional districts for:', state\n",
    "block_assignments_df = pd.read_csv(block_assignments_dir +\\\n",
    "    'National_CD115.txt', dtype={\"BLOCKID\": str, \"CD115\": str})\n",
    "block_assignments_df.rename(columns={'BLOCKID': 'GEOID'}, inplace=True)\n",
    "blocks_df.rename(columns={'BLOCKID10': 'GEOID'}, inplace=True)\n",
    "blocks_df = blocks_df.merge(block_assignments_df, how='left',\n",
    "    indicator=True)\n",
    "assert blocks_df['_merge'].unique() == ['both']\n",
    "del blocks_df['_merge']\n",
    "del block_assignments_df\n",
    "# We are done now, check that columns are what we expect before we remove\n",
    "# useless ones:\n",
    "assert list(blocks_df) ==\\\n",
    "    [u'BLOCKCE', 'GEOID', u'COUNTYFP10', u'HOUSING10', u'PARTFLG', u'POP10',\n",
    "     u'STATEFP10', u'TRACTCE10', 'geometry', 'Block Group GEOID',\n",
    "     'Population for 2010 Block Group', 'Population Ratio',\n",
    "     'Population for 2015 Block Group', 'Predicted 2015 Population',\n",
    "     'Centroid Longitude', 'Centroid Latitude', 'CD115']"
   ]
  },
  {
   "cell_type": "code",
   "execution_count": 35,
   "metadata": {
    "collapsed": false
   },
   "outputs": [
    {
     "data": {
      "text/html": [
       "<div>\n",
       "<table border=\"1\" class=\"dataframe\">\n",
       "  <thead>\n",
       "    <tr style=\"text-align: right;\">\n",
       "      <th></th>\n",
       "      <th>BLOCKCE</th>\n",
       "      <th>GEOID</th>\n",
       "      <th>COUNTYFP10</th>\n",
       "      <th>HOUSING10</th>\n",
       "      <th>PARTFLG</th>\n",
       "      <th>POP10</th>\n",
       "      <th>STATEFP10</th>\n",
       "      <th>TRACTCE10</th>\n",
       "      <th>geometry</th>\n",
       "      <th>Block Group GEOID</th>\n",
       "      <th>Population for 2010 Block Group</th>\n",
       "      <th>Population Ratio</th>\n",
       "      <th>Population for 2015 Block Group</th>\n",
       "      <th>Predicted 2015 Population</th>\n",
       "      <th>Centroid Longitude</th>\n",
       "      <th>Centroid Latitude</th>\n",
       "      <th>CD115</th>\n",
       "    </tr>\n",
       "  </thead>\n",
       "  <tbody>\n",
       "    <tr>\n",
       "      <th>0</th>\n",
       "      <td>2001</td>\n",
       "      <td>060014403362001</td>\n",
       "      <td>001</td>\n",
       "      <td>1</td>\n",
       "      <td>N</td>\n",
       "      <td>4</td>\n",
       "      <td>06</td>\n",
       "      <td>440336</td>\n",
       "      <td>POLYGON ((-122.010627 37.582659, -122.010821 3...</td>\n",
       "      <td>060014403362</td>\n",
       "      <td>2305</td>\n",
       "      <td>0.001735</td>\n",
       "      <td>2547</td>\n",
       "      <td>4.419957</td>\n",
       "      <td>-122.009388</td>\n",
       "      <td>37.582305</td>\n",
       "      <td>15</td>\n",
       "    </tr>\n",
       "    <tr>\n",
       "      <th>1</th>\n",
       "      <td>2022</td>\n",
       "      <td>060014403362022</td>\n",
       "      <td>001</td>\n",
       "      <td>16</td>\n",
       "      <td>N</td>\n",
       "      <td>66</td>\n",
       "      <td>06</td>\n",
       "      <td>440336</td>\n",
       "      <td>POLYGON ((-122.01992 37.580664, -122.019717 37...</td>\n",
       "      <td>060014403362</td>\n",
       "      <td>2305</td>\n",
       "      <td>0.028633</td>\n",
       "      <td>2547</td>\n",
       "      <td>72.929284</td>\n",
       "      <td>-122.019607</td>\n",
       "      <td>37.579861</td>\n",
       "      <td>15</td>\n",
       "    </tr>\n",
       "    <tr>\n",
       "      <th>2</th>\n",
       "      <td>2016</td>\n",
       "      <td>060014403362016</td>\n",
       "      <td>001</td>\n",
       "      <td>31</td>\n",
       "      <td>N</td>\n",
       "      <td>83</td>\n",
       "      <td>06</td>\n",
       "      <td>440336</td>\n",
       "      <td>POLYGON ((-122.020727 37.575511, -122.020871 3...</td>\n",
       "      <td>060014403362</td>\n",
       "      <td>2305</td>\n",
       "      <td>0.036009</td>\n",
       "      <td>2547</td>\n",
       "      <td>91.714100</td>\n",
       "      <td>-122.021492</td>\n",
       "      <td>37.576608</td>\n",
       "      <td>15</td>\n",
       "    </tr>\n",
       "    <tr>\n",
       "      <th>3</th>\n",
       "      <td>2000</td>\n",
       "      <td>060014403362000</td>\n",
       "      <td>001</td>\n",
       "      <td>0</td>\n",
       "      <td>N</td>\n",
       "      <td>0</td>\n",
       "      <td>06</td>\n",
       "      <td>440336</td>\n",
       "      <td>POLYGON ((-122.009107 37.58342, -122.008322 37...</td>\n",
       "      <td>060014403362</td>\n",
       "      <td>2305</td>\n",
       "      <td>0.000000</td>\n",
       "      <td>2547</td>\n",
       "      <td>0.000000</td>\n",
       "      <td>-122.007805</td>\n",
       "      <td>37.582754</td>\n",
       "      <td>15</td>\n",
       "    </tr>\n",
       "    <tr>\n",
       "      <th>4</th>\n",
       "      <td>2004</td>\n",
       "      <td>060014403362004</td>\n",
       "      <td>001</td>\n",
       "      <td>23</td>\n",
       "      <td>N</td>\n",
       "      <td>63</td>\n",
       "      <td>06</td>\n",
       "      <td>440336</td>\n",
       "      <td>POLYGON ((-122.015701 37.584183, -122.015746 3...</td>\n",
       "      <td>060014403362</td>\n",
       "      <td>2305</td>\n",
       "      <td>0.027332</td>\n",
       "      <td>2547</td>\n",
       "      <td>69.614317</td>\n",
       "      <td>-122.016318</td>\n",
       "      <td>37.583568</td>\n",
       "      <td>15</td>\n",
       "    </tr>\n",
       "  </tbody>\n",
       "</table>\n",
       "</div>"
      ],
      "text/plain": [
       "  BLOCKCE            GEOID COUNTYFP10  HOUSING10 PARTFLG  POP10 STATEFP10  \\\n",
       "0    2001  060014403362001        001          1       N      4        06   \n",
       "1    2022  060014403362022        001         16       N     66        06   \n",
       "2    2016  060014403362016        001         31       N     83        06   \n",
       "3    2000  060014403362000        001          0       N      0        06   \n",
       "4    2004  060014403362004        001         23       N     63        06   \n",
       "\n",
       "  TRACTCE10                                           geometry  \\\n",
       "0    440336  POLYGON ((-122.010627 37.582659, -122.010821 3...   \n",
       "1    440336  POLYGON ((-122.01992 37.580664, -122.019717 37...   \n",
       "2    440336  POLYGON ((-122.020727 37.575511, -122.020871 3...   \n",
       "3    440336  POLYGON ((-122.009107 37.58342, -122.008322 37...   \n",
       "4    440336  POLYGON ((-122.015701 37.584183, -122.015746 3...   \n",
       "\n",
       "  Block Group GEOID  Population for 2010 Block Group  Population Ratio  \\\n",
       "0      060014403362                             2305          0.001735   \n",
       "1      060014403362                             2305          0.028633   \n",
       "2      060014403362                             2305          0.036009   \n",
       "3      060014403362                             2305          0.000000   \n",
       "4      060014403362                             2305          0.027332   \n",
       "\n",
       "   Population for 2015 Block Group  Predicted 2015 Population  \\\n",
       "0                             2547                   4.419957   \n",
       "1                             2547                  72.929284   \n",
       "2                             2547                  91.714100   \n",
       "3                             2547                   0.000000   \n",
       "4                             2547                  69.614317   \n",
       "\n",
       "   Centroid Longitude  Centroid Latitude CD115  \n",
       "0         -122.009388          37.582305    15  \n",
       "1         -122.019607          37.579861    15  \n",
       "2         -122.021492          37.576608    15  \n",
       "3         -122.007805          37.582754    15  \n",
       "4         -122.016318          37.583568    15  "
      ]
     },
     "execution_count": 35,
     "metadata": {},
     "output_type": "execute_result"
    }
   ],
   "source": [
    "blocks_df.head()"
   ]
  },
  {
   "cell_type": "code",
   "execution_count": 36,
   "metadata": {
    "collapsed": false
   },
   "outputs": [
    {
     "data": {
      "text/html": [
       "<div>\n",
       "<table border=\"1\" class=\"dataframe\">\n",
       "  <thead>\n",
       "    <tr style=\"text-align: right;\">\n",
       "      <th></th>\n",
       "      <th>ALAND</th>\n",
       "      <th>AWATER</th>\n",
       "      <th>BLKGRPCE</th>\n",
       "      <th>COUNTYFP</th>\n",
       "      <th>FUNCSTAT</th>\n",
       "      <th>GEOID</th>\n",
       "      <th>INTPTLAT</th>\n",
       "      <th>INTPTLON</th>\n",
       "      <th>MTFCC</th>\n",
       "      <th>NAMELSAD</th>\n",
       "      <th>STATEFP</th>\n",
       "      <th>TRACTCE</th>\n",
       "      <th>geometry</th>\n",
       "    </tr>\n",
       "  </thead>\n",
       "  <tbody>\n",
       "    <tr>\n",
       "      <th>15389</th>\n",
       "      <td>1836175</td>\n",
       "      <td>0</td>\n",
       "      <td>2</td>\n",
       "      <td>037</td>\n",
       "      <td>S</td>\n",
       "      <td>060371370002</td>\n",
       "      <td>+34.1669674</td>\n",
       "      <td>-118.6423283</td>\n",
       "      <td>G5030</td>\n",
       "      <td>Block Group 2</td>\n",
       "      <td>06</td>\n",
       "      <td>137000</td>\n",
       "      <td>POLYGON ((-118.658618 34.171419, -118.658488 3...</td>\n",
       "    </tr>\n",
       "    <tr>\n",
       "      <th>7976</th>\n",
       "      <td>1169619</td>\n",
       "      <td>4374</td>\n",
       "      <td>1</td>\n",
       "      <td>037</td>\n",
       "      <td>S</td>\n",
       "      <td>060371370001</td>\n",
       "      <td>+34.1674127</td>\n",
       "      <td>-118.6298536</td>\n",
       "      <td>G5030</td>\n",
       "      <td>Block Group 1</td>\n",
       "      <td>06</td>\n",
       "      <td>137000</td>\n",
       "      <td>POLYGON ((-118.636332 34.163179, -118.636312 3...</td>\n",
       "    </tr>\n",
       "    <tr>\n",
       "      <th>15389</th>\n",
       "      <td>1836175</td>\n",
       "      <td>0</td>\n",
       "      <td>2</td>\n",
       "      <td>037</td>\n",
       "      <td>S</td>\n",
       "      <td>060371370002</td>\n",
       "      <td>+34.1669674</td>\n",
       "      <td>-118.6423283</td>\n",
       "      <td>G5030</td>\n",
       "      <td>Block Group 2</td>\n",
       "      <td>06</td>\n",
       "      <td>137000</td>\n",
       "      <td>POLYGON ((-118.658618 34.171419, -118.658488 3...</td>\n",
       "    </tr>\n",
       "    <tr>\n",
       "      <th>7976</th>\n",
       "      <td>1169619</td>\n",
       "      <td>4374</td>\n",
       "      <td>1</td>\n",
       "      <td>037</td>\n",
       "      <td>S</td>\n",
       "      <td>060371370001</td>\n",
       "      <td>+34.1674127</td>\n",
       "      <td>-118.6298536</td>\n",
       "      <td>G5030</td>\n",
       "      <td>Block Group 1</td>\n",
       "      <td>06</td>\n",
       "      <td>137000</td>\n",
       "      <td>POLYGON ((-118.636332 34.163179, -118.636312 3...</td>\n",
       "    </tr>\n",
       "  </tbody>\n",
       "</table>\n",
       "</div>"
      ],
      "text/plain": [
       "         ALAND  AWATER BLKGRPCE COUNTYFP FUNCSTAT         GEOID     INTPTLAT  \\\n",
       "15389  1836175       0        2      037        S  060371370002  +34.1669674   \n",
       "7976   1169619    4374        1      037        S  060371370001  +34.1674127   \n",
       "15389  1836175       0        2      037        S  060371370002  +34.1669674   \n",
       "7976   1169619    4374        1      037        S  060371370001  +34.1674127   \n",
       "\n",
       "           INTPTLON  MTFCC       NAMELSAD STATEFP TRACTCE  \\\n",
       "15389  -118.6423283  G5030  Block Group 2      06  137000   \n",
       "7976   -118.6298536  G5030  Block Group 1      06  137000   \n",
       "15389  -118.6423283  G5030  Block Group 2      06  137000   \n",
       "7976   -118.6298536  G5030  Block Group 1      06  137000   \n",
       "\n",
       "                                                geometry  \n",
       "15389  POLYGON ((-118.658618 34.171419, -118.658488 3...  \n",
       "7976   POLYGON ((-118.636332 34.163179, -118.636312 3...  \n",
       "15389  POLYGON ((-118.658618 34.171419, -118.658488 3...  \n",
       "7976   POLYGON ((-118.636332 34.163179, -118.636312 3...  "
      ]
     },
     "execution_count": 36,
     "metadata": {},
     "output_type": "execute_result"
    }
   ],
   "source": [
    "lost_block_groups.head()"
   ]
  },
  {
   "cell_type": "code",
   "execution_count": 37,
   "metadata": {
    "collapsed": false
   },
   "outputs": [],
   "source": [
    "# Get rid of colums we do not need:\n",
    "blocks_df = blocks_df.loc[:,['GEOID', 'CD115', 'geometry',\n",
    "                                 'Predicted 2015 Population',\n",
    "                                 'Centroid Longitude', 'Centroid Latitude']]"
   ]
  },
  {
   "cell_type": "code",
   "execution_count": 38,
   "metadata": {
    "collapsed": false
   },
   "outputs": [
    {
     "data": {
      "text/html": [
       "<div>\n",
       "<table border=\"1\" class=\"dataframe\">\n",
       "  <thead>\n",
       "    <tr style=\"text-align: right;\">\n",
       "      <th></th>\n",
       "      <th>GEOID</th>\n",
       "      <th>CD115</th>\n",
       "      <th>geometry</th>\n",
       "      <th>Predicted 2015 Population</th>\n",
       "      <th>Centroid Longitude</th>\n",
       "      <th>Centroid Latitude</th>\n",
       "    </tr>\n",
       "  </thead>\n",
       "  <tbody>\n",
       "    <tr>\n",
       "      <th>0</th>\n",
       "      <td>060014403362001</td>\n",
       "      <td>15</td>\n",
       "      <td>POLYGON ((-122.010627 37.582659, -122.010821 3...</td>\n",
       "      <td>4.419957</td>\n",
       "      <td>-122.009388</td>\n",
       "      <td>37.582305</td>\n",
       "    </tr>\n",
       "    <tr>\n",
       "      <th>1</th>\n",
       "      <td>060014403362022</td>\n",
       "      <td>15</td>\n",
       "      <td>POLYGON ((-122.01992 37.580664, -122.019717 37...</td>\n",
       "      <td>72.929284</td>\n",
       "      <td>-122.019607</td>\n",
       "      <td>37.579861</td>\n",
       "    </tr>\n",
       "    <tr>\n",
       "      <th>2</th>\n",
       "      <td>060014403362016</td>\n",
       "      <td>15</td>\n",
       "      <td>POLYGON ((-122.020727 37.575511, -122.020871 3...</td>\n",
       "      <td>91.714100</td>\n",
       "      <td>-122.021492</td>\n",
       "      <td>37.576608</td>\n",
       "    </tr>\n",
       "    <tr>\n",
       "      <th>3</th>\n",
       "      <td>060014403362000</td>\n",
       "      <td>15</td>\n",
       "      <td>POLYGON ((-122.009107 37.58342, -122.008322 37...</td>\n",
       "      <td>0.000000</td>\n",
       "      <td>-122.007805</td>\n",
       "      <td>37.582754</td>\n",
       "    </tr>\n",
       "    <tr>\n",
       "      <th>4</th>\n",
       "      <td>060014403362004</td>\n",
       "      <td>15</td>\n",
       "      <td>POLYGON ((-122.015701 37.584183, -122.015746 3...</td>\n",
       "      <td>69.614317</td>\n",
       "      <td>-122.016318</td>\n",
       "      <td>37.583568</td>\n",
       "    </tr>\n",
       "  </tbody>\n",
       "</table>\n",
       "</div>"
      ],
      "text/plain": [
       "             GEOID CD115                                           geometry  \\\n",
       "0  060014403362001    15  POLYGON ((-122.010627 37.582659, -122.010821 3...   \n",
       "1  060014403362022    15  POLYGON ((-122.01992 37.580664, -122.019717 37...   \n",
       "2  060014403362016    15  POLYGON ((-122.020727 37.575511, -122.020871 3...   \n",
       "3  060014403362000    15  POLYGON ((-122.009107 37.58342, -122.008322 37...   \n",
       "4  060014403362004    15  POLYGON ((-122.015701 37.584183, -122.015746 3...   \n",
       "\n",
       "   Predicted 2015 Population  Centroid Longitude  Centroid Latitude  \n",
       "0                   4.419957         -122.009388          37.582305  \n",
       "1                  72.929284         -122.019607          37.579861  \n",
       "2                  91.714100         -122.021492          37.576608  \n",
       "3                   0.000000         -122.007805          37.582754  \n",
       "4                  69.614317         -122.016318          37.583568  "
      ]
     },
     "execution_count": 38,
     "metadata": {},
     "output_type": "execute_result"
    }
   ],
   "source": [
    "blocks_df.head()"
   ]
  },
  {
   "cell_type": "code",
   "execution_count": 39,
   "metadata": {
    "collapsed": false
   },
   "outputs": [
    {
     "name": "stdout",
     "output_type": "stream",
     "text": [
      "Saving file...\n",
      "Done!\n"
     ]
    }
   ],
   "source": [
    "# Give columns better names:\n",
    "blocks_df.rename(columns={'CD115': 'Congressional District',\n",
    "                          'Centroid Longitude': 'Centroid Longitude',\n",
    "                          'Centroid Latitude': 'Centroid Latitude'},\n",
    "                  inplace=True)\n",
    "blocks_df['Congressional District'] = blocks_df['Congressional District'].apply(str)\n",
    "blocks_df['Centroid Longitude'] = blocks_df['Centroid Longitude'].apply(float)\n",
    "blocks_df['Centroid Latitude'] = blocks_df['Centroid Latitude'].apply(float)\n",
    "blocks_df['Predicted 2015 Population'] = blocks_df['Predicted 2015 Population'].apply(float)\n",
    "# We are finally done, save the file!\n",
    "print 'Saving file...'\n",
    "blocks_df = gpd.GeoDataFrame(blocks_df)\n",
    "with open(blocks_geojson_filename, 'w') as outfile:\n",
    "    outfile.write(blocks_df.to_json())\n",
    "# In the rest of this code the block-wise dataframe with predicted\n",
    "# populations is called just df:\n",
    "df = blocks_df\n",
    "del blocks_df\n",
    "print 'Done!'"
   ]
  },
  {
   "cell_type": "code",
   "execution_count": 40,
   "metadata": {
    "collapsed": false
   },
   "outputs": [],
   "source": [
    "population_df.head()\n",
    "lost_block_groups = lost_block_groups.merge(population_df, on='GEOID')"
   ]
  },
  {
   "cell_type": "code",
   "execution_count": 41,
   "metadata": {
    "collapsed": false
   },
   "outputs": [],
   "source": [
    "lost_block_groups.head()\n",
    "lost_block_groups['Centroid Longitude'] = lost_block_groups['geometry'].centroid.apply(get_x)\n",
    "    \n",
    "lost_block_groups['Centroid Latitude'] = lost_block_groups['geometry'].centroid.apply(get_y)"
   ]
  },
  {
   "cell_type": "code",
   "execution_count": 42,
   "metadata": {
    "collapsed": false
   },
   "outputs": [
    {
     "data": {
      "text/html": [
       "<div>\n",
       "<table border=\"1\" class=\"dataframe\">\n",
       "  <thead>\n",
       "    <tr style=\"text-align: right;\">\n",
       "      <th></th>\n",
       "      <th>GEOID</th>\n",
       "      <th>geometry</th>\n",
       "      <th>Predicted 2015 Population</th>\n",
       "      <th>Centroid Longitude</th>\n",
       "      <th>Centroid Latitude</th>\n",
       "    </tr>\n",
       "  </thead>\n",
       "  <tbody>\n",
       "    <tr>\n",
       "      <th>0</th>\n",
       "      <td>060371370002</td>\n",
       "      <td>POLYGON ((-118.658618 34.171419, -118.658488 3...</td>\n",
       "      <td>2972</td>\n",
       "      <td>-118.642328</td>\n",
       "      <td>34.166967</td>\n",
       "    </tr>\n",
       "    <tr>\n",
       "      <th>1</th>\n",
       "      <td>060371370002</td>\n",
       "      <td>POLYGON ((-118.658618 34.171419, -118.658488 3...</td>\n",
       "      <td>2972</td>\n",
       "      <td>-118.642328</td>\n",
       "      <td>34.166967</td>\n",
       "    </tr>\n",
       "    <tr>\n",
       "      <th>2</th>\n",
       "      <td>060371370001</td>\n",
       "      <td>POLYGON ((-118.636332 34.163179, -118.636312 3...</td>\n",
       "      <td>1825</td>\n",
       "      <td>-118.628709</td>\n",
       "      <td>34.167565</td>\n",
       "    </tr>\n",
       "    <tr>\n",
       "      <th>3</th>\n",
       "      <td>060371370001</td>\n",
       "      <td>POLYGON ((-118.636332 34.163179, -118.636312 3...</td>\n",
       "      <td>1825</td>\n",
       "      <td>-118.628709</td>\n",
       "      <td>34.167565</td>\n",
       "    </tr>\n",
       "  </tbody>\n",
       "</table>\n",
       "</div>"
      ],
      "text/plain": [
       "          GEOID                                           geometry  \\\n",
       "0  060371370002  POLYGON ((-118.658618 34.171419, -118.658488 3...   \n",
       "1  060371370002  POLYGON ((-118.658618 34.171419, -118.658488 3...   \n",
       "2  060371370001  POLYGON ((-118.636332 34.163179, -118.636312 3...   \n",
       "3  060371370001  POLYGON ((-118.636332 34.163179, -118.636312 3...   \n",
       "\n",
       "   Predicted 2015 Population  Centroid Longitude  Centroid Latitude  \n",
       "0                       2972         -118.642328          34.166967  \n",
       "1                       2972         -118.642328          34.166967  \n",
       "2                       1825         -118.628709          34.167565  \n",
       "3                       1825         -118.628709          34.167565  "
      ]
     },
     "execution_count": 42,
     "metadata": {},
     "output_type": "execute_result"
    }
   ],
   "source": [
    "lost_block_groups.rename(columns={'B01003_001E': 'Predicted 2015 Population'}, inplace=True)\n",
    "\n",
    "lost_block_groups = lost_block_groups[['GEOID', 'geometry', 'Predicted 2015 Population', 'Centroid Longitude', 'Centroid Latitude']]\n",
    "lost_block_groups.head()\n"
   ]
  },
  {
   "cell_type": "code",
   "execution_count": 43,
   "metadata": {
    "collapsed": false
   },
   "outputs": [
    {
     "data": {
      "text/html": [
       "<div>\n",
       "<table border=\"1\" class=\"dataframe\">\n",
       "  <thead>\n",
       "    <tr style=\"text-align: right;\">\n",
       "      <th></th>\n",
       "      <th>GEOID</th>\n",
       "      <th>Congressional District</th>\n",
       "      <th>geometry</th>\n",
       "      <th>Predicted 2015 Population</th>\n",
       "      <th>Centroid Longitude</th>\n",
       "      <th>Centroid Latitude</th>\n",
       "    </tr>\n",
       "  </thead>\n",
       "  <tbody>\n",
       "    <tr>\n",
       "      <th>710080</th>\n",
       "      <td>061150407001005</td>\n",
       "      <td>03</td>\n",
       "      <td>POLYGON ((-121.56322 39.060734, -121.563498 39...</td>\n",
       "      <td>79.981330</td>\n",
       "      <td>-121.565061</td>\n",
       "      <td>39.061059</td>\n",
       "    </tr>\n",
       "    <tr>\n",
       "      <th>710081</th>\n",
       "      <td>061150407001011</td>\n",
       "      <td>03</td>\n",
       "      <td>POLYGON ((-121.564122 39.055659, -121.564198 3...</td>\n",
       "      <td>107.752625</td>\n",
       "      <td>-121.566563</td>\n",
       "      <td>39.056221</td>\n",
       "    </tr>\n",
       "    <tr>\n",
       "      <th>710082</th>\n",
       "      <td>061150407001021</td>\n",
       "      <td>03</td>\n",
       "      <td>POLYGON ((-121.571174 39.057055, -121.57112 39...</td>\n",
       "      <td>57.764294</td>\n",
       "      <td>-121.570227</td>\n",
       "      <td>39.057668</td>\n",
       "    </tr>\n",
       "    <tr>\n",
       "      <th>710083</th>\n",
       "      <td>061150407001020</td>\n",
       "      <td>03</td>\n",
       "      <td>POLYGON ((-121.567047 39.057303, -121.566169 3...</td>\n",
       "      <td>56.653442</td>\n",
       "      <td>-121.565671</td>\n",
       "      <td>39.056885</td>\n",
       "    </tr>\n",
       "    <tr>\n",
       "      <th>710084</th>\n",
       "      <td>061150407001008</td>\n",
       "      <td>03</td>\n",
       "      <td>POLYGON ((-121.575496 39.056277, -121.575283 3...</td>\n",
       "      <td>84.424737</td>\n",
       "      <td>-121.573833</td>\n",
       "      <td>39.055872</td>\n",
       "    </tr>\n",
       "  </tbody>\n",
       "</table>\n",
       "</div>"
      ],
      "text/plain": [
       "                  GEOID Congressional District  \\\n",
       "710080  061150407001005                     03   \n",
       "710081  061150407001011                     03   \n",
       "710082  061150407001021                     03   \n",
       "710083  061150407001020                     03   \n",
       "710084  061150407001008                     03   \n",
       "\n",
       "                                                 geometry  \\\n",
       "710080  POLYGON ((-121.56322 39.060734, -121.563498 39...   \n",
       "710081  POLYGON ((-121.564122 39.055659, -121.564198 3...   \n",
       "710082  POLYGON ((-121.571174 39.057055, -121.57112 39...   \n",
       "710083  POLYGON ((-121.567047 39.057303, -121.566169 3...   \n",
       "710084  POLYGON ((-121.575496 39.056277, -121.575283 3...   \n",
       "\n",
       "        Predicted 2015 Population  Centroid Longitude  Centroid Latitude  \n",
       "710080                  79.981330         -121.565061          39.061059  \n",
       "710081                 107.752625         -121.566563          39.056221  \n",
       "710082                  57.764294         -121.570227          39.057668  \n",
       "710083                  56.653442         -121.565671          39.056885  \n",
       "710084                  84.424737         -121.573833          39.055872  "
      ]
     },
     "execution_count": 43,
     "metadata": {},
     "output_type": "execute_result"
    }
   ],
   "source": [
    "df.tail()"
   ]
  },
  {
   "cell_type": "code",
   "execution_count": 44,
   "metadata": {
    "collapsed": false
   },
   "outputs": [
    {
     "data": {
      "text/html": [
       "<div>\n",
       "<table border=\"1\" class=\"dataframe\">\n",
       "  <thead>\n",
       "    <tr style=\"text-align: right;\">\n",
       "      <th></th>\n",
       "      <th>GEOID</th>\n",
       "      <th>B01003_001E</th>\n",
       "    </tr>\n",
       "  </thead>\n",
       "  <tbody>\n",
       "    <tr>\n",
       "      <th>0</th>\n",
       "      <td>060259400003</td>\n",
       "      <td>428</td>\n",
       "    </tr>\n",
       "    <tr>\n",
       "      <th>1</th>\n",
       "      <td>060250108002</td>\n",
       "      <td>786</td>\n",
       "    </tr>\n",
       "    <tr>\n",
       "      <th>2</th>\n",
       "      <td>060250108001</td>\n",
       "      <td>700</td>\n",
       "    </tr>\n",
       "    <tr>\n",
       "      <th>3</th>\n",
       "      <td>060250111003</td>\n",
       "      <td>1277</td>\n",
       "    </tr>\n",
       "    <tr>\n",
       "      <th>4</th>\n",
       "      <td>060730100132</td>\n",
       "      <td>3508</td>\n",
       "    </tr>\n",
       "  </tbody>\n",
       "</table>\n",
       "</div>"
      ],
      "text/plain": [
       "          GEOID  B01003_001E\n",
       "0  060259400003          428\n",
       "1  060250108002          786\n",
       "2  060250108001          700\n",
       "3  060250111003         1277\n",
       "4  060730100132         3508"
      ]
     },
     "execution_count": 44,
     "metadata": {},
     "output_type": "execute_result"
    }
   ],
   "source": [
    "block_groups_df.head()"
   ]
  },
  {
   "cell_type": "code",
   "execution_count": 47,
   "metadata": {
    "collapsed": false
   },
   "outputs": [],
   "source": [
    "usa = gpd.read_file(usa_shapefile_path)\n",
    "cong_dist = usa[usa['STATEFP'].apply(\n",
    "    int) == int(state_fips)]\n",
    "del usa\n"
   ]
  },
  {
   "cell_type": "code",
   "execution_count": 48,
   "metadata": {
    "collapsed": false
   },
   "outputs": [
    {
     "data": {
      "text/html": [
       "<div>\n",
       "<table border=\"1\" class=\"dataframe\">\n",
       "  <thead>\n",
       "    <tr style=\"text-align: right;\">\n",
       "      <th></th>\n",
       "      <th>ALAND</th>\n",
       "      <th>AWATER</th>\n",
       "      <th>CD115FP</th>\n",
       "      <th>CDSESSN</th>\n",
       "      <th>FUNCSTAT</th>\n",
       "      <th>GEOID</th>\n",
       "      <th>INTPTLAT</th>\n",
       "      <th>INTPTLON</th>\n",
       "      <th>LSAD</th>\n",
       "      <th>MTFCC</th>\n",
       "      <th>NAMELSAD</th>\n",
       "      <th>STATEFP</th>\n",
       "      <th>geometry</th>\n",
       "    </tr>\n",
       "  </thead>\n",
       "  <tbody>\n",
       "    <tr>\n",
       "      <th>10</th>\n",
       "      <td>72748256590</td>\n",
       "      <td>1946596856</td>\n",
       "      <td>01</td>\n",
       "      <td>115</td>\n",
       "      <td>N</td>\n",
       "      <td>0601</td>\n",
       "      <td>+40.7319880</td>\n",
       "      <td>-121.5105160</td>\n",
       "      <td>C2</td>\n",
       "      <td>G5200</td>\n",
       "      <td>Congressional District 1</td>\n",
       "      <td>06</td>\n",
       "      <td>POLYGON ((-123.719174 41.595613, -123.719001 4...</td>\n",
       "    </tr>\n",
       "    <tr>\n",
       "      <th>53</th>\n",
       "      <td>33546252741</td>\n",
       "      <td>4122497535</td>\n",
       "      <td>02</td>\n",
       "      <td>115</td>\n",
       "      <td>N</td>\n",
       "      <td>0602</td>\n",
       "      <td>+40.0940587</td>\n",
       "      <td>-123.4649741</td>\n",
       "      <td>C2</td>\n",
       "      <td>G5200</td>\n",
       "      <td>Congressional District 2</td>\n",
       "      <td>06</td>\n",
       "      <td>POLYGON ((-124.482003 40.440318, -124.479158 4...</td>\n",
       "    </tr>\n",
       "    <tr>\n",
       "      <th>96</th>\n",
       "      <td>16016036562</td>\n",
       "      <td>456647023</td>\n",
       "      <td>03</td>\n",
       "      <td>115</td>\n",
       "      <td>N</td>\n",
       "      <td>0603</td>\n",
       "      <td>+39.0319525</td>\n",
       "      <td>-122.0895732</td>\n",
       "      <td>C2</td>\n",
       "      <td>G5200</td>\n",
       "      <td>Congressional District 3</td>\n",
       "      <td>06</td>\n",
       "      <td>POLYGON ((-123.094216 39.088949, -123.094209 3...</td>\n",
       "    </tr>\n",
       "    <tr>\n",
       "      <th>134</th>\n",
       "      <td>33247359932</td>\n",
       "      <td>858072510</td>\n",
       "      <td>04</td>\n",
       "      <td>115</td>\n",
       "      <td>N</td>\n",
       "      <td>0604</td>\n",
       "      <td>+37.9824523</td>\n",
       "      <td>-119.9279734</td>\n",
       "      <td>C2</td>\n",
       "      <td>G5200</td>\n",
       "      <td>Congressional District 4</td>\n",
       "      <td>06</td>\n",
       "      <td>POLYGON ((-121.484441 38.750048, -121.48444 38...</td>\n",
       "    </tr>\n",
       "    <tr>\n",
       "      <th>168</th>\n",
       "      <td>4482770962</td>\n",
       "      <td>319057830</td>\n",
       "      <td>05</td>\n",
       "      <td>115</td>\n",
       "      <td>N</td>\n",
       "      <td>0605</td>\n",
       "      <td>+38.5158063</td>\n",
       "      <td>-122.4625595</td>\n",
       "      <td>C2</td>\n",
       "      <td>G5200</td>\n",
       "      <td>Congressional District 5</td>\n",
       "      <td>06</td>\n",
       "      <td>POLYGON ((-123.056317 39.023363, -123.056288 3...</td>\n",
       "    </tr>\n",
       "  </tbody>\n",
       "</table>\n",
       "</div>"
      ],
      "text/plain": [
       "           ALAND      AWATER CD115FP CDSESSN FUNCSTAT GEOID     INTPTLAT  \\\n",
       "10   72748256590  1946596856      01     115        N  0601  +40.7319880   \n",
       "53   33546252741  4122497535      02     115        N  0602  +40.0940587   \n",
       "96   16016036562   456647023      03     115        N  0603  +39.0319525   \n",
       "134  33247359932   858072510      04     115        N  0604  +37.9824523   \n",
       "168   4482770962   319057830      05     115        N  0605  +38.5158063   \n",
       "\n",
       "         INTPTLON LSAD  MTFCC                  NAMELSAD STATEFP  \\\n",
       "10   -121.5105160   C2  G5200  Congressional District 1      06   \n",
       "53   -123.4649741   C2  G5200  Congressional District 2      06   \n",
       "96   -122.0895732   C2  G5200  Congressional District 3      06   \n",
       "134  -119.9279734   C2  G5200  Congressional District 4      06   \n",
       "168  -122.4625595   C2  G5200  Congressional District 5      06   \n",
       "\n",
       "                                              geometry  \n",
       "10   POLYGON ((-123.719174 41.595613, -123.719001 4...  \n",
       "53   POLYGON ((-124.482003 40.440318, -124.479158 4...  \n",
       "96   POLYGON ((-123.094216 39.088949, -123.094209 3...  \n",
       "134  POLYGON ((-121.484441 38.750048, -121.48444 38...  \n",
       "168  POLYGON ((-123.056317 39.023363, -123.056288 3...  "
      ]
     },
     "execution_count": 48,
     "metadata": {},
     "output_type": "execute_result"
    }
   ],
   "source": [
    "cong_dist.head()"
   ]
  },
  {
   "cell_type": "code",
   "execution_count": 49,
   "metadata": {
    "collapsed": false
   },
   "outputs": [
    {
     "data": {
      "text/html": [
       "<div>\n",
       "<table border=\"1\" class=\"dataframe\">\n",
       "  <thead>\n",
       "    <tr style=\"text-align: right;\">\n",
       "      <th></th>\n",
       "      <th>GEOID</th>\n",
       "      <th>Congressional District</th>\n",
       "    </tr>\n",
       "  </thead>\n",
       "  <tbody>\n",
       "  </tbody>\n",
       "</table>\n",
       "</div>"
      ],
      "text/plain": [
       "Empty DataFrame\n",
       "Columns: [GEOID, Congressional District]\n",
       "Index: []"
      ]
     },
     "execution_count": 49,
     "metadata": {},
     "output_type": "execute_result"
    }
   ],
   "source": [
    "missing_bg_cong_dist = pd.DataFrame(columns=[['GEOID', 'Congressional District']])\n",
    "missing_bg_cong_dist.head()"
   ]
  },
  {
   "cell_type": "code",
   "execution_count": 50,
   "metadata": {
    "collapsed": false
   },
   "outputs": [
    {
     "data": {
      "text/plain": [
       "([u'060371370002', u'060371370002', u'060371370001', u'060371370001'],\n",
       " [u'30', u'30', u'30', u'30'])"
      ]
     },
     "execution_count": 50,
     "metadata": {},
     "output_type": "execute_result"
    }
   ],
   "source": [
    "geoid = []\n",
    "cd = []\n",
    "for bg_index, bg_row in lost_block_groups.iterrows():\n",
    "    for dist_index, dist_row in cong_dist.iterrows():\n",
    "        bg_area =  bg_row['geometry'].area\n",
    "        intersection_area = bg_row['geometry'].intersection(dist_row['geometry']).area\n",
    "        if bg_area - intersection_area < 1e-10:\n",
    "#             print bg_index, dist_row['CD115FP']\n",
    "#             print intersection_area, bg_area\n",
    "            geoid.append(bg_row['GEOID'])\n",
    "            cd.append(dist_row['CD115FP'])\n",
    "        \n",
    "geoid, cd"
   ]
  },
  {
   "cell_type": "code",
   "execution_count": 51,
   "metadata": {
    "collapsed": false
   },
   "outputs": [
    {
     "data": {
      "text/html": [
       "<div>\n",
       "<table border=\"1\" class=\"dataframe\">\n",
       "  <thead>\n",
       "    <tr style=\"text-align: right;\">\n",
       "      <th></th>\n",
       "      <th>GEOID</th>\n",
       "      <th>Congressional District</th>\n",
       "    </tr>\n",
       "  </thead>\n",
       "  <tbody>\n",
       "    <tr>\n",
       "      <th>0</th>\n",
       "      <td>060371370002</td>\n",
       "      <td>30</td>\n",
       "    </tr>\n",
       "    <tr>\n",
       "      <th>1</th>\n",
       "      <td>060371370002</td>\n",
       "      <td>30</td>\n",
       "    </tr>\n",
       "    <tr>\n",
       "      <th>2</th>\n",
       "      <td>060371370001</td>\n",
       "      <td>30</td>\n",
       "    </tr>\n",
       "    <tr>\n",
       "      <th>3</th>\n",
       "      <td>060371370001</td>\n",
       "      <td>30</td>\n",
       "    </tr>\n",
       "  </tbody>\n",
       "</table>\n",
       "</div>"
      ],
      "text/plain": [
       "          GEOID Congressional District\n",
       "0  060371370002                     30\n",
       "1  060371370002                     30\n",
       "2  060371370001                     30\n",
       "3  060371370001                     30"
      ]
     },
     "execution_count": 51,
     "metadata": {},
     "output_type": "execute_result"
    }
   ],
   "source": [
    "missing_bg_cong_dist['GEOID'] = geoid\n",
    "missing_bg_cong_dist['Congressional District'] = cd\n",
    "missing_bg_cong_dist.head()"
   ]
  },
  {
   "cell_type": "code",
   "execution_count": 52,
   "metadata": {
    "collapsed": false
   },
   "outputs": [],
   "source": [
    "lost_block_groups = lost_block_groups.merge(missing_bg_cong_dist, on = 'GEOID')\n",
    "# del lost_block_groups['Congressional District_x']\n",
    "# del lost_block_groups['Congressional District_y']"
   ]
  },
  {
   "cell_type": "code",
   "execution_count": 53,
   "metadata": {
    "collapsed": false
   },
   "outputs": [
    {
     "data": {
      "text/html": [
       "<div>\n",
       "<table border=\"1\" class=\"dataframe\">\n",
       "  <thead>\n",
       "    <tr style=\"text-align: right;\">\n",
       "      <th></th>\n",
       "      <th>GEOID</th>\n",
       "      <th>geometry</th>\n",
       "      <th>Predicted 2015 Population</th>\n",
       "      <th>Centroid Longitude</th>\n",
       "      <th>Centroid Latitude</th>\n",
       "      <th>Congressional District</th>\n",
       "    </tr>\n",
       "  </thead>\n",
       "  <tbody>\n",
       "    <tr>\n",
       "      <th>3</th>\n",
       "      <td>060371370002</td>\n",
       "      <td>POLYGON ((-118.658618 34.171419, -118.658488 3...</td>\n",
       "      <td>2972</td>\n",
       "      <td>-118.642328</td>\n",
       "      <td>34.166967</td>\n",
       "      <td>30</td>\n",
       "    </tr>\n",
       "    <tr>\n",
       "      <th>4</th>\n",
       "      <td>060371370001</td>\n",
       "      <td>POLYGON ((-118.636332 34.163179, -118.636312 3...</td>\n",
       "      <td>1825</td>\n",
       "      <td>-118.628709</td>\n",
       "      <td>34.167565</td>\n",
       "      <td>30</td>\n",
       "    </tr>\n",
       "    <tr>\n",
       "      <th>5</th>\n",
       "      <td>060371370001</td>\n",
       "      <td>POLYGON ((-118.636332 34.163179, -118.636312 3...</td>\n",
       "      <td>1825</td>\n",
       "      <td>-118.628709</td>\n",
       "      <td>34.167565</td>\n",
       "      <td>30</td>\n",
       "    </tr>\n",
       "    <tr>\n",
       "      <th>6</th>\n",
       "      <td>060371370001</td>\n",
       "      <td>POLYGON ((-118.636332 34.163179, -118.636312 3...</td>\n",
       "      <td>1825</td>\n",
       "      <td>-118.628709</td>\n",
       "      <td>34.167565</td>\n",
       "      <td>30</td>\n",
       "    </tr>\n",
       "    <tr>\n",
       "      <th>7</th>\n",
       "      <td>060371370001</td>\n",
       "      <td>POLYGON ((-118.636332 34.163179, -118.636312 3...</td>\n",
       "      <td>1825</td>\n",
       "      <td>-118.628709</td>\n",
       "      <td>34.167565</td>\n",
       "      <td>30</td>\n",
       "    </tr>\n",
       "  </tbody>\n",
       "</table>\n",
       "</div>"
      ],
      "text/plain": [
       "          GEOID                                           geometry  \\\n",
       "3  060371370002  POLYGON ((-118.658618 34.171419, -118.658488 3...   \n",
       "4  060371370001  POLYGON ((-118.636332 34.163179, -118.636312 3...   \n",
       "5  060371370001  POLYGON ((-118.636332 34.163179, -118.636312 3...   \n",
       "6  060371370001  POLYGON ((-118.636332 34.163179, -118.636312 3...   \n",
       "7  060371370001  POLYGON ((-118.636332 34.163179, -118.636312 3...   \n",
       "\n",
       "   Predicted 2015 Population  Centroid Longitude  Centroid Latitude  \\\n",
       "3                       2972         -118.642328          34.166967   \n",
       "4                       1825         -118.628709          34.167565   \n",
       "5                       1825         -118.628709          34.167565   \n",
       "6                       1825         -118.628709          34.167565   \n",
       "7                       1825         -118.628709          34.167565   \n",
       "\n",
       "  Congressional District  \n",
       "3                     30  \n",
       "4                     30  \n",
       "5                     30  \n",
       "6                     30  \n",
       "7                     30  "
      ]
     },
     "execution_count": 53,
     "metadata": {},
     "output_type": "execute_result"
    }
   ],
   "source": [
    "lost_block_groups.tail()\n"
   ]
  },
  {
   "cell_type": "code",
   "execution_count": 54,
   "metadata": {
    "collapsed": false
   },
   "outputs": [
    {
     "data": {
      "text/html": [
       "<div>\n",
       "<table border=\"1\" class=\"dataframe\">\n",
       "  <thead>\n",
       "    <tr style=\"text-align: right;\">\n",
       "      <th></th>\n",
       "      <th>GEOID</th>\n",
       "      <th>Congressional District</th>\n",
       "      <th>geometry</th>\n",
       "      <th>Predicted 2015 Population</th>\n",
       "      <th>Centroid Longitude</th>\n",
       "      <th>Centroid Latitude</th>\n",
       "    </tr>\n",
       "  </thead>\n",
       "  <tbody>\n",
       "    <tr>\n",
       "      <th>0</th>\n",
       "      <td>060014403362001</td>\n",
       "      <td>15</td>\n",
       "      <td>POLYGON ((-122.010627 37.582659, -122.010821 3...</td>\n",
       "      <td>4.419957</td>\n",
       "      <td>-122.009388</td>\n",
       "      <td>37.582305</td>\n",
       "    </tr>\n",
       "    <tr>\n",
       "      <th>1</th>\n",
       "      <td>060014403362022</td>\n",
       "      <td>15</td>\n",
       "      <td>POLYGON ((-122.01992 37.580664, -122.019717 37...</td>\n",
       "      <td>72.929284</td>\n",
       "      <td>-122.019607</td>\n",
       "      <td>37.579861</td>\n",
       "    </tr>\n",
       "    <tr>\n",
       "      <th>2</th>\n",
       "      <td>060014403362016</td>\n",
       "      <td>15</td>\n",
       "      <td>POLYGON ((-122.020727 37.575511, -122.020871 3...</td>\n",
       "      <td>91.714100</td>\n",
       "      <td>-122.021492</td>\n",
       "      <td>37.576608</td>\n",
       "    </tr>\n",
       "    <tr>\n",
       "      <th>3</th>\n",
       "      <td>060014403362000</td>\n",
       "      <td>15</td>\n",
       "      <td>POLYGON ((-122.009107 37.58342, -122.008322 37...</td>\n",
       "      <td>0.000000</td>\n",
       "      <td>-122.007805</td>\n",
       "      <td>37.582754</td>\n",
       "    </tr>\n",
       "    <tr>\n",
       "      <th>4</th>\n",
       "      <td>060014403362004</td>\n",
       "      <td>15</td>\n",
       "      <td>POLYGON ((-122.015701 37.584183, -122.015746 3...</td>\n",
       "      <td>69.614317</td>\n",
       "      <td>-122.016318</td>\n",
       "      <td>37.583568</td>\n",
       "    </tr>\n",
       "  </tbody>\n",
       "</table>\n",
       "</div>"
      ],
      "text/plain": [
       "             GEOID Congressional District  \\\n",
       "0  060014403362001                     15   \n",
       "1  060014403362022                     15   \n",
       "2  060014403362016                     15   \n",
       "3  060014403362000                     15   \n",
       "4  060014403362004                     15   \n",
       "\n",
       "                                            geometry  \\\n",
       "0  POLYGON ((-122.010627 37.582659, -122.010821 3...   \n",
       "1  POLYGON ((-122.01992 37.580664, -122.019717 37...   \n",
       "2  POLYGON ((-122.020727 37.575511, -122.020871 3...   \n",
       "3  POLYGON ((-122.009107 37.58342, -122.008322 37...   \n",
       "4  POLYGON ((-122.015701 37.584183, -122.015746 3...   \n",
       "\n",
       "   Predicted 2015 Population  Centroid Longitude  Centroid Latitude  \n",
       "0                   4.419957         -122.009388          37.582305  \n",
       "1                  72.929284         -122.019607          37.579861  \n",
       "2                  91.714100         -122.021492          37.576608  \n",
       "3                   0.000000         -122.007805          37.582754  \n",
       "4                  69.614317         -122.016318          37.583568  "
      ]
     },
     "execution_count": 54,
     "metadata": {},
     "output_type": "execute_result"
    }
   ],
   "source": [
    "df.head()"
   ]
  },
  {
   "cell_type": "code",
   "execution_count": 55,
   "metadata": {
    "collapsed": false
   },
   "outputs": [
    {
     "data": {
      "text/plain": [
       "(710093, 6)"
      ]
     },
     "execution_count": 55,
     "metadata": {},
     "output_type": "execute_result"
    }
   ],
   "source": [
    "df.shape\n",
    "df = df.append(lost_block_groups, ignore_index=True)\n",
    "df.shape"
   ]
  },
  {
   "cell_type": "code",
   "execution_count": 56,
   "metadata": {
    "collapsed": false,
    "scrolled": true
   },
   "outputs": [
    {
     "data": {
      "text/plain": [
       "<matplotlib.axes._subplots.AxesSubplot at 0x7ff6d0218b50>"
      ]
     },
     "execution_count": 56,
     "metadata": {},
     "output_type": "execute_result"
    },
    {
     "data": {
      "image/png": "[encoded data removed]",
      "text/plain": [
       "<matplotlib.figure.Figure at 0x7ff6d0254a10>"
      ]
     },
     "metadata": {},
     "output_type": "display_data"
    }
   ],
   "source": [
    "df.dissolve(by='Congressional District').plot()"
   ]
  }
 ],
 "metadata": {
  "anaconda-cloud": {},
  "kernelspec": {
   "display_name": "Python [default]",
   "language": "python",
   "name": "python2"
  },
  "language_info": {
   "codemirror_mode": {
    "name": "ipython",
    "version": 2
   },
   "file_extension": ".py",
   "mimetype": "text/x-python",
   "name": "python",
   "nbconvert_exporter": "python",
   "pygments_lexer": "ipython2",
   "version": "2.7.12"
  }
 },
 "nbformat": 4,
 "nbformat_minor": 2
}
