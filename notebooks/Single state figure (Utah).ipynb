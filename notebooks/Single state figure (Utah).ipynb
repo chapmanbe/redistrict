{
 "cells": [
  {
   "cell_type": "code",
   "execution_count": null,
   "metadata": {
    "collapsed": false
   },
   "outputs": [],
   "source": [
    "%matplotlib inline\n",
    "\n",
    "# Assuming we are in the notebooks directory, we need to move one up:\n",
    "%cd ..\n",
    "\n",
    "from __future__ import print_function\n",
    "\n",
    "import os\n",
    "import us\n",
    "import glob\n",
    "\n",
    "import numpy as np\n",
    "import pandas as pd\n",
    "import seaborn as sns\n",
    "import geopandas as gpd\n",
    "import matplotlib.pyplot as plt"
   ]
  },
  {
   "cell_type": "markdown",
   "metadata": {},
   "source": [
    "# Utah"
   ]
  },
  {
   "cell_type": "code",
   "execution_count": 2,
   "metadata": {
    "collapsed": false
   },
   "outputs": [],
   "source": [
    "state_name = 'UT'\n",
    "best_path = glob.glob('./clustered/best_stats/' + state_name +'*')[0]\n",
    "best_basename = os.path.basename(best_path)\n",
    "filename, file_extension = os.path.splitext(best_basename)\n",
    "state = gpd.read_file(glob.glob('./clustered/geojson_results/' + filename +'.geojson')[0])"
   ]
  },
  {
   "cell_type": "code",
   "execution_count": 3,
   "metadata": {
    "collapsed": false
   },
   "outputs": [
    {
     "data": {
      "text/html": [
       "<div>\n",
       "<table border=\"1\" class=\"dataframe\">\n",
       "  <thead>\n",
       "    <tr style=\"text-align: right;\">\n",
       "      <th></th>\n",
       "      <th>Alpha</th>\n",
       "      <th>Beta</th>\n",
       "      <th>Centroid Latitude</th>\n",
       "      <th>Centroid Longitude</th>\n",
       "      <th>Cluster</th>\n",
       "      <th>Congressional District</th>\n",
       "      <th>GEOID</th>\n",
       "      <th>Predicted 2015 Population</th>\n",
       "      <th>geometry</th>\n",
       "      <th>id</th>\n",
       "    </tr>\n",
       "  </thead>\n",
       "  <tbody>\n",
       "    <tr>\n",
       "      <th>0</th>\n",
       "      <td>3.0</td>\n",
       "      <td>0.5</td>\n",
       "      <td>38.215673</td>\n",
       "      <td>-112.532952</td>\n",
       "      <td>3</td>\n",
       "      <td>02</td>\n",
       "      <td>490011001001490</td>\n",
       "      <td>0.0</td>\n",
       "      <td>POLYGON ((-112.537887 38.214833, -112.537886 3...</td>\n",
       "      <td>0</td>\n",
       "    </tr>\n",
       "    <tr>\n",
       "      <th>1</th>\n",
       "      <td>3.0</td>\n",
       "      <td>0.5</td>\n",
       "      <td>38.189881</td>\n",
       "      <td>-112.534329</td>\n",
       "      <td>3</td>\n",
       "      <td>02</td>\n",
       "      <td>490011001001647</td>\n",
       "      <td>0.0</td>\n",
       "      <td>POLYGON ((-112.514011 38.192667, -112.513672 3...</td>\n",
       "      <td>1</td>\n",
       "    </tr>\n",
       "    <tr>\n",
       "      <th>2</th>\n",
       "      <td>3.0</td>\n",
       "      <td>0.5</td>\n",
       "      <td>38.173786</td>\n",
       "      <td>-112.494037</td>\n",
       "      <td>3</td>\n",
       "      <td>02</td>\n",
       "      <td>490011001001599</td>\n",
       "      <td>0.0</td>\n",
       "      <td>POLYGON ((-112.484921 38.169493, -112.485155 3...</td>\n",
       "      <td>2</td>\n",
       "    </tr>\n",
       "    <tr>\n",
       "      <th>3</th>\n",
       "      <td>3.0</td>\n",
       "      <td>0.5</td>\n",
       "      <td>38.157100</td>\n",
       "      <td>-112.555520</td>\n",
       "      <td>3</td>\n",
       "      <td>02</td>\n",
       "      <td>490011001001649</td>\n",
       "      <td>0.0</td>\n",
       "      <td>POLYGON ((-112.57238 38.168472, -112.572392 38...</td>\n",
       "      <td>3</td>\n",
       "    </tr>\n",
       "    <tr>\n",
       "      <th>4</th>\n",
       "      <td>3.0</td>\n",
       "      <td>0.5</td>\n",
       "      <td>38.152430</td>\n",
       "      <td>-112.522103</td>\n",
       "      <td>3</td>\n",
       "      <td>02</td>\n",
       "      <td>490011001001651</td>\n",
       "      <td>0.0</td>\n",
       "      <td>POLYGON ((-112.521503 38.150862, -112.521679 3...</td>\n",
       "      <td>4</td>\n",
       "    </tr>\n",
       "  </tbody>\n",
       "</table>\n",
       "</div>"
      ],
      "text/plain": [
       "   Alpha  Beta  Centroid Latitude  Centroid Longitude  Cluster  \\\n",
       "0    3.0   0.5          38.215673         -112.532952        3   \n",
       "1    3.0   0.5          38.189881         -112.534329        3   \n",
       "2    3.0   0.5          38.173786         -112.494037        3   \n",
       "3    3.0   0.5          38.157100         -112.555520        3   \n",
       "4    3.0   0.5          38.152430         -112.522103        3   \n",
       "\n",
       "  Congressional District            GEOID  Predicted 2015 Population  \\\n",
       "0                     02  490011001001490                        0.0   \n",
       "1                     02  490011001001647                        0.0   \n",
       "2                     02  490011001001599                        0.0   \n",
       "3                     02  490011001001649                        0.0   \n",
       "4                     02  490011001001651                        0.0   \n",
       "\n",
       "                                            geometry id  \n",
       "0  POLYGON ((-112.537887 38.214833, -112.537886 3...  0  \n",
       "1  POLYGON ((-112.514011 38.192667, -112.513672 3...  1  \n",
       "2  POLYGON ((-112.484921 38.169493, -112.485155 3...  2  \n",
       "3  POLYGON ((-112.57238 38.168472, -112.572392 38...  3  \n",
       "4  POLYGON ((-112.521503 38.150862, -112.521679 3...  4  "
      ]
     },
     "execution_count": 3,
     "metadata": {},
     "output_type": "execute_result"
    }
   ],
   "source": [
    "state.head()"
   ]
  },
  {
   "cell_type": "code",
   "execution_count": 4,
   "metadata": {
    "collapsed": false
   },
   "outputs": [],
   "source": [
    "mini = state[['Predicted 2015 Population', 'geometry', 'Cluster', 'Congressional District', 'GEOID']]"
   ]
  },
  {
   "cell_type": "code",
   "execution_count": 5,
   "metadata": {
    "collapsed": false
   },
   "outputs": [
    {
     "name": "stderr",
     "output_type": "stream",
     "text": [
      "/usr/local/lib/python2.7/dist-packages/ipykernel/__main__.py:1: SettingWithCopyWarning: \n",
      "A value is trying to be set on a copy of a slice from a DataFrame.\n",
      "Try using .loc[row_indexer,col_indexer] = value instead\n",
      "\n",
      "See the caveats in the documentation: http://pandas.pydata.org/pandas-docs/stable/indexing.html#indexing-view-versus-copy\n",
      "  if __name__ == '__main__':\n"
     ]
    }
   ],
   "source": [
    "mini['area'] = mini['geometry'].to_crs({'init': 'epsg:3395'}).map(lambda p: p.area / 10**6)"
   ]
  },
  {
   "cell_type": "code",
   "execution_count": 6,
   "metadata": {
    "collapsed": false
   },
   "outputs": [
    {
     "name": "stderr",
     "output_type": "stream",
     "text": [
      "/usr/local/lib/python2.7/dist-packages/ipykernel/__main__.py:7: SettingWithCopyWarning: \n",
      "A value is trying to be set on a copy of a slice from a DataFrame.\n",
      "Try using .loc[row_indexer,col_indexer] = value instead\n",
      "\n",
      "See the caveats in the documentation: http://pandas.pydata.org/pandas-docs/stable/indexing.html#indexing-view-versus-copy\n"
     ]
    }
   ],
   "source": [
    "# GEOID Structure is defined as\n",
    "# STATE + COUNTY + TRACT + BLOCK = 2 + 3 + 6 + 4 = 15\n",
    "# see: https://www.census.gov/geo/reference/geoidentifiers.html\n",
    "def get_tract(row):\n",
    "#     print(type(row['GEOID']))\n",
    "    return row['GEOID'][5:11]\n",
    "mini['Tract'] = mini.apply(get_tract, axis=1)"
   ]
  },
  {
   "cell_type": "code",
   "execution_count": 7,
   "metadata": {
    "collapsed": true
   },
   "outputs": [],
   "source": [
    "tracts = mini.dissolve(by='Tract')"
   ]
  },
  {
   "cell_type": "code",
   "execution_count": 8,
   "metadata": {
    "collapsed": false
   },
   "outputs": [
    {
     "data": {
      "text/html": [
       "<div>\n",
       "<table border=\"1\" class=\"dataframe\">\n",
       "  <thead>\n",
       "    <tr style=\"text-align: right;\">\n",
       "      <th></th>\n",
       "      <th>geometry</th>\n",
       "      <th>Predicted 2015 Population</th>\n",
       "      <th>Cluster</th>\n",
       "      <th>Congressional District</th>\n",
       "      <th>GEOID</th>\n",
       "      <th>area</th>\n",
       "    </tr>\n",
       "    <tr>\n",
       "      <th>Tract</th>\n",
       "      <th></th>\n",
       "      <th></th>\n",
       "      <th></th>\n",
       "      <th></th>\n",
       "      <th></th>\n",
       "      <th></th>\n",
       "    </tr>\n",
       "  </thead>\n",
       "  <tbody>\n",
       "    <tr>\n",
       "      <th>000100</th>\n",
       "      <td>POLYGON ((-110.700944 39.535739, -110.700949 3...</td>\n",
       "      <td>0.000000</td>\n",
       "      <td>3</td>\n",
       "      <td>03</td>\n",
       "      <td>490070001002077</td>\n",
       "      <td>0.016361</td>\n",
       "    </tr>\n",
       "    <tr>\n",
       "      <th>000101</th>\n",
       "      <td>POLYGON ((-111.908744 41.896871, -111.908887 4...</td>\n",
       "      <td>22.080848</td>\n",
       "      <td>0</td>\n",
       "      <td>01</td>\n",
       "      <td>490050001012003</td>\n",
       "      <td>6.336656</td>\n",
       "    </tr>\n",
       "    <tr>\n",
       "      <th>000102</th>\n",
       "      <td>(POLYGON ((-111.864709 40.390995, -111.864765 ...</td>\n",
       "      <td>13.328895</td>\n",
       "      <td>0</td>\n",
       "      <td>01</td>\n",
       "      <td>490050001022049</td>\n",
       "      <td>0.063278</td>\n",
       "    </tr>\n",
       "    <tr>\n",
       "      <th>000103</th>\n",
       "      <td>POLYGON ((-111.867037 40.381302, -111.867039 4...</td>\n",
       "      <td>26.094675</td>\n",
       "      <td>1</td>\n",
       "      <td>04</td>\n",
       "      <td>490490001032006</td>\n",
       "      <td>0.265339</td>\n",
       "    </tr>\n",
       "    <tr>\n",
       "      <th>000104</th>\n",
       "      <td>POLYGON ((-111.841853 40.396634, -111.842187 4...</td>\n",
       "      <td>48.605923</td>\n",
       "      <td>1</td>\n",
       "      <td>03</td>\n",
       "      <td>490490001042004</td>\n",
       "      <td>0.055659</td>\n",
       "    </tr>\n",
       "  </tbody>\n",
       "</table>\n",
       "</div>"
      ],
      "text/plain": [
       "                                                 geometry  \\\n",
       "Tract                                                       \n",
       "000100  POLYGON ((-110.700944 39.535739, -110.700949 3...   \n",
       "000101  POLYGON ((-111.908744 41.896871, -111.908887 4...   \n",
       "000102  (POLYGON ((-111.864709 40.390995, -111.864765 ...   \n",
       "000103  POLYGON ((-111.867037 40.381302, -111.867039 4...   \n",
       "000104  POLYGON ((-111.841853 40.396634, -111.842187 4...   \n",
       "\n",
       "        Predicted 2015 Population  Cluster Congressional District  \\\n",
       "Tract                                                               \n",
       "000100                   0.000000        3                     03   \n",
       "000101                  22.080848        0                     01   \n",
       "000102                  13.328895        0                     01   \n",
       "000103                  26.094675        1                     04   \n",
       "000104                  48.605923        1                     03   \n",
       "\n",
       "                  GEOID      area  \n",
       "Tract                              \n",
       "000100  490070001002077  0.016361  \n",
       "000101  490050001012003  6.336656  \n",
       "000102  490050001022049  0.063278  \n",
       "000103  490490001032006  0.265339  \n",
       "000104  490490001042004  0.055659  "
      ]
     },
     "execution_count": 8,
     "metadata": {},
     "output_type": "execute_result"
    }
   ],
   "source": [
    "tracts.head()"
   ]
  },
  {
   "cell_type": "code",
   "execution_count": 9,
   "metadata": {
    "collapsed": false
   },
   "outputs": [],
   "source": [
    "mini = mini[['Predicted 2015 Population', 'area', 'Tract']]"
   ]
  },
  {
   "cell_type": "code",
   "execution_count": 10,
   "metadata": {
    "collapsed": false
   },
   "outputs": [
    {
     "data": {
      "text/html": [
       "<div>\n",
       "<table border=\"1\" class=\"dataframe\">\n",
       "  <thead>\n",
       "    <tr style=\"text-align: right;\">\n",
       "      <th></th>\n",
       "      <th>Predicted 2015 Population</th>\n",
       "      <th>area</th>\n",
       "      <th>Tract</th>\n",
       "    </tr>\n",
       "  </thead>\n",
       "  <tbody>\n",
       "    <tr>\n",
       "      <th>0</th>\n",
       "      <td>0.0</td>\n",
       "      <td>0.023229</td>\n",
       "      <td>100100</td>\n",
       "    </tr>\n",
       "    <tr>\n",
       "      <th>1</th>\n",
       "      <td>0.0</td>\n",
       "      <td>8.464858</td>\n",
       "      <td>100100</td>\n",
       "    </tr>\n",
       "    <tr>\n",
       "      <th>2</th>\n",
       "      <td>0.0</td>\n",
       "      <td>0.091658</td>\n",
       "      <td>100100</td>\n",
       "    </tr>\n",
       "    <tr>\n",
       "      <th>3</th>\n",
       "      <td>0.0</td>\n",
       "      <td>9.475793</td>\n",
       "      <td>100100</td>\n",
       "    </tr>\n",
       "    <tr>\n",
       "      <th>4</th>\n",
       "      <td>0.0</td>\n",
       "      <td>0.050850</td>\n",
       "      <td>100100</td>\n",
       "    </tr>\n",
       "  </tbody>\n",
       "</table>\n",
       "</div>"
      ],
      "text/plain": [
       "   Predicted 2015 Population      area   Tract\n",
       "0                        0.0  0.023229  100100\n",
       "1                        0.0  8.464858  100100\n",
       "2                        0.0  0.091658  100100\n",
       "3                        0.0  9.475793  100100\n",
       "4                        0.0  0.050850  100100"
      ]
     },
     "execution_count": 10,
     "metadata": {},
     "output_type": "execute_result"
    }
   ],
   "source": [
    "mini.head()"
   ]
  },
  {
   "cell_type": "code",
   "execution_count": 11,
   "metadata": {
    "collapsed": false
   },
   "outputs": [
    {
     "data": {
      "text/html": [
       "<div>\n",
       "<table border=\"1\" class=\"dataframe\">\n",
       "  <thead>\n",
       "    <tr style=\"text-align: right;\">\n",
       "      <th></th>\n",
       "      <th>Predicted 2015 Population</th>\n",
       "      <th>area</th>\n",
       "      <th>Tract</th>\n",
       "    </tr>\n",
       "    <tr>\n",
       "      <th>Tract</th>\n",
       "      <th></th>\n",
       "      <th></th>\n",
       "      <th></th>\n",
       "    </tr>\n",
       "  </thead>\n",
       "  <tbody>\n",
       "    <tr>\n",
       "      <th>000100</th>\n",
       "      <td>3881.0</td>\n",
       "      <td>132.603576</td>\n",
       "      <td>000100</td>\n",
       "    </tr>\n",
       "    <tr>\n",
       "      <th>000101</th>\n",
       "      <td>4872.0</td>\n",
       "      <td>280.370952</td>\n",
       "      <td>000101</td>\n",
       "    </tr>\n",
       "    <tr>\n",
       "      <th>000102</th>\n",
       "      <td>6287.0</td>\n",
       "      <td>398.220615</td>\n",
       "      <td>000102</td>\n",
       "    </tr>\n",
       "    <tr>\n",
       "      <th>000103</th>\n",
       "      <td>4032.0</td>\n",
       "      <td>7.755903</td>\n",
       "      <td>000103</td>\n",
       "    </tr>\n",
       "    <tr>\n",
       "      <th>000104</th>\n",
       "      <td>2995.0</td>\n",
       "      <td>3.718848</td>\n",
       "      <td>000104</td>\n",
       "    </tr>\n",
       "  </tbody>\n",
       "</table>\n",
       "</div>"
      ],
      "text/plain": [
       "        Predicted 2015 Population        area   Tract\n",
       "Tract                                                \n",
       "000100                     3881.0  132.603576  000100\n",
       "000101                     4872.0  280.370952  000101\n",
       "000102                     6287.0  398.220615  000102\n",
       "000103                     4032.0    7.755903  000103\n",
       "000104                     2995.0    3.718848  000104"
      ]
     },
     "execution_count": 11,
     "metadata": {},
     "output_type": "execute_result"
    }
   ],
   "source": [
    "pop = mini.groupby('Tract').sum()\n",
    "pop['Tract'] = pop.index\n",
    "pop.head()"
   ]
  },
  {
   "cell_type": "code",
   "execution_count": 12,
   "metadata": {
    "collapsed": true
   },
   "outputs": [],
   "source": [
    "del tracts['Predicted 2015 Population']"
   ]
  },
  {
   "cell_type": "code",
   "execution_count": 13,
   "metadata": {
    "collapsed": true
   },
   "outputs": [],
   "source": [
    "del tracts['area']"
   ]
  },
  {
   "cell_type": "code",
   "execution_count": 14,
   "metadata": {
    "collapsed": false
   },
   "outputs": [],
   "source": [
    "tracts['Tract'] = tracts.index"
   ]
  },
  {
   "cell_type": "code",
   "execution_count": 15,
   "metadata": {
    "collapsed": false
   },
   "outputs": [
    {
     "data": {
      "text/html": [
       "<div>\n",
       "<table border=\"1\" class=\"dataframe\">\n",
       "  <thead>\n",
       "    <tr style=\"text-align: right;\">\n",
       "      <th></th>\n",
       "      <th>geometry</th>\n",
       "      <th>Cluster</th>\n",
       "      <th>Congressional District</th>\n",
       "      <th>GEOID</th>\n",
       "      <th>Tract</th>\n",
       "    </tr>\n",
       "    <tr>\n",
       "      <th>Tract</th>\n",
       "      <th></th>\n",
       "      <th></th>\n",
       "      <th></th>\n",
       "      <th></th>\n",
       "      <th></th>\n",
       "    </tr>\n",
       "  </thead>\n",
       "  <tbody>\n",
       "    <tr>\n",
       "      <th>000100</th>\n",
       "      <td>POLYGON ((-110.700944 39.535739, -110.700949 3...</td>\n",
       "      <td>3</td>\n",
       "      <td>03</td>\n",
       "      <td>490070001002077</td>\n",
       "      <td>000100</td>\n",
       "    </tr>\n",
       "    <tr>\n",
       "      <th>000101</th>\n",
       "      <td>POLYGON ((-111.908744 41.896871, -111.908887 4...</td>\n",
       "      <td>0</td>\n",
       "      <td>01</td>\n",
       "      <td>490050001012003</td>\n",
       "      <td>000101</td>\n",
       "    </tr>\n",
       "    <tr>\n",
       "      <th>000102</th>\n",
       "      <td>(POLYGON ((-111.864709 40.390995, -111.864765 ...</td>\n",
       "      <td>0</td>\n",
       "      <td>01</td>\n",
       "      <td>490050001022049</td>\n",
       "      <td>000102</td>\n",
       "    </tr>\n",
       "    <tr>\n",
       "      <th>000103</th>\n",
       "      <td>POLYGON ((-111.867037 40.381302, -111.867039 4...</td>\n",
       "      <td>1</td>\n",
       "      <td>04</td>\n",
       "      <td>490490001032006</td>\n",
       "      <td>000103</td>\n",
       "    </tr>\n",
       "    <tr>\n",
       "      <th>000104</th>\n",
       "      <td>POLYGON ((-111.841853 40.396634, -111.842187 4...</td>\n",
       "      <td>1</td>\n",
       "      <td>03</td>\n",
       "      <td>490490001042004</td>\n",
       "      <td>000104</td>\n",
       "    </tr>\n",
       "  </tbody>\n",
       "</table>\n",
       "</div>"
      ],
      "text/plain": [
       "                                                 geometry  Cluster  \\\n",
       "Tract                                                                \n",
       "000100  POLYGON ((-110.700944 39.535739, -110.700949 3...        3   \n",
       "000101  POLYGON ((-111.908744 41.896871, -111.908887 4...        0   \n",
       "000102  (POLYGON ((-111.864709 40.390995, -111.864765 ...        0   \n",
       "000103  POLYGON ((-111.867037 40.381302, -111.867039 4...        1   \n",
       "000104  POLYGON ((-111.841853 40.396634, -111.842187 4...        1   \n",
       "\n",
       "       Congressional District            GEOID   Tract  \n",
       "Tract                                                   \n",
       "000100                     03  490070001002077  000100  \n",
       "000101                     01  490050001012003  000101  \n",
       "000102                     01  490050001022049  000102  \n",
       "000103                     04  490490001032006  000103  \n",
       "000104                     03  490490001042004  000104  "
      ]
     },
     "execution_count": 15,
     "metadata": {},
     "output_type": "execute_result"
    }
   ],
   "source": [
    "tracts.head()"
   ]
  },
  {
   "cell_type": "code",
   "execution_count": 16,
   "metadata": {
    "collapsed": false
   },
   "outputs": [],
   "source": [
    "tracts = tracts.merge(pop, on='Tract')"
   ]
  },
  {
   "cell_type": "code",
   "execution_count": 17,
   "metadata": {
    "collapsed": true
   },
   "outputs": [],
   "source": [
    "tracts['Population per square km'] = tracts['Predicted 2015 Population'] / tracts['area'] "
   ]
  },
  {
   "cell_type": "code",
   "execution_count": 22,
   "metadata": {
    "collapsed": false
   },
   "outputs": [
    {
     "data": {
      "text/html": [
       "<div>\n",
       "<table border=\"1\" class=\"dataframe\">\n",
       "  <thead>\n",
       "    <tr style=\"text-align: right;\">\n",
       "      <th></th>\n",
       "      <th>geometry</th>\n",
       "      <th>Cluster</th>\n",
       "      <th>Congressional District</th>\n",
       "      <th>GEOID</th>\n",
       "      <th>Tract</th>\n",
       "      <th>Predicted 2015 Population</th>\n",
       "      <th>area</th>\n",
       "      <th>Population per square km</th>\n",
       "    </tr>\n",
       "  </thead>\n",
       "  <tbody>\n",
       "    <tr>\n",
       "      <th>0</th>\n",
       "      <td>POLYGON ((-110.700944 39.535739, -110.700949 3...</td>\n",
       "      <td>3</td>\n",
       "      <td>03</td>\n",
       "      <td>490070001002077</td>\n",
       "      <td>000100</td>\n",
       "      <td>3881.0</td>\n",
       "      <td>132.603576</td>\n",
       "      <td>29.267687</td>\n",
       "    </tr>\n",
       "    <tr>\n",
       "      <th>1</th>\n",
       "      <td>POLYGON ((-111.908744 41.896871, -111.908887 4...</td>\n",
       "      <td>0</td>\n",
       "      <td>01</td>\n",
       "      <td>490050001012003</td>\n",
       "      <td>000101</td>\n",
       "      <td>4872.0</td>\n",
       "      <td>280.370952</td>\n",
       "      <td>17.376978</td>\n",
       "    </tr>\n",
       "    <tr>\n",
       "      <th>2</th>\n",
       "      <td>(POLYGON ((-111.864709 40.390995, -111.864765 ...</td>\n",
       "      <td>0</td>\n",
       "      <td>01</td>\n",
       "      <td>490050001022049</td>\n",
       "      <td>000102</td>\n",
       "      <td>6287.0</td>\n",
       "      <td>398.220615</td>\n",
       "      <td>15.787731</td>\n",
       "    </tr>\n",
       "    <tr>\n",
       "      <th>3</th>\n",
       "      <td>POLYGON ((-111.867037 40.381302, -111.867039 4...</td>\n",
       "      <td>1</td>\n",
       "      <td>04</td>\n",
       "      <td>490490001032006</td>\n",
       "      <td>000103</td>\n",
       "      <td>4032.0</td>\n",
       "      <td>7.755903</td>\n",
       "      <td>519.862102</td>\n",
       "    </tr>\n",
       "    <tr>\n",
       "      <th>4</th>\n",
       "      <td>POLYGON ((-111.841853 40.396634, -111.842187 4...</td>\n",
       "      <td>1</td>\n",
       "      <td>03</td>\n",
       "      <td>490490001042004</td>\n",
       "      <td>000104</td>\n",
       "      <td>2995.0</td>\n",
       "      <td>3.718848</td>\n",
       "      <td>805.356980</td>\n",
       "    </tr>\n",
       "  </tbody>\n",
       "</table>\n",
       "</div>"
      ],
      "text/plain": [
       "                                            geometry  Cluster  \\\n",
       "0  POLYGON ((-110.700944 39.535739, -110.700949 3...        3   \n",
       "1  POLYGON ((-111.908744 41.896871, -111.908887 4...        0   \n",
       "2  (POLYGON ((-111.864709 40.390995, -111.864765 ...        0   \n",
       "3  POLYGON ((-111.867037 40.381302, -111.867039 4...        1   \n",
       "4  POLYGON ((-111.841853 40.396634, -111.842187 4...        1   \n",
       "\n",
       "  Congressional District            GEOID   Tract  Predicted 2015 Population  \\\n",
       "0                     03  490070001002077  000100                     3881.0   \n",
       "1                     01  490050001012003  000101                     4872.0   \n",
       "2                     01  490050001022049  000102                     6287.0   \n",
       "3                     04  490490001032006  000103                     4032.0   \n",
       "4                     03  490490001042004  000104                     2995.0   \n",
       "\n",
       "         area  Population per square km  \n",
       "0  132.603576                 29.267687  \n",
       "1  280.370952                 17.376978  \n",
       "2  398.220615                 15.787731  \n",
       "3    7.755903                519.862102  \n",
       "4    3.718848                805.356980  "
      ]
     },
     "execution_count": 22,
     "metadata": {},
     "output_type": "execute_result"
    }
   ],
   "source": [
    "tracts.head()"
   ]
  },
  {
   "cell_type": "code",
   "execution_count": 19,
   "metadata": {
    "collapsed": false
   },
   "outputs": [],
   "source": [
    "tracts.to_file('./fig/shapefile/results/pop_' + state_name + '_by_tract.shp', driver=\"ESRI Shapefile\")"
   ]
  },
  {
   "cell_type": "markdown",
   "metadata": {},
   "source": [
    "# Major Cities in UT"
   ]
  },
  {
   "cell_type": "code",
   "execution_count": 23,
   "metadata": {
    "collapsed": false
   },
   "outputs": [],
   "source": [
    "cities = gpd.read_file('./fig/shapefile/citiesx010g_shp_nt00962/citiesx010g.shp')\n",
    "# From: https://catalog.data.gov/dataset/usgs-small-scale-dataset-cities-and-towns-of-the-united-states-201403-shapefile"
   ]
  },
  {
   "cell_type": "code",
   "execution_count": 24,
   "metadata": {
    "collapsed": false
   },
   "outputs": [
    {
     "data": {
      "text/html": [
       "<div>\n",
       "<table border=\"1\" class=\"dataframe\">\n",
       "  <thead>\n",
       "    <tr style=\"text-align: right;\">\n",
       "      <th></th>\n",
       "      <th>ANSICODE</th>\n",
       "      <th>COUNTY</th>\n",
       "      <th>COUNTYFIPS</th>\n",
       "      <th>ELEV_IN_FT</th>\n",
       "      <th>ELEV_IN_M</th>\n",
       "      <th>FEATURE</th>\n",
       "      <th>FEATURE2</th>\n",
       "      <th>GNIS_ID</th>\n",
       "      <th>LATITUDE</th>\n",
       "      <th>LONGITUDE</th>\n",
       "      <th>NAME</th>\n",
       "      <th>POP_2010</th>\n",
       "      <th>PopPlLat</th>\n",
       "      <th>PopPlLong</th>\n",
       "      <th>STATE</th>\n",
       "      <th>STATE_FIPS</th>\n",
       "      <th>geometry</th>\n",
       "    </tr>\n",
       "  </thead>\n",
       "  <tbody>\n",
       "    <tr>\n",
       "      <th>0</th>\n",
       "      <td>1036000</td>\n",
       "      <td>Rolette</td>\n",
       "      <td>079</td>\n",
       "      <td>1706.0</td>\n",
       "      <td>520.0</td>\n",
       "      <td>Civil</td>\n",
       "      <td>-999</td>\n",
       "      <td>1028750.0</td>\n",
       "      <td>48.813057</td>\n",
       "      <td>-100.060968</td>\n",
       "      <td>Dunseith</td>\n",
       "      <td>773.0</td>\n",
       "      <td>48.813057</td>\n",
       "      <td>-100.060968</td>\n",
       "      <td>ND</td>\n",
       "      <td>38</td>\n",
       "      <td>POINT (-100.0609678 48.81305690000016)</td>\n",
       "    </tr>\n",
       "    <tr>\n",
       "      <th>1</th>\n",
       "      <td>1036174</td>\n",
       "      <td>Rolette</td>\n",
       "      <td>079</td>\n",
       "      <td>1654.0</td>\n",
       "      <td>504.0</td>\n",
       "      <td>Civil</td>\n",
       "      <td>-999</td>\n",
       "      <td>1030349.0</td>\n",
       "      <td>48.635278</td>\n",
       "      <td>-99.618756</td>\n",
       "      <td>Mylo</td>\n",
       "      <td>20.0</td>\n",
       "      <td>48.635278</td>\n",
       "      <td>-99.618756</td>\n",
       "      <td>ND</td>\n",
       "      <td>38</td>\n",
       "      <td>POINT (-99.61875549999991 48.63527850000003)</td>\n",
       "    </tr>\n",
       "    <tr>\n",
       "      <th>2</th>\n",
       "      <td>1035912</td>\n",
       "      <td>Bottineau</td>\n",
       "      <td>009</td>\n",
       "      <td>1535.0</td>\n",
       "      <td>468.0</td>\n",
       "      <td>Civil</td>\n",
       "      <td>-999</td>\n",
       "      <td>1027718.0</td>\n",
       "      <td>48.970853</td>\n",
       "      <td>-101.282380</td>\n",
       "      <td>Antler</td>\n",
       "      <td>27.0</td>\n",
       "      <td>48.970853</td>\n",
       "      <td>-101.282380</td>\n",
       "      <td>ND</td>\n",
       "      <td>38</td>\n",
       "      <td>POINT (-101.2823802999999 48.97085320000008)</td>\n",
       "    </tr>\n",
       "    <tr>\n",
       "      <th>3</th>\n",
       "      <td>1035936</td>\n",
       "      <td>Bottineau</td>\n",
       "      <td>009</td>\n",
       "      <td>1637.0</td>\n",
       "      <td>499.0</td>\n",
       "      <td>Civil</td>\n",
       "      <td>County Seat</td>\n",
       "      <td>1028083.0</td>\n",
       "      <td>48.827230</td>\n",
       "      <td>-100.445698</td>\n",
       "      <td>Bottineau</td>\n",
       "      <td>2211.0</td>\n",
       "      <td>48.827230</td>\n",
       "      <td>-100.445698</td>\n",
       "      <td>ND</td>\n",
       "      <td>38</td>\n",
       "      <td>POINT (-100.4456984 48.82723010000012)</td>\n",
       "    </tr>\n",
       "    <tr>\n",
       "      <th>4</th>\n",
       "      <td>1036050</td>\n",
       "      <td>Bottineau</td>\n",
       "      <td>009</td>\n",
       "      <td>1467.0</td>\n",
       "      <td>447.0</td>\n",
       "      <td>Civil</td>\n",
       "      <td>-999</td>\n",
       "      <td>1029080.0</td>\n",
       "      <td>48.700837</td>\n",
       "      <td>-100.497639</td>\n",
       "      <td>Gardena</td>\n",
       "      <td>29.0</td>\n",
       "      <td>48.700837</td>\n",
       "      <td>-100.497639</td>\n",
       "      <td>ND</td>\n",
       "      <td>38</td>\n",
       "      <td>POINT (-100.4976392999999 48.70083700000004)</td>\n",
       "    </tr>\n",
       "  </tbody>\n",
       "</table>\n",
       "</div>"
      ],
      "text/plain": [
       "  ANSICODE     COUNTY COUNTYFIPS  ELEV_IN_FT  ELEV_IN_M FEATURE     FEATURE2  \\\n",
       "0  1036000    Rolette        079      1706.0      520.0   Civil         -999   \n",
       "1  1036174    Rolette        079      1654.0      504.0   Civil         -999   \n",
       "2  1035912  Bottineau        009      1535.0      468.0   Civil         -999   \n",
       "3  1035936  Bottineau        009      1637.0      499.0   Civil  County Seat   \n",
       "4  1036050  Bottineau        009      1467.0      447.0   Civil         -999   \n",
       "\n",
       "     GNIS_ID   LATITUDE   LONGITUDE       NAME  POP_2010   PopPlLat  \\\n",
       "0  1028750.0  48.813057 -100.060968   Dunseith     773.0  48.813057   \n",
       "1  1030349.0  48.635278  -99.618756       Mylo      20.0  48.635278   \n",
       "2  1027718.0  48.970853 -101.282380     Antler      27.0  48.970853   \n",
       "3  1028083.0  48.827230 -100.445698  Bottineau    2211.0  48.827230   \n",
       "4  1029080.0  48.700837 -100.497639    Gardena      29.0  48.700837   \n",
       "\n",
       "    PopPlLong STATE STATE_FIPS                                      geometry  \n",
       "0 -100.060968    ND         38        POINT (-100.0609678 48.81305690000016)  \n",
       "1  -99.618756    ND         38  POINT (-99.61875549999991 48.63527850000003)  \n",
       "2 -101.282380    ND         38  POINT (-101.2823802999999 48.97085320000008)  \n",
       "3 -100.445698    ND         38        POINT (-100.4456984 48.82723010000012)  \n",
       "4 -100.497639    ND         38  POINT (-100.4976392999999 48.70083700000004)  "
      ]
     },
     "execution_count": 24,
     "metadata": {},
     "output_type": "execute_result"
    }
   ],
   "source": [
    "cities.head()"
   ]
  },
  {
   "cell_type": "code",
   "execution_count": 31,
   "metadata": {
    "collapsed": false
   },
   "outputs": [],
   "source": [
    "ut_cities = cities[(cities['STATE'] == 'UT')]\n",
    "ut_cities = ut_cities[(ut_cities['NAME'] == 'Salt Lake City') | (ut_cities['NAME'] == 'West Valley City') | \\\n",
    "                      (ut_cities['NAME'] == 'Provo')]"
   ]
  },
  {
   "cell_type": "code",
   "execution_count": 32,
   "metadata": {
    "collapsed": false
   },
   "outputs": [
    {
     "data": {
      "text/html": [
       "<div>\n",
       "<table border=\"1\" class=\"dataframe\">\n",
       "  <thead>\n",
       "    <tr style=\"text-align: right;\">\n",
       "      <th></th>\n",
       "      <th>ANSICODE</th>\n",
       "      <th>COUNTY</th>\n",
       "      <th>COUNTYFIPS</th>\n",
       "      <th>ELEV_IN_FT</th>\n",
       "      <th>ELEV_IN_M</th>\n",
       "      <th>FEATURE</th>\n",
       "      <th>FEATURE2</th>\n",
       "      <th>GNIS_ID</th>\n",
       "      <th>LATITUDE</th>\n",
       "      <th>LONGITUDE</th>\n",
       "      <th>NAME</th>\n",
       "      <th>POP_2010</th>\n",
       "      <th>PopPlLat</th>\n",
       "      <th>PopPlLong</th>\n",
       "      <th>STATE</th>\n",
       "      <th>STATE_FIPS</th>\n",
       "      <th>geometry</th>\n",
       "    </tr>\n",
       "  </thead>\n",
       "  <tbody>\n",
       "    <tr>\n",
       "      <th>20175</th>\n",
       "      <td>2411499</td>\n",
       "      <td>Utah</td>\n",
       "      <td>049</td>\n",
       "      <td>4550.0</td>\n",
       "      <td>1387.0</td>\n",
       "      <td>Civil</td>\n",
       "      <td>County Seat</td>\n",
       "      <td>1444661.0</td>\n",
       "      <td>40.233844</td>\n",
       "      <td>-111.658534</td>\n",
       "      <td>Provo</td>\n",
       "      <td>112488.0</td>\n",
       "      <td>40.233844</td>\n",
       "      <td>-111.658534</td>\n",
       "      <td>UT</td>\n",
       "      <td>49</td>\n",
       "      <td>POINT (-111.6585337 40.23384380000016)</td>\n",
       "    </tr>\n",
       "    <tr>\n",
       "      <th>21384</th>\n",
       "      <td>2411771</td>\n",
       "      <td>Salt Lake</td>\n",
       "      <td>035</td>\n",
       "      <td>4265.0</td>\n",
       "      <td>1300.0</td>\n",
       "      <td>Civil</td>\n",
       "      <td>State Capital County Seat</td>\n",
       "      <td>1454997.0</td>\n",
       "      <td>40.760779</td>\n",
       "      <td>-111.891047</td>\n",
       "      <td>Salt Lake City</td>\n",
       "      <td>186440.0</td>\n",
       "      <td>40.760779</td>\n",
       "      <td>-111.891047</td>\n",
       "      <td>UT</td>\n",
       "      <td>49</td>\n",
       "      <td>POINT (-111.8910473999999 40.7607794000001)</td>\n",
       "    </tr>\n",
       "    <tr>\n",
       "      <th>21390</th>\n",
       "      <td>2412231</td>\n",
       "      <td>Salt Lake</td>\n",
       "      <td>035</td>\n",
       "      <td>4304.0</td>\n",
       "      <td>1312.0</td>\n",
       "      <td>Civil</td>\n",
       "      <td>-999</td>\n",
       "      <td>1437843.0</td>\n",
       "      <td>40.691613</td>\n",
       "      <td>-112.001050</td>\n",
       "      <td>West Valley City</td>\n",
       "      <td>129480.0</td>\n",
       "      <td>40.691613</td>\n",
       "      <td>-112.001050</td>\n",
       "      <td>UT</td>\n",
       "      <td>49</td>\n",
       "      <td>POINT (-112.0010501 40.69161320000018)</td>\n",
       "    </tr>\n",
       "  </tbody>\n",
       "</table>\n",
       "</div>"
      ],
      "text/plain": [
       "      ANSICODE     COUNTY COUNTYFIPS  ELEV_IN_FT  ELEV_IN_M FEATURE  \\\n",
       "20175  2411499       Utah        049      4550.0     1387.0   Civil   \n",
       "21384  2411771  Salt Lake        035      4265.0     1300.0   Civil   \n",
       "21390  2412231  Salt Lake        035      4304.0     1312.0   Civil   \n",
       "\n",
       "                        FEATURE2    GNIS_ID   LATITUDE   LONGITUDE  \\\n",
       "20175                County Seat  1444661.0  40.233844 -111.658534   \n",
       "21384  State Capital County Seat  1454997.0  40.760779 -111.891047   \n",
       "21390                       -999  1437843.0  40.691613 -112.001050   \n",
       "\n",
       "                   NAME  POP_2010   PopPlLat   PopPlLong STATE STATE_FIPS  \\\n",
       "20175             Provo  112488.0  40.233844 -111.658534    UT         49   \n",
       "21384    Salt Lake City  186440.0  40.760779 -111.891047    UT         49   \n",
       "21390  West Valley City  129480.0  40.691613 -112.001050    UT         49   \n",
       "\n",
       "                                          geometry  \n",
       "20175       POINT (-111.6585337 40.23384380000016)  \n",
       "21384  POINT (-111.8910473999999 40.7607794000001)  \n",
       "21390       POINT (-112.0010501 40.69161320000018)  "
      ]
     },
     "execution_count": 32,
     "metadata": {},
     "output_type": "execute_result"
    }
   ],
   "source": [
    "ut_cities.head()"
   ]
  },
  {
   "cell_type": "code",
   "execution_count": 33,
   "metadata": {
    "collapsed": true
   },
   "outputs": [],
   "source": [
    "ut_cities.to_file('./fig/shapefile/cities/ut_cities.shp', driver=\"ESRI Shapefile\")"
   ]
  },
  {
   "cell_type": "markdown",
   "metadata": {},
   "source": [
    "# Congressional Districts for UT"
   ]
  },
  {
   "cell_type": "code",
   "execution_count": 34,
   "metadata": {
    "collapsed": true
   },
   "outputs": [],
   "source": [
    "from default_values import usa_shapefile_path\n",
    "usa = gpd.read_file(usa_shapefile_path)"
   ]
  },
  {
   "cell_type": "code",
   "execution_count": 35,
   "metadata": {
    "collapsed": false
   },
   "outputs": [],
   "source": [
    "ut_cong_dist = usa[(usa['STATEFP'].apply(int) == int(us.states.lookup('UT').fips))]"
   ]
  },
  {
   "cell_type": "code",
   "execution_count": 36,
   "metadata": {
    "collapsed": false
   },
   "outputs": [
    {
     "data": {
      "text/plain": [
       "<matplotlib.axes._subplots.AxesSubplot at 0x7f7272411150>"
      ]
     },
     "execution_count": 36,
     "metadata": {},
     "output_type": "execute_result"
    },
    {
     "data": {
      "image/png": "[encoded data removed]",
      "text/plain": [
       "<matplotlib.figure.Figure at 0x7f72723e57d0>"
      ]
     },
     "metadata": {},
     "output_type": "display_data"
    }
   ],
   "source": [
    "ut_cong_dist.plot()"
   ]
  },
  {
   "cell_type": "code",
   "execution_count": 39,
   "metadata": {
    "collapsed": false
   },
   "outputs": [],
   "source": [
    "ut_cong_dist.to_file('./fig/shapefile/cong_dist/ut_cong_dist.shp', driver=\"ESRI Shapefile\")"
   ]
  },
  {
   "cell_type": "markdown",
   "metadata": {},
   "source": [
    "# Clusters for UT"
   ]
  },
  {
   "cell_type": "code",
   "execution_count": 48,
   "metadata": {
    "collapsed": true
   },
   "outputs": [],
   "source": [
    "state_name = 'UT'\n",
    "best_path = glob.glob('./clustered/best_stats/' + state_name +'*')[0]\n",
    "best_basename = os.path.basename(best_path)\n",
    "filename, file_extension = os.path.splitext(best_basename)\n",
    "state = gpd.read_file(glob.glob('./clustered/geojson_results/' + filename +'.geojson')[0])"
   ]
  },
  {
   "cell_type": "code",
   "execution_count": 40,
   "metadata": {
    "collapsed": true
   },
   "outputs": [],
   "source": [
    "utah = state.dissolve(by='Cluster')"
   ]
  },
  {
   "cell_type": "code",
   "execution_count": 41,
   "metadata": {
    "collapsed": true
   },
   "outputs": [],
   "source": [
    "utah.to_file('./fig/shapefile/results/utah.shp', driver=\"ESRI Shapefile\")"
   ]
  }
 ],
 "metadata": {
  "anaconda-cloud": {},
  "kernelspec": {
   "display_name": "Python [default]",
   "language": "python",
   "name": "python2"
  },
  "language_info": {
   "codemirror_mode": {
    "name": "ipython",
    "version": 2
   },
   "file_extension": ".py",
   "mimetype": "text/x-python",
   "name": "python",
   "nbconvert_exporter": "python",
   "pygments_lexer": "ipython2",
   "version": "2.7.12"
  }
 },
 "nbformat": 4,
 "nbformat_minor": 2
}
