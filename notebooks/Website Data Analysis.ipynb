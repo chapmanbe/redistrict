{
 "cells": [
  {
   "cell_type": "code",
   "execution_count": 1,
   "metadata": {
    "collapsed": false
   },
   "outputs": [
    {
     "name": "stdout",
     "output_type": "stream",
     "text": [
      "/home/olivia/GitHub/redistrict\n"
     ]
    }
   ],
   "source": [
    "%matplotlib inline\n",
    "\n",
    "# Assuming we are in the notebooks directory, we need to move one up:\n",
    "%cd ..\n",
    "\n",
    "from __future__ import print_function, division\n",
    "import us\n",
    "import pandas as pd"
   ]
  },
  {
   "cell_type": "code",
   "execution_count": 2,
   "metadata": {
    "collapsed": false
   },
   "outputs": [],
   "source": [
    "df = pd.read_csv('./data/website/anonymised_responses.csv')"
   ]
  },
  {
   "cell_type": "code",
   "execution_count": 3,
   "metadata": {
    "collapsed": true
   },
   "outputs": [],
   "source": [
    "def truncate_timestamp(item):\n",
    "#     return item.translate({ord(c): None for c in '/:'})\n",
    "    return str(item).translate(None, '/: ')[:-1]"
   ]
  },
  {
   "cell_type": "code",
   "execution_count": 4,
   "metadata": {
    "collapsed": false
   },
   "outputs": [],
   "source": [
    "df['Truncated Timestamp'] = df.Timestamp.apply(truncate_timestamp)"
   ]
  },
  {
   "cell_type": "code",
   "execution_count": 5,
   "metadata": {
    "collapsed": true
   },
   "outputs": [],
   "source": [
    "df['Duplicated'] = df.duplicated(subset = df.columns[1:])"
   ]
  },
  {
   "cell_type": "code",
   "execution_count": 6,
   "metadata": {
    "collapsed": false
   },
   "outputs": [],
   "source": [
    "df = df[df.Duplicated == False]"
   ]
  },
  {
   "cell_type": "code",
   "execution_count": 7,
   "metadata": {
    "collapsed": false
   },
   "outputs": [
    {
     "data": {
      "text/plain": [
       "[u'AL',\n",
       " u'AZ',\n",
       " u'AR',\n",
       " u'CA',\n",
       " u'CO',\n",
       " u'CT',\n",
       " u'FL',\n",
       " u'GA',\n",
       " u'ID',\n",
       " u'IL',\n",
       " u'IN',\n",
       " u'IA',\n",
       " u'KS',\n",
       " u'KY',\n",
       " u'ME',\n",
       " u'MD',\n",
       " u'MA',\n",
       " u'MI',\n",
       " u'MN',\n",
       " u'MS',\n",
       " u'MO',\n",
       " u'NH',\n",
       " u'NJ',\n",
       " u'NM',\n",
       " u'NY',\n",
       " u'NC',\n",
       " u'OH',\n",
       " u'OK',\n",
       " u'OR',\n",
       " u'PA',\n",
       " u'SC',\n",
       " u'TN',\n",
       " u'TX',\n",
       " u'UT',\n",
       " u'VA',\n",
       " u'WA',\n",
       " u'WV',\n",
       " u'WI']"
      ]
     },
     "execution_count": 7,
     "metadata": {},
     "output_type": "execute_result"
    }
   ],
   "source": [
    "responses_state = []\n",
    "for state in us.STATES:\n",
    "    if state.abbr in df.state.unique():\n",
    "        responses_state.append(state.abbr)\n",
    "responses_state"
   ]
  },
  {
   "cell_type": "code",
   "execution_count": 8,
   "metadata": {
    "collapsed": false
   },
   "outputs": [],
   "source": [
    "congdist = df[df.preference == 'congdist'].shape[0]"
   ]
  },
  {
   "cell_type": "code",
   "execution_count": 9,
   "metadata": {
    "collapsed": false
   },
   "outputs": [],
   "source": [
    "clusters = df[df.preference == 'clusters'].shape[0]"
   ]
  },
  {
   "cell_type": "code",
   "execution_count": 10,
   "metadata": {
    "collapsed": false
   },
   "outputs": [
    {
     "data": {
      "text/plain": [
       "0.907103825136612"
      ]
     },
     "execution_count": 10,
     "metadata": {},
     "output_type": "execute_result"
    }
   ],
   "source": [
    "clusters / (congdist+clusters)"
   ]
  },
  {
   "cell_type": "code",
   "execution_count": 11,
   "metadata": {
    "collapsed": false
   },
   "outputs": [
    {
     "data": {
      "text/plain": [
       "38"
      ]
     },
     "execution_count": 11,
     "metadata": {},
     "output_type": "execute_result"
    }
   ],
   "source": [
    "len(responses_state)"
   ]
  },
  {
   "cell_type": "code",
   "execution_count": 12,
   "metadata": {
    "collapsed": false
   },
   "outputs": [
    {
     "data": {
      "text/plain": [
       "(366, 6)"
      ]
     },
     "execution_count": 12,
     "metadata": {},
     "output_type": "execute_result"
    }
   ],
   "source": [
    "df.shape"
   ]
  },
  {
   "cell_type": "code",
   "execution_count": 13,
   "metadata": {
    "collapsed": false
   },
   "outputs": [
    {
     "name": "stdout",
     "output_type": "stream",
     "text": [
      "AL preference for clusters: 0.6\n",
      "AZ preference for clusters: 1.0\n",
      "AR preference for clusters: 1.0\n",
      "CA preference for clusters: 0.870967741935\n",
      "CO preference for clusters: 0.909090909091\n",
      "CT preference for clusters: 1.0\n",
      "FL preference for clusters: 0.909090909091\n",
      "GA preference for clusters: 0.8\n",
      "ID preference for clusters: 1.0\n",
      "IL preference for clusters: 1.0\n",
      "IN preference for clusters: 0.875\n",
      "IA preference for clusters: 0.75\n",
      "KS preference for clusters: 0.571428571429\n",
      "KY preference for clusters: 0.888888888889\n",
      "ME preference for clusters: 0.8\n",
      "MD preference for clusters: 0.888888888889\n",
      "MA preference for clusters: 0.769230769231\n",
      "MI preference for clusters: 0.8\n",
      "MN preference for clusters: 0.909090909091\n",
      "MS preference for clusters: 1.0\n",
      "MO preference for clusters: 0.8\n",
      "NH preference for clusters: 1.0\n",
      "NJ preference for clusters: 1.0\n",
      "NM preference for clusters: 1.0\n",
      "NY preference for clusters: 0.882352941176\n",
      "NC preference for clusters: 1.0\n",
      "OH preference for clusters: 0.941176470588\n",
      "OK preference for clusters: 0.75\n",
      "OR preference for clusters: 0.8\n",
      "PA preference for clusters: 1.0\n",
      "SC preference for clusters: 1.0\n",
      "TN preference for clusters: 1.0\n",
      "TX preference for clusters: 0.967741935484\n",
      "UT preference for clusters: 1.0\n",
      "VA preference for clusters: 1.0\n",
      "WA preference for clusters: 1.0\n",
      "WV preference for clusters: 0.0\n",
      "WI preference for clusters: 1.0\n"
     ]
    }
   ],
   "source": [
    "for state in us.STATES:\n",
    "    if state.abbr in df.state.unique():\n",
    "        congdist_loop = df[((df.preference == 'congdist') & (df.state == state.abbr))].shape[0]\n",
    "        clusters_loop = df[(df.preference == 'clusters') & (df.state == state.abbr)].shape[0]\n",
    "#         print(state.abbr, congdist_loop, clusters_loop, clusters_loop / float(clusters_loop + congdist_loop))\n",
    "        print(state.abbr, 'preference for clusters:', clusters_loop / float(clusters_loop + congdist_loop))\n"
   ]
  },
  {
   "cell_type": "code",
   "execution_count": 14,
   "metadata": {
    "collapsed": false
   },
   "outputs": [
    {
     "data": {
      "text/html": [
       "<div>\n",
       "<table border=\"1\" class=\"dataframe\">\n",
       "  <thead>\n",
       "    <tr style=\"text-align: right;\">\n",
       "      <th></th>\n",
       "      <th>Timestamp</th>\n",
       "      <th>preference</th>\n",
       "      <th>state</th>\n",
       "      <th>region</th>\n",
       "      <th>Truncated Timestamp</th>\n",
       "      <th>Duplicated</th>\n",
       "    </tr>\n",
       "  </thead>\n",
       "  <tbody>\n",
       "    <tr>\n",
       "      <th>0</th>\n",
       "      <td>15112017110943</td>\n",
       "      <td>congdist</td>\n",
       "      <td>MO</td>\n",
       "      <td>California</td>\n",
       "      <td>1511201711094</td>\n",
       "      <td>False</td>\n",
       "    </tr>\n",
       "  </tbody>\n",
       "</table>\n",
       "</div>"
      ],
      "text/plain": [
       "        Timestamp preference state      region Truncated Timestamp Duplicated\n",
       "0  15112017110943   congdist    MO  California       1511201711094      False"
      ]
     },
     "execution_count": 14,
     "metadata": {},
     "output_type": "execute_result"
    }
   ],
   "source": [
    "df.head(1)"
   ]
  },
  {
   "cell_type": "code",
   "execution_count": 15,
   "metadata": {
    "collapsed": false
   },
   "outputs": [
    {
     "data": {
      "text/html": [
       "<div>\n",
       "<table border=\"1\" class=\"dataframe\">\n",
       "  <thead>\n",
       "    <tr style=\"text-align: right;\">\n",
       "      <th></th>\n",
       "      <th>Timestamp</th>\n",
       "      <th>preference</th>\n",
       "      <th>state</th>\n",
       "      <th>region</th>\n",
       "      <th>Truncated Timestamp</th>\n",
       "      <th>Duplicated</th>\n",
       "    </tr>\n",
       "  </thead>\n",
       "  <tbody>\n",
       "    <tr>\n",
       "      <th>366</th>\n",
       "      <td>18112017062127</td>\n",
       "      <td>clusters</td>\n",
       "      <td>UT</td>\n",
       "      <td>Utah</td>\n",
       "      <td>1811201706212</td>\n",
       "      <td>False</td>\n",
       "    </tr>\n",
       "  </tbody>\n",
       "</table>\n",
       "</div>"
      ],
      "text/plain": [
       "          Timestamp preference state region Truncated Timestamp Duplicated\n",
       "366  18112017062127   clusters    UT   Utah       1811201706212      False"
      ]
     },
     "execution_count": 15,
     "metadata": {},
     "output_type": "execute_result"
    }
   ],
   "source": [
    "df.tail(1)"
   ]
  },
  {
   "cell_type": "code",
   "execution_count": 16,
   "metadata": {
    "collapsed": false
   },
   "outputs": [],
   "source": [
    "def region_match_state(item):\n",
    "    return us.states.lookup(unicode(item.state)) == us.states.lookup(unicode(item.region))"
   ]
  },
  {
   "cell_type": "code",
   "execution_count": 17,
   "metadata": {
    "collapsed": false
   },
   "outputs": [],
   "source": [
    "df['Match'] = df.apply(region_match_state, axis=1)"
   ]
  },
  {
   "cell_type": "code",
   "execution_count": 18,
   "metadata": {
    "collapsed": false
   },
   "outputs": [
    {
     "data": {
      "text/plain": [
       "(235, 7)"
      ]
     },
     "execution_count": 18,
     "metadata": {},
     "output_type": "execute_result"
    }
   ],
   "source": [
    "df[df['Match'] == True].shape"
   ]
  },
  {
   "cell_type": "code",
   "execution_count": 19,
   "metadata": {
    "collapsed": false
   },
   "outputs": [],
   "source": [
    "match_df = df[df['Match'] == True]"
   ]
  },
  {
   "cell_type": "code",
   "execution_count": 20,
   "metadata": {
    "collapsed": false
   },
   "outputs": [
    {
     "data": {
      "text/plain": [
       "21"
      ]
     },
     "execution_count": 20,
     "metadata": {},
     "output_type": "execute_result"
    }
   ],
   "source": [
    "match_df[match_df.preference == 'congdist'].shape[0]"
   ]
  },
  {
   "cell_type": "code",
   "execution_count": 21,
   "metadata": {
    "collapsed": false
   },
   "outputs": [
    {
     "data": {
      "text/plain": [
       "214"
      ]
     },
     "execution_count": 21,
     "metadata": {},
     "output_type": "execute_result"
    }
   ],
   "source": [
    "match_df[match_df.preference == 'clusters'].shape[0]"
   ]
  },
  {
   "cell_type": "code",
   "execution_count": 22,
   "metadata": {
    "collapsed": false
   },
   "outputs": [
    {
     "data": {
      "text/plain": [
       "0.9106382978723404"
      ]
     },
     "execution_count": 22,
     "metadata": {},
     "output_type": "execute_result"
    }
   ],
   "source": [
    "match_df[match_df.preference == 'clusters'].shape[0]/match_df.shape[0]"
   ]
  },
  {
   "cell_type": "code",
   "execution_count": 23,
   "metadata": {
    "collapsed": false
   },
   "outputs": [
    {
     "name": "stdout",
     "output_type": "stream",
     "text": [
      "AL preference for clusters: 0.666666666667\n",
      "AZ preference for clusters: 1.0\n",
      "AR preference for clusters: 1.0\n",
      "CA preference for clusters: 0.8\n",
      "CO preference for clusters: 0.857142857143\n",
      "CT preference for clusters: 1.0\n",
      "FL preference for clusters: 0.857142857143\n",
      "GA preference for clusters: 0.833333333333\n",
      "ID preference for clusters: 1.0\n",
      "IL preference for clusters: 1.0\n",
      "IN preference for clusters: 1.0\n",
      "IA preference for clusters: 0.75\n",
      "KS preference for clusters: 0.666666666667\n",
      "KY preference for clusters: 0.857142857143\n",
      "ME preference for clusters: 1.0\n",
      "MD preference for clusters: 1.0\n",
      "MA preference for clusters: 0.857142857143\n",
      "MI preference for clusters: 1.0\n",
      "MN preference for clusters: 0.857142857143\n",
      "MS preference for clusters: 1.0\n",
      "MO preference for clusters: 1.0\n",
      "NJ preference for clusters: 1.0\n",
      "NM preference for clusters: 1.0\n",
      "NY preference for clusters: 0.818181818182\n",
      "NC preference for clusters: 1.0\n",
      "OH preference for clusters: 0.9375\n",
      "OK preference for clusters: 0.75\n",
      "OR preference for clusters: 0.75\n",
      "PA preference for clusters: 1.0\n",
      "SC preference for clusters: 1.0\n",
      "TN preference for clusters: 1.0\n",
      "TX preference for clusters: 0.944444444444\n",
      "UT preference for clusters: 1.0\n",
      "VA preference for clusters: 1.0\n",
      "WA preference for clusters: 1.0\n",
      "WV preference for clusters: 0.0\n",
      "WI preference for clusters: 1.0\n"
     ]
    }
   ],
   "source": [
    "for state in us.STATES:\n",
    "    if state.abbr in match_df.state.unique():\n",
    "        congdist_loop = match_df[((match_df.preference == 'congdist') & (match_df.state == state.abbr))].shape[0]\n",
    "        clusters_loop = match_df[(match_df.preference == 'clusters') & (match_df.state == state.abbr)].shape[0]\n",
    "#         print(state.abbr, congdist_loop, clusters_loop, clusters_loop / float(clusters_loop + congdist_loop))\n",
    "        print(state.abbr, 'preference for clusters:', clusters_loop / float(clusters_loop + congdist_loop))\n"
   ]
  },
  {
   "cell_type": "code",
   "execution_count": 24,
   "metadata": {
    "collapsed": false
   },
   "outputs": [
    {
     "data": {
      "text/plain": [
       "0.6420765027322405"
      ]
     },
     "execution_count": 24,
     "metadata": {},
     "output_type": "execute_result"
    }
   ],
   "source": [
    "match_df.shape[0]/df.shape[0]"
   ]
  },
  {
   "cell_type": "code",
   "execution_count": 25,
   "metadata": {
    "collapsed": false
   },
   "outputs": [
    {
     "data": {
      "text/plain": [
       "37"
      ]
     },
     "execution_count": 25,
     "metadata": {},
     "output_type": "execute_result"
    }
   ],
   "source": [
    "responses_state = []\n",
    "for state in us.STATES:\n",
    "    if state.abbr in match_df.state.unique():\n",
    "        responses_state.append(state.abbr)\n",
    "len(responses_state)"
   ]
  }
 ],
 "metadata": {
  "anaconda-cloud": {},
  "kernelspec": {
   "display_name": "Python [default]",
   "language": "python",
   "name": "python2"
  },
  "language_info": {
   "codemirror_mode": {
    "name": "ipython",
    "version": 2
   },
   "file_extension": ".py",
   "mimetype": "text/x-python",
   "name": "python",
   "nbconvert_exporter": "python",
   "pygments_lexer": "ipython2",
   "version": "2.7.12"
  }
 },
 "nbformat": 4,
 "nbformat_minor": 2
}
