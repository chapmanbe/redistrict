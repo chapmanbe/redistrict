{
 "cells": [
  {
   "cell_type": "code",
   "execution_count": null,
   "metadata": {
    "collapsed": false
   },
   "outputs": [],
   "source": [
    "%matplotlib inline\n",
    "\n",
    "# Assuming we are in the notebooks directory, we need to move one up:\n",
    "%cd ..\n",
    "\n",
    "from __future__ import print_function\n",
    "\n",
    "import os\n",
    "import us\n",
    "import glob\n",
    "\n",
    "import numpy as np\n",
    "import pandas as pd\n",
    "import seaborn as sns\n",
    "import geopandas as gpd\n",
    "import matplotlib.pyplot as plt\n"
   ]
  },
  {
   "cell_type": "code",
   "execution_count": 3,
   "metadata": {
    "collapsed": false
   },
   "outputs": [],
   "source": [
    "state_name = 'NE'\n",
    "best_path = glob.glob('./clustered/best_stats/' + state_name +'*')[0]\n",
    "best_basename = os.path.basename(best_path)\n",
    "filename, file_extension = os.path.splitext(best_basename)\n",
    "state = gpd.read_file(glob.glob('./clustered/geojson_results/' + filename +'.geojson')[0])"
   ]
  },
  {
   "cell_type": "code",
   "execution_count": 9,
   "metadata": {
    "collapsed": false
   },
   "outputs": [
    {
     "data": {
      "text/html": [
       "<div>\n",
       "<table border=\"1\" class=\"dataframe\">\n",
       "  <thead>\n",
       "    <tr style=\"text-align: right;\">\n",
       "      <th></th>\n",
       "      <th>Alpha</th>\n",
       "      <th>Beta</th>\n",
       "      <th>Centroid Latitude</th>\n",
       "      <th>Centroid Longitude</th>\n",
       "      <th>Cluster</th>\n",
       "      <th>Congressional District</th>\n",
       "      <th>GEOID</th>\n",
       "      <th>Predicted 2015 Population</th>\n",
       "      <th>geometry</th>\n",
       "      <th>id</th>\n",
       "    </tr>\n",
       "  </thead>\n",
       "  <tbody>\n",
       "    <tr>\n",
       "      <th>0</th>\n",
       "      <td>4.0</td>\n",
       "      <td>0.8</td>\n",
       "      <td>32.656864</td>\n",
       "      <td>-114.573730</td>\n",
       "      <td>2</td>\n",
       "      <td>04</td>\n",
       "      <td>040270111071059</td>\n",
       "      <td>0.0</td>\n",
       "      <td>POLYGON ((-114.574787 32.658824, -114.574627 3...</td>\n",
       "      <td>0</td>\n",
       "    </tr>\n",
       "    <tr>\n",
       "      <th>1</th>\n",
       "      <td>4.0</td>\n",
       "      <td>0.8</td>\n",
       "      <td>32.680474</td>\n",
       "      <td>-114.558543</td>\n",
       "      <td>2</td>\n",
       "      <td>04</td>\n",
       "      <td>040270111071017</td>\n",
       "      <td>0.0</td>\n",
       "      <td>POLYGON ((-114.55146 32.676974, -114.553424 32...</td>\n",
       "      <td>1</td>\n",
       "    </tr>\n",
       "    <tr>\n",
       "      <th>2</th>\n",
       "      <td>4.0</td>\n",
       "      <td>0.8</td>\n",
       "      <td>32.683058</td>\n",
       "      <td>-114.578089</td>\n",
       "      <td>2</td>\n",
       "      <td>04</td>\n",
       "      <td>040270111071011</td>\n",
       "      <td>0.0</td>\n",
       "      <td>POLYGON ((-114.572876 32.682073, -114.572874 3...</td>\n",
       "      <td>2</td>\n",
       "    </tr>\n",
       "    <tr>\n",
       "      <th>3</th>\n",
       "      <td>4.0</td>\n",
       "      <td>0.8</td>\n",
       "      <td>32.668830</td>\n",
       "      <td>-114.572710</td>\n",
       "      <td>2</td>\n",
       "      <td>04</td>\n",
       "      <td>040270111071078</td>\n",
       "      <td>0.0</td>\n",
       "      <td>POLYGON ((-114.572764 32.667908, -114.572776 3...</td>\n",
       "      <td>3</td>\n",
       "    </tr>\n",
       "    <tr>\n",
       "      <th>4</th>\n",
       "      <td>4.0</td>\n",
       "      <td>0.8</td>\n",
       "      <td>32.669853</td>\n",
       "      <td>-114.573902</td>\n",
       "      <td>2</td>\n",
       "      <td>04</td>\n",
       "      <td>040270111071080</td>\n",
       "      <td>0.0</td>\n",
       "      <td>POLYGON ((-114.574997 32.669982, -114.572837 3...</td>\n",
       "      <td>4</td>\n",
       "    </tr>\n",
       "  </tbody>\n",
       "</table>\n",
       "</div>"
      ],
      "text/plain": [
       "   Alpha  Beta  Centroid Latitude  Centroid Longitude  Cluster  \\\n",
       "0    4.0   0.8          32.656864         -114.573730        2   \n",
       "1    4.0   0.8          32.680474         -114.558543        2   \n",
       "2    4.0   0.8          32.683058         -114.578089        2   \n",
       "3    4.0   0.8          32.668830         -114.572710        2   \n",
       "4    4.0   0.8          32.669853         -114.573902        2   \n",
       "\n",
       "  Congressional District            GEOID  Predicted 2015 Population  \\\n",
       "0                     04  040270111071059                        0.0   \n",
       "1                     04  040270111071017                        0.0   \n",
       "2                     04  040270111071011                        0.0   \n",
       "3                     04  040270111071078                        0.0   \n",
       "4                     04  040270111071080                        0.0   \n",
       "\n",
       "                                            geometry id  \n",
       "0  POLYGON ((-114.574787 32.658824, -114.574627 3...  0  \n",
       "1  POLYGON ((-114.55146 32.676974, -114.553424 32...  1  \n",
       "2  POLYGON ((-114.572876 32.682073, -114.572874 3...  2  \n",
       "3  POLYGON ((-114.572764 32.667908, -114.572776 3...  3  \n",
       "4  POLYGON ((-114.574997 32.669982, -114.572837 3...  4  "
      ]
     },
     "execution_count": 9,
     "metadata": {},
     "output_type": "execute_result"
    }
   ],
   "source": [
    "state.head()"
   ]
  },
  {
   "cell_type": "code",
   "execution_count": 4,
   "metadata": {
    "collapsed": false
   },
   "outputs": [],
   "source": [
    "mini = state[['Predicted 2015 Population', 'geometry', 'Cluster', 'Congressional District', 'GEOID']]"
   ]
  },
  {
   "cell_type": "code",
   "execution_count": 5,
   "metadata": {
    "collapsed": false
   },
   "outputs": [
    {
     "name": "stderr",
     "output_type": "stream",
     "text": [
      "/usr/local/lib/python2.7/dist-packages/ipykernel/__main__.py:1: SettingWithCopyWarning: \n",
      "A value is trying to be set on a copy of a slice from a DataFrame.\n",
      "Try using .loc[row_indexer,col_indexer] = value instead\n",
      "\n",
      "See the caveats in the documentation: http://pandas.pydata.org/pandas-docs/stable/indexing.html#indexing-view-versus-copy\n",
      "  if __name__ == '__main__':\n"
     ]
    }
   ],
   "source": [
    "mini['area'] = mini['geometry'].to_crs({'init': 'epsg:3395'}).map(lambda p: p.area / 10**6)"
   ]
  },
  {
   "cell_type": "code",
   "execution_count": 6,
   "metadata": {
    "collapsed": false
   },
   "outputs": [
    {
     "name": "stderr",
     "output_type": "stream",
     "text": [
      "/usr/local/lib/python2.7/dist-packages/ipykernel/__main__.py:7: SettingWithCopyWarning: \n",
      "A value is trying to be set on a copy of a slice from a DataFrame.\n",
      "Try using .loc[row_indexer,col_indexer] = value instead\n",
      "\n",
      "See the caveats in the documentation: http://pandas.pydata.org/pandas-docs/stable/indexing.html#indexing-view-versus-copy\n"
     ]
    }
   ],
   "source": [
    "# GEOID Structure is defined as\n",
    "# STATE + COUNTY + TRACT + BLOCK = 2 + 3 + 6 + 4 = 15\n",
    "# see: https://www.census.gov/geo/reference/geoidentifiers.html\n",
    "def get_tract(row):\n",
    "#     print(type(row['GEOID']))\n",
    "    return row['GEOID'][5:11]\n",
    "mini['Tract'] = mini.apply(get_tract, axis=1)"
   ]
  },
  {
   "cell_type": "code",
   "execution_count": 7,
   "metadata": {
    "collapsed": false
   },
   "outputs": [
    {
     "data": {
      "text/html": [
       "<div>\n",
       "<table border=\"1\" class=\"dataframe\">\n",
       "  <thead>\n",
       "    <tr style=\"text-align: right;\">\n",
       "      <th></th>\n",
       "      <th>Predicted 2015 Population</th>\n",
       "      <th>geometry</th>\n",
       "      <th>Cluster</th>\n",
       "      <th>Congressional District</th>\n",
       "      <th>GEOID</th>\n",
       "      <th>area</th>\n",
       "      <th>Tract</th>\n",
       "    </tr>\n",
       "  </thead>\n",
       "  <tbody>\n",
       "    <tr>\n",
       "      <th>0</th>\n",
       "      <td>6.981261</td>\n",
       "      <td>POLYGON ((-98.35283899999999 40.468267, -98.35...</td>\n",
       "      <td>2</td>\n",
       "      <td>03</td>\n",
       "      <td>310019662001170</td>\n",
       "      <td>2.337829</td>\n",
       "      <td>966200</td>\n",
       "    </tr>\n",
       "    <tr>\n",
       "      <th>1</th>\n",
       "      <td>9.308348</td>\n",
       "      <td>POLYGON ((-98.344453 40.463292, -98.3444339999...</td>\n",
       "      <td>2</td>\n",
       "      <td>03</td>\n",
       "      <td>310019662001177</td>\n",
       "      <td>5.543036</td>\n",
       "      <td>966200</td>\n",
       "    </tr>\n",
       "    <tr>\n",
       "      <th>2</th>\n",
       "      <td>8.144804</td>\n",
       "      <td>POLYGON ((-98.345648 40.41786, -98.34701899999...</td>\n",
       "      <td>2</td>\n",
       "      <td>03</td>\n",
       "      <td>310019662001256</td>\n",
       "      <td>0.022388</td>\n",
       "      <td>966200</td>\n",
       "    </tr>\n",
       "    <tr>\n",
       "      <th>3</th>\n",
       "      <td>0.000000</td>\n",
       "      <td>POLYGON ((-98.278132 40.379304, -98.279248 40....</td>\n",
       "      <td>2</td>\n",
       "      <td>03</td>\n",
       "      <td>310019662001301</td>\n",
       "      <td>1.261192</td>\n",
       "      <td>966200</td>\n",
       "    </tr>\n",
       "    <tr>\n",
       "      <th>4</th>\n",
       "      <td>0.000000</td>\n",
       "      <td>POLYGON ((-98.28971199999999 40.39379599999999...</td>\n",
       "      <td>2</td>\n",
       "      <td>03</td>\n",
       "      <td>310019662001291</td>\n",
       "      <td>1.925150</td>\n",
       "      <td>966200</td>\n",
       "    </tr>\n",
       "  </tbody>\n",
       "</table>\n",
       "</div>"
      ],
      "text/plain": [
       "   Predicted 2015 Population  \\\n",
       "0                   6.981261   \n",
       "1                   9.308348   \n",
       "2                   8.144804   \n",
       "3                   0.000000   \n",
       "4                   0.000000   \n",
       "\n",
       "                                            geometry  Cluster  \\\n",
       "0  POLYGON ((-98.35283899999999 40.468267, -98.35...        2   \n",
       "1  POLYGON ((-98.344453 40.463292, -98.3444339999...        2   \n",
       "2  POLYGON ((-98.345648 40.41786, -98.34701899999...        2   \n",
       "3  POLYGON ((-98.278132 40.379304, -98.279248 40....        2   \n",
       "4  POLYGON ((-98.28971199999999 40.39379599999999...        2   \n",
       "\n",
       "  Congressional District            GEOID      area   Tract  \n",
       "0                     03  310019662001170  2.337829  966200  \n",
       "1                     03  310019662001177  5.543036  966200  \n",
       "2                     03  310019662001256  0.022388  966200  \n",
       "3                     03  310019662001301  1.261192  966200  \n",
       "4                     03  310019662001291  1.925150  966200  "
      ]
     },
     "execution_count": 7,
     "metadata": {},
     "output_type": "execute_result"
    }
   ],
   "source": [
    "mini.head()"
   ]
  },
  {
   "cell_type": "code",
   "execution_count": 8,
   "metadata": {
    "collapsed": true
   },
   "outputs": [],
   "source": [
    "tracts = mini.dissolve(by='Tract')"
   ]
  },
  {
   "cell_type": "code",
   "execution_count": 9,
   "metadata": {
    "collapsed": false
   },
   "outputs": [
    {
     "data": {
      "text/html": [
       "<div>\n",
       "<table border=\"1\" class=\"dataframe\">\n",
       "  <thead>\n",
       "    <tr style=\"text-align: right;\">\n",
       "      <th></th>\n",
       "      <th>geometry</th>\n",
       "      <th>Predicted 2015 Population</th>\n",
       "      <th>Cluster</th>\n",
       "      <th>Congressional District</th>\n",
       "      <th>GEOID</th>\n",
       "      <th>area</th>\n",
       "    </tr>\n",
       "    <tr>\n",
       "      <th>Tract</th>\n",
       "      <th></th>\n",
       "      <th></th>\n",
       "      <th></th>\n",
       "      <th></th>\n",
       "      <th></th>\n",
       "      <th></th>\n",
       "    </tr>\n",
       "  </thead>\n",
       "  <tbody>\n",
       "    <tr>\n",
       "      <th>000100</th>\n",
       "      <td>(POLYGON ((-96.62487299999999 40.851498, -96.6...</td>\n",
       "      <td>0.000000</td>\n",
       "      <td>2</td>\n",
       "      <td>03</td>\n",
       "      <td>310790001002545</td>\n",
       "      <td>0.002221</td>\n",
       "    </tr>\n",
       "    <tr>\n",
       "      <th>000200</th>\n",
       "      <td>(POLYGON ((-98.337802 40.92875799999999, -98.3...</td>\n",
       "      <td>5.485362</td>\n",
       "      <td>0</td>\n",
       "      <td>02</td>\n",
       "      <td>310550002003007</td>\n",
       "      <td>0.719727</td>\n",
       "    </tr>\n",
       "    <tr>\n",
       "      <th>000201</th>\n",
       "      <td>POLYGON ((-96.630482 40.835202, -96.631805 40....</td>\n",
       "      <td>32.634335</td>\n",
       "      <td>1</td>\n",
       "      <td>01</td>\n",
       "      <td>311090002012005</td>\n",
       "      <td>0.023366</td>\n",
       "    </tr>\n",
       "    <tr>\n",
       "      <th>000202</th>\n",
       "      <td>POLYGON ((-96.64413399999999 40.835286, -96.64...</td>\n",
       "      <td>6.765045</td>\n",
       "      <td>1</td>\n",
       "      <td>01</td>\n",
       "      <td>311090002022003</td>\n",
       "      <td>0.014139</td>\n",
       "    </tr>\n",
       "    <tr>\n",
       "      <th>000300</th>\n",
       "      <td>(POLYGON ((-96.67281 40.837338, -96.67281 40.8...</td>\n",
       "      <td>20.496894</td>\n",
       "      <td>0</td>\n",
       "      <td>02</td>\n",
       "      <td>310550003003008</td>\n",
       "      <td>0.053909</td>\n",
       "    </tr>\n",
       "  </tbody>\n",
       "</table>\n",
       "</div>"
      ],
      "text/plain": [
       "                                                 geometry  \\\n",
       "Tract                                                       \n",
       "000100  (POLYGON ((-96.62487299999999 40.851498, -96.6...   \n",
       "000200  (POLYGON ((-98.337802 40.92875799999999, -98.3...   \n",
       "000201  POLYGON ((-96.630482 40.835202, -96.631805 40....   \n",
       "000202  POLYGON ((-96.64413399999999 40.835286, -96.64...   \n",
       "000300  (POLYGON ((-96.67281 40.837338, -96.67281 40.8...   \n",
       "\n",
       "        Predicted 2015 Population  Cluster Congressional District  \\\n",
       "Tract                                                               \n",
       "000100                   0.000000        2                     03   \n",
       "000200                   5.485362        0                     02   \n",
       "000201                  32.634335        1                     01   \n",
       "000202                   6.765045        1                     01   \n",
       "000300                  20.496894        0                     02   \n",
       "\n",
       "                  GEOID      area  \n",
       "Tract                              \n",
       "000100  310790001002545  0.002221  \n",
       "000200  310550002003007  0.719727  \n",
       "000201  311090002012005  0.023366  \n",
       "000202  311090002022003  0.014139  \n",
       "000300  310550003003008  0.053909  "
      ]
     },
     "execution_count": 9,
     "metadata": {},
     "output_type": "execute_result"
    }
   ],
   "source": [
    "tracts.head()"
   ]
  },
  {
   "cell_type": "code",
   "execution_count": 10,
   "metadata": {
    "collapsed": false
   },
   "outputs": [],
   "source": [
    "mini = mini[['Predicted 2015 Population', 'area', 'Tract']]"
   ]
  },
  {
   "cell_type": "code",
   "execution_count": 11,
   "metadata": {
    "collapsed": false
   },
   "outputs": [
    {
     "data": {
      "text/html": [
       "<div>\n",
       "<table border=\"1\" class=\"dataframe\">\n",
       "  <thead>\n",
       "    <tr style=\"text-align: right;\">\n",
       "      <th></th>\n",
       "      <th>Predicted 2015 Population</th>\n",
       "      <th>area</th>\n",
       "      <th>Tract</th>\n",
       "    </tr>\n",
       "  </thead>\n",
       "  <tbody>\n",
       "    <tr>\n",
       "      <th>0</th>\n",
       "      <td>6.981261</td>\n",
       "      <td>2.337829</td>\n",
       "      <td>966200</td>\n",
       "    </tr>\n",
       "    <tr>\n",
       "      <th>1</th>\n",
       "      <td>9.308348</td>\n",
       "      <td>5.543036</td>\n",
       "      <td>966200</td>\n",
       "    </tr>\n",
       "    <tr>\n",
       "      <th>2</th>\n",
       "      <td>8.144804</td>\n",
       "      <td>0.022388</td>\n",
       "      <td>966200</td>\n",
       "    </tr>\n",
       "    <tr>\n",
       "      <th>3</th>\n",
       "      <td>0.000000</td>\n",
       "      <td>1.261192</td>\n",
       "      <td>966200</td>\n",
       "    </tr>\n",
       "    <tr>\n",
       "      <th>4</th>\n",
       "      <td>0.000000</td>\n",
       "      <td>1.925150</td>\n",
       "      <td>966200</td>\n",
       "    </tr>\n",
       "  </tbody>\n",
       "</table>\n",
       "</div>"
      ],
      "text/plain": [
       "   Predicted 2015 Population      area   Tract\n",
       "0                   6.981261  2.337829  966200\n",
       "1                   9.308348  5.543036  966200\n",
       "2                   8.144804  0.022388  966200\n",
       "3                   0.000000  1.261192  966200\n",
       "4                   0.000000  1.925150  966200"
      ]
     },
     "execution_count": 11,
     "metadata": {},
     "output_type": "execute_result"
    }
   ],
   "source": [
    "mini.head()"
   ]
  },
  {
   "cell_type": "code",
   "execution_count": 12,
   "metadata": {
    "collapsed": false
   },
   "outputs": [
    {
     "data": {
      "text/html": [
       "<div>\n",
       "<table border=\"1\" class=\"dataframe\">\n",
       "  <thead>\n",
       "    <tr style=\"text-align: right;\">\n",
       "      <th></th>\n",
       "      <th>Predicted 2015 Population</th>\n",
       "      <th>area</th>\n",
       "      <th>Tract</th>\n",
       "    </tr>\n",
       "    <tr>\n",
       "      <th>Tract</th>\n",
       "      <th></th>\n",
       "      <th></th>\n",
       "      <th></th>\n",
       "    </tr>\n",
       "  </thead>\n",
       "  <tbody>\n",
       "    <tr>\n",
       "      <th>000100</th>\n",
       "      <td>7914.0</td>\n",
       "      <td>1047.574323</td>\n",
       "      <td>000100</td>\n",
       "    </tr>\n",
       "    <tr>\n",
       "      <th>000200</th>\n",
       "      <td>11745.0</td>\n",
       "      <td>147.151597</td>\n",
       "      <td>000200</td>\n",
       "    </tr>\n",
       "    <tr>\n",
       "      <th>000201</th>\n",
       "      <td>4477.0</td>\n",
       "      <td>4.451763</td>\n",
       "      <td>000201</td>\n",
       "    </tr>\n",
       "    <tr>\n",
       "      <th>000202</th>\n",
       "      <td>4268.0</td>\n",
       "      <td>2.467815</td>\n",
       "      <td>000202</td>\n",
       "    </tr>\n",
       "    <tr>\n",
       "      <th>000300</th>\n",
       "      <td>15480.0</td>\n",
       "      <td>4945.751457</td>\n",
       "      <td>000300</td>\n",
       "    </tr>\n",
       "  </tbody>\n",
       "</table>\n",
       "</div>"
      ],
      "text/plain": [
       "        Predicted 2015 Population         area   Tract\n",
       "Tract                                                 \n",
       "000100                     7914.0  1047.574323  000100\n",
       "000200                    11745.0   147.151597  000200\n",
       "000201                     4477.0     4.451763  000201\n",
       "000202                     4268.0     2.467815  000202\n",
       "000300                    15480.0  4945.751457  000300"
      ]
     },
     "execution_count": 12,
     "metadata": {},
     "output_type": "execute_result"
    }
   ],
   "source": [
    "pop = mini.groupby('Tract').sum()\n",
    "pop['Tract'] = pop.index\n",
    "\n",
    "pop.head()\n"
   ]
  },
  {
   "cell_type": "code",
   "execution_count": 13,
   "metadata": {
    "collapsed": true
   },
   "outputs": [],
   "source": [
    "del tracts['Predicted 2015 Population']"
   ]
  },
  {
   "cell_type": "code",
   "execution_count": 14,
   "metadata": {
    "collapsed": true
   },
   "outputs": [],
   "source": [
    "del tracts['area']"
   ]
  },
  {
   "cell_type": "code",
   "execution_count": 15,
   "metadata": {
    "collapsed": false
   },
   "outputs": [],
   "source": [
    "tracts['Tract'] = tracts.index"
   ]
  },
  {
   "cell_type": "code",
   "execution_count": 16,
   "metadata": {
    "collapsed": false
   },
   "outputs": [
    {
     "data": {
      "text/html": [
       "<div>\n",
       "<table border=\"1\" class=\"dataframe\">\n",
       "  <thead>\n",
       "    <tr style=\"text-align: right;\">\n",
       "      <th></th>\n",
       "      <th>geometry</th>\n",
       "      <th>Cluster</th>\n",
       "      <th>Congressional District</th>\n",
       "      <th>GEOID</th>\n",
       "      <th>Tract</th>\n",
       "    </tr>\n",
       "    <tr>\n",
       "      <th>Tract</th>\n",
       "      <th></th>\n",
       "      <th></th>\n",
       "      <th></th>\n",
       "      <th></th>\n",
       "      <th></th>\n",
       "    </tr>\n",
       "  </thead>\n",
       "  <tbody>\n",
       "    <tr>\n",
       "      <th>000100</th>\n",
       "      <td>(POLYGON ((-96.62487299999999 40.851498, -96.6...</td>\n",
       "      <td>2</td>\n",
       "      <td>03</td>\n",
       "      <td>310790001002545</td>\n",
       "      <td>000100</td>\n",
       "    </tr>\n",
       "    <tr>\n",
       "      <th>000200</th>\n",
       "      <td>(POLYGON ((-98.337802 40.92875799999999, -98.3...</td>\n",
       "      <td>0</td>\n",
       "      <td>02</td>\n",
       "      <td>310550002003007</td>\n",
       "      <td>000200</td>\n",
       "    </tr>\n",
       "    <tr>\n",
       "      <th>000201</th>\n",
       "      <td>POLYGON ((-96.630482 40.835202, -96.631805 40....</td>\n",
       "      <td>1</td>\n",
       "      <td>01</td>\n",
       "      <td>311090002012005</td>\n",
       "      <td>000201</td>\n",
       "    </tr>\n",
       "    <tr>\n",
       "      <th>000202</th>\n",
       "      <td>POLYGON ((-96.64413399999999 40.835286, -96.64...</td>\n",
       "      <td>1</td>\n",
       "      <td>01</td>\n",
       "      <td>311090002022003</td>\n",
       "      <td>000202</td>\n",
       "    </tr>\n",
       "    <tr>\n",
       "      <th>000300</th>\n",
       "      <td>(POLYGON ((-96.67281 40.837338, -96.67281 40.8...</td>\n",
       "      <td>0</td>\n",
       "      <td>02</td>\n",
       "      <td>310550003003008</td>\n",
       "      <td>000300</td>\n",
       "    </tr>\n",
       "  </tbody>\n",
       "</table>\n",
       "</div>"
      ],
      "text/plain": [
       "                                                 geometry  Cluster  \\\n",
       "Tract                                                                \n",
       "000100  (POLYGON ((-96.62487299999999 40.851498, -96.6...        2   \n",
       "000200  (POLYGON ((-98.337802 40.92875799999999, -98.3...        0   \n",
       "000201  POLYGON ((-96.630482 40.835202, -96.631805 40....        1   \n",
       "000202  POLYGON ((-96.64413399999999 40.835286, -96.64...        1   \n",
       "000300  (POLYGON ((-96.67281 40.837338, -96.67281 40.8...        0   \n",
       "\n",
       "       Congressional District            GEOID   Tract  \n",
       "Tract                                                   \n",
       "000100                     03  310790001002545  000100  \n",
       "000200                     02  310550002003007  000200  \n",
       "000201                     01  311090002012005  000201  \n",
       "000202                     01  311090002022003  000202  \n",
       "000300                     02  310550003003008  000300  "
      ]
     },
     "execution_count": 16,
     "metadata": {},
     "output_type": "execute_result"
    }
   ],
   "source": [
    "tracts.head()"
   ]
  },
  {
   "cell_type": "code",
   "execution_count": 17,
   "metadata": {
    "collapsed": false
   },
   "outputs": [],
   "source": [
    "tracts = tracts.merge(pop, on='Tract')"
   ]
  },
  {
   "cell_type": "code",
   "execution_count": 18,
   "metadata": {
    "collapsed": true
   },
   "outputs": [],
   "source": [
    "tracts['Population per square km'] = tracts['Predicted 2015 Population'] / tracts['area'] "
   ]
  },
  {
   "cell_type": "code",
   "execution_count": 20,
   "metadata": {
    "collapsed": false
   },
   "outputs": [
    {
     "data": {
      "text/html": [
       "<div>\n",
       "<table border=\"1\" class=\"dataframe\">\n",
       "  <thead>\n",
       "    <tr style=\"text-align: right;\">\n",
       "      <th></th>\n",
       "      <th>geometry</th>\n",
       "      <th>Cluster</th>\n",
       "      <th>Congressional District</th>\n",
       "      <th>GEOID</th>\n",
       "      <th>Tract</th>\n",
       "      <th>Predicted 2015 Population</th>\n",
       "      <th>area</th>\n",
       "      <th>Population per square km</th>\n",
       "    </tr>\n",
       "  </thead>\n",
       "  <tbody>\n",
       "    <tr>\n",
       "      <th>0</th>\n",
       "      <td>(POLYGON ((-96.62487299999999 40.851498, -96.6...</td>\n",
       "      <td>2</td>\n",
       "      <td>03</td>\n",
       "      <td>310790001002545</td>\n",
       "      <td>000100</td>\n",
       "      <td>7914.0</td>\n",
       "      <td>1047.574323</td>\n",
       "      <td>7.554595</td>\n",
       "    </tr>\n",
       "    <tr>\n",
       "      <th>1</th>\n",
       "      <td>(POLYGON ((-98.337802 40.92875799999999, -98.3...</td>\n",
       "      <td>0</td>\n",
       "      <td>02</td>\n",
       "      <td>310550002003007</td>\n",
       "      <td>000200</td>\n",
       "      <td>11745.0</td>\n",
       "      <td>147.151597</td>\n",
       "      <td>79.815648</td>\n",
       "    </tr>\n",
       "    <tr>\n",
       "      <th>2</th>\n",
       "      <td>POLYGON ((-96.630482 40.835202, -96.631805 40....</td>\n",
       "      <td>1</td>\n",
       "      <td>01</td>\n",
       "      <td>311090002012005</td>\n",
       "      <td>000201</td>\n",
       "      <td>4477.0</td>\n",
       "      <td>4.451763</td>\n",
       "      <td>1005.669043</td>\n",
       "    </tr>\n",
       "    <tr>\n",
       "      <th>3</th>\n",
       "      <td>POLYGON ((-96.64413399999999 40.835286, -96.64...</td>\n",
       "      <td>1</td>\n",
       "      <td>01</td>\n",
       "      <td>311090002022003</td>\n",
       "      <td>000202</td>\n",
       "      <td>4268.0</td>\n",
       "      <td>2.467815</td>\n",
       "      <td>1729.465287</td>\n",
       "    </tr>\n",
       "    <tr>\n",
       "      <th>4</th>\n",
       "      <td>(POLYGON ((-96.67281 40.837338, -96.67281 40.8...</td>\n",
       "      <td>0</td>\n",
       "      <td>02</td>\n",
       "      <td>310550003003008</td>\n",
       "      <td>000300</td>\n",
       "      <td>15480.0</td>\n",
       "      <td>4945.751457</td>\n",
       "      <td>3.129959</td>\n",
       "    </tr>\n",
       "  </tbody>\n",
       "</table>\n",
       "</div>"
      ],
      "text/plain": [
       "                                            geometry  Cluster  \\\n",
       "0  (POLYGON ((-96.62487299999999 40.851498, -96.6...        2   \n",
       "1  (POLYGON ((-98.337802 40.92875799999999, -98.3...        0   \n",
       "2  POLYGON ((-96.630482 40.835202, -96.631805 40....        1   \n",
       "3  POLYGON ((-96.64413399999999 40.835286, -96.64...        1   \n",
       "4  (POLYGON ((-96.67281 40.837338, -96.67281 40.8...        0   \n",
       "\n",
       "  Congressional District            GEOID   Tract  Predicted 2015 Population  \\\n",
       "0                     03  310790001002545  000100                     7914.0   \n",
       "1                     02  310550002003007  000200                    11745.0   \n",
       "2                     01  311090002012005  000201                     4477.0   \n",
       "3                     01  311090002022003  000202                     4268.0   \n",
       "4                     02  310550003003008  000300                    15480.0   \n",
       "\n",
       "          area  Population per square km  \n",
       "0  1047.574323                  7.554595  \n",
       "1   147.151597                 79.815648  \n",
       "2     4.451763               1005.669043  \n",
       "3     2.467815               1729.465287  \n",
       "4  4945.751457                  3.129959  "
      ]
     },
     "execution_count": 20,
     "metadata": {},
     "output_type": "execute_result"
    }
   ],
   "source": [
    "tracts.head()"
   ]
  },
  {
   "cell_type": "code",
   "execution_count": 22,
   "metadata": {
    "collapsed": false
   },
   "outputs": [],
   "source": [
    "tracts.to_file('./fig/shapefile/results/pop_nebraska_by_tract.shp', driver=\"ESRI Shapefile\")"
   ]
  },
  {
   "cell_type": "code",
   "execution_count": 11,
   "metadata": {
    "collapsed": false
   },
   "outputs": [],
   "source": [
    "az_ne_cities = az_ne_cities[(az_ne_cities['NAME'] == 'Tucson') | (az_ne_cities['NAME'] == 'Phoenix') |  (az_ne_cities['NAME'] == 'Omaha')]"
   ]
  },
  {
   "cell_type": "code",
   "execution_count": 12,
   "metadata": {
    "collapsed": false
   },
   "outputs": [
    {
     "data": {
      "text/html": [
       "<div>\n",
       "<table border=\"1\" class=\"dataframe\">\n",
       "  <thead>\n",
       "    <tr style=\"text-align: right;\">\n",
       "      <th></th>\n",
       "      <th>ANSICODE</th>\n",
       "      <th>COUNTY</th>\n",
       "      <th>COUNTYFIPS</th>\n",
       "      <th>ELEV_IN_FT</th>\n",
       "      <th>ELEV_IN_M</th>\n",
       "      <th>FEATURE</th>\n",
       "      <th>FEATURE2</th>\n",
       "      <th>GNIS_ID</th>\n",
       "      <th>LATITUDE</th>\n",
       "      <th>LONGITUDE</th>\n",
       "      <th>NAME</th>\n",
       "      <th>POP_2010</th>\n",
       "      <th>PopPlLat</th>\n",
       "      <th>PopPlLong</th>\n",
       "      <th>STATE</th>\n",
       "      <th>STATE_FIPS</th>\n",
       "      <th>geometry</th>\n",
       "    </tr>\n",
       "  </thead>\n",
       "  <tbody>\n",
       "    <tr>\n",
       "      <th>9315</th>\n",
       "      <td>2396064</td>\n",
       "      <td>Douglas</td>\n",
       "      <td>055</td>\n",
       "      <td>1060.0</td>\n",
       "      <td>323.0</td>\n",
       "      <td>Civil</td>\n",
       "      <td>County Seat</td>\n",
       "      <td>835483.0</td>\n",
       "      <td>41.258610</td>\n",
       "      <td>-95.937792</td>\n",
       "      <td>Omaha</td>\n",
       "      <td>408958.0</td>\n",
       "      <td>41.258610</td>\n",
       "      <td>-95.937792</td>\n",
       "      <td>NE</td>\n",
       "      <td>31</td>\n",
       "      <td>POINT (-95.93779199999994 41.25860960000006)</td>\n",
       "    </tr>\n",
       "    <tr>\n",
       "      <th>20569</th>\n",
       "      <td>2411414</td>\n",
       "      <td>Maricopa</td>\n",
       "      <td>013</td>\n",
       "      <td>1086.0</td>\n",
       "      <td>331.0</td>\n",
       "      <td>Civil</td>\n",
       "      <td>State Capital County Seat</td>\n",
       "      <td>44784.0</td>\n",
       "      <td>33.448377</td>\n",
       "      <td>-112.074037</td>\n",
       "      <td>Phoenix</td>\n",
       "      <td>1445632.0</td>\n",
       "      <td>33.448377</td>\n",
       "      <td>-112.074037</td>\n",
       "      <td>AZ</td>\n",
       "      <td>04</td>\n",
       "      <td>POINT (-112.0740373 33.44837710000013)</td>\n",
       "    </tr>\n",
       "    <tr>\n",
       "      <th>22102</th>\n",
       "      <td>2412104</td>\n",
       "      <td>Pima</td>\n",
       "      <td>019</td>\n",
       "      <td>2490.0</td>\n",
       "      <td>759.0</td>\n",
       "      <td>Civil</td>\n",
       "      <td>County Seat</td>\n",
       "      <td>43534.0</td>\n",
       "      <td>32.221743</td>\n",
       "      <td>-110.926479</td>\n",
       "      <td>Tucson</td>\n",
       "      <td>520116.0</td>\n",
       "      <td>32.221743</td>\n",
       "      <td>-110.926479</td>\n",
       "      <td>AZ</td>\n",
       "      <td>04</td>\n",
       "      <td>POINT (-110.926479 32.22174290000009)</td>\n",
       "    </tr>\n",
       "  </tbody>\n",
       "</table>\n",
       "</div>"
      ],
      "text/plain": [
       "      ANSICODE    COUNTY COUNTYFIPS  ELEV_IN_FT  ELEV_IN_M FEATURE  \\\n",
       "9315   2396064   Douglas        055      1060.0      323.0   Civil   \n",
       "20569  2411414  Maricopa        013      1086.0      331.0   Civil   \n",
       "22102  2412104      Pima        019      2490.0      759.0   Civil   \n",
       "\n",
       "                        FEATURE2   GNIS_ID   LATITUDE   LONGITUDE     NAME  \\\n",
       "9315                 County Seat  835483.0  41.258610  -95.937792    Omaha   \n",
       "20569  State Capital County Seat   44784.0  33.448377 -112.074037  Phoenix   \n",
       "22102                County Seat   43534.0  32.221743 -110.926479   Tucson   \n",
       "\n",
       "        POP_2010   PopPlLat   PopPlLong STATE STATE_FIPS  \\\n",
       "9315    408958.0  41.258610  -95.937792    NE         31   \n",
       "20569  1445632.0  33.448377 -112.074037    AZ         04   \n",
       "22102   520116.0  32.221743 -110.926479    AZ         04   \n",
       "\n",
       "                                           geometry  \n",
       "9315   POINT (-95.93779199999994 41.25860960000006)  \n",
       "20569        POINT (-112.0740373 33.44837710000013)  \n",
       "22102         POINT (-110.926479 32.22174290000009)  "
      ]
     },
     "execution_count": 12,
     "metadata": {},
     "output_type": "execute_result"
    }
   ],
   "source": [
    "az_ne_cities"
   ]
  },
  {
   "cell_type": "code",
   "execution_count": 13,
   "metadata": {
    "collapsed": true
   },
   "outputs": [],
   "source": [
    "az_ne_cities.to_file('./fig/shapefile/cities/az_ne_cities.shp', driver=\"ESRI Shapefile\")"
   ]
  },
  {
   "cell_type": "code",
   "execution_count": 14,
   "metadata": {
    "collapsed": true
   },
   "outputs": [],
   "source": [
    "from default_values import usa_shapefile_path\n",
    "usa = gpd.read_file(usa_shapefile_path)"
   ]
  },
  {
   "cell_type": "code",
   "execution_count": 15,
   "metadata": {
    "collapsed": false
   },
   "outputs": [
    {
     "data": {
      "text/plain": [
       "u'04'"
      ]
     },
     "execution_count": 15,
     "metadata": {},
     "output_type": "execute_result"
    }
   ],
   "source": [
    "us.states.lookup('NE').fips\n",
    "us.states.lookup('AZ').fips\n"
   ]
  },
  {
   "cell_type": "code",
   "execution_count": 16,
   "metadata": {
    "collapsed": false
   },
   "outputs": [],
   "source": [
    "az_ne_cong_dist = usa[(usa['STATEFP'].apply(int) == int(us.states.lookup('NE').fips)) |\n",
    "    (usa['STATEFP'].apply(int) == int(us.states.lookup('AZ').fips))]"
   ]
  },
  {
   "cell_type": "code",
   "execution_count": 17,
   "metadata": {
    "collapsed": false
   },
   "outputs": [
    {
     "data": {
      "text/plain": [
       "<matplotlib.axes._subplots.AxesSubplot at 0x7f9f311c7250>"
      ]
     },
     "execution_count": 17,
     "metadata": {},
     "output_type": "execute_result"
    },
    {
     "data": {
      "image/png": "[encoded data removed]",
      "text/plain": [
       "<matplotlib.figure.Figure at 0x7f9f311e0950>"
      ]
     },
     "metadata": {},
     "output_type": "display_data"
    }
   ],
   "source": [
    "az_ne_cong_dist.plot()"
   ]
  },
  {
   "cell_type": "code",
   "execution_count": 18,
   "metadata": {
    "collapsed": true
   },
   "outputs": [],
   "source": [
    "az_ne_cong_dist.to_file('./fig/shapefile/cong_dist/az_ne_cong_dist.shp', driver=\"ESRI Shapefile\")"
   ]
  },
  {
   "cell_type": "code",
   "execution_count": null,
   "metadata": {
    "collapsed": true
   },
   "outputs": [],
   "source": []
  }
 ],
 "metadata": {
  "anaconda-cloud": {},
  "kernelspec": {
   "display_name": "Python [default]",
   "language": "python",
   "name": "python2"
  },
  "language_info": {
   "codemirror_mode": {
    "name": "ipython",
    "version": 2
   },
   "file_extension": ".py",
   "mimetype": "text/x-python",
   "name": "python",
   "nbconvert_exporter": "python",
   "pygments_lexer": "ipython2",
   "version": "2.7.12"
  }
 },
 "nbformat": 4,
 "nbformat_minor": 2
}
