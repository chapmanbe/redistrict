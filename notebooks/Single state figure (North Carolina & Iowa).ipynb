{
 "cells": [
  {
   "cell_type": "code",
   "execution_count": null,
   "metadata": {
    "collapsed": false
   },
   "outputs": [],
   "source": [
    "%matplotlib inline\n",
    "\n",
    "# Assuming we are in the notebooks directory, we need to move one up:\n",
    "%cd ..\n",
    "\n",
    "from __future__ import print_function\n",
    "\n",
    "import os\n",
    "import us\n",
    "import glob\n",
    "\n",
    "import numpy as np\n",
    "import pandas as pd\n",
    "import seaborn as sns\n",
    "import geopandas as gpd\n",
    "import matplotlib.pyplot as plt"
   ]
  },
  {
   "cell_type": "markdown",
   "metadata": {},
   "source": [
    "# North Carolina"
   ]
  },
  {
   "cell_type": "code",
   "execution_count": 2,
   "metadata": {
    "collapsed": false
   },
   "outputs": [],
   "source": [
    "state_name = 'NC'\n",
    "best_path = glob.glob('./clustered/best_stats/' + state_name +'*')[0]\n",
    "best_basename = os.path.basename(best_path)\n",
    "filename, file_extension = os.path.splitext(best_basename)\n",
    "state = gpd.read_file(glob.glob('./clustered/geojson_results/' + filename +'.geojson')[0])"
   ]
  },
  {
   "cell_type": "code",
   "execution_count": 3,
   "metadata": {
    "collapsed": false
   },
   "outputs": [
    {
     "data": {
      "text/html": [
       "<div>\n",
       "<table border=\"1\" class=\"dataframe\">\n",
       "  <thead>\n",
       "    <tr style=\"text-align: right;\">\n",
       "      <th></th>\n",
       "      <th>Alpha</th>\n",
       "      <th>Beta</th>\n",
       "      <th>Centroid Latitude</th>\n",
       "      <th>Centroid Longitude</th>\n",
       "      <th>Cluster</th>\n",
       "      <th>Congressional District</th>\n",
       "      <th>GEOID</th>\n",
       "      <th>Predicted 2015 Population</th>\n",
       "      <th>geometry</th>\n",
       "      <th>id</th>\n",
       "    </tr>\n",
       "  </thead>\n",
       "  <tbody>\n",
       "    <tr>\n",
       "      <th>0</th>\n",
       "      <td>2.0</td>\n",
       "      <td>0.6</td>\n",
       "      <td>35.997227</td>\n",
       "      <td>-79.487436</td>\n",
       "      <td>7</td>\n",
       "      <td>06</td>\n",
       "      <td>370010218012010</td>\n",
       "      <td>0.0</td>\n",
       "      <td>POLYGON ((-79.48484599999999 35.99757, -79.484...</td>\n",
       "      <td>0</td>\n",
       "    </tr>\n",
       "    <tr>\n",
       "      <th>1</th>\n",
       "      <td>2.0</td>\n",
       "      <td>0.6</td>\n",
       "      <td>35.999904</td>\n",
       "      <td>-79.478552</td>\n",
       "      <td>7</td>\n",
       "      <td>06</td>\n",
       "      <td>370010218012013</td>\n",
       "      <td>0.0</td>\n",
       "      <td>POLYGON ((-79.478807 35.999981, -79.478971 35....</td>\n",
       "      <td>1</td>\n",
       "    </tr>\n",
       "    <tr>\n",
       "      <th>2</th>\n",
       "      <td>2.0</td>\n",
       "      <td>0.6</td>\n",
       "      <td>36.003135</td>\n",
       "      <td>-79.475675</td>\n",
       "      <td>7</td>\n",
       "      <td>06</td>\n",
       "      <td>370010218012009</td>\n",
       "      <td>0.0</td>\n",
       "      <td>POLYGON ((-79.474141 36.005681, -79.474081 36....</td>\n",
       "      <td>2</td>\n",
       "    </tr>\n",
       "    <tr>\n",
       "      <th>3</th>\n",
       "      <td>2.0</td>\n",
       "      <td>0.6</td>\n",
       "      <td>36.003904</td>\n",
       "      <td>-79.463586</td>\n",
       "      <td>8</td>\n",
       "      <td>06</td>\n",
       "      <td>370010218012001</td>\n",
       "      <td>0.0</td>\n",
       "      <td>POLYGON ((-79.46624299999999 36.002165, -79.46...</td>\n",
       "      <td>3</td>\n",
       "    </tr>\n",
       "    <tr>\n",
       "      <th>4</th>\n",
       "      <td>2.0</td>\n",
       "      <td>0.6</td>\n",
       "      <td>35.968335</td>\n",
       "      <td>-79.524921</td>\n",
       "      <td>7</td>\n",
       "      <td>06</td>\n",
       "      <td>370010218012048</td>\n",
       "      <td>0.0</td>\n",
       "      <td>POLYGON ((-79.53047099999999 35.966032, -79.53...</td>\n",
       "      <td>4</td>\n",
       "    </tr>\n",
       "  </tbody>\n",
       "</table>\n",
       "</div>"
      ],
      "text/plain": [
       "   Alpha  Beta  Centroid Latitude  Centroid Longitude  Cluster  \\\n",
       "0    2.0   0.6          35.997227          -79.487436        7   \n",
       "1    2.0   0.6          35.999904          -79.478552        7   \n",
       "2    2.0   0.6          36.003135          -79.475675        7   \n",
       "3    2.0   0.6          36.003904          -79.463586        8   \n",
       "4    2.0   0.6          35.968335          -79.524921        7   \n",
       "\n",
       "  Congressional District            GEOID  Predicted 2015 Population  \\\n",
       "0                     06  370010218012010                        0.0   \n",
       "1                     06  370010218012013                        0.0   \n",
       "2                     06  370010218012009                        0.0   \n",
       "3                     06  370010218012001                        0.0   \n",
       "4                     06  370010218012048                        0.0   \n",
       "\n",
       "                                            geometry id  \n",
       "0  POLYGON ((-79.48484599999999 35.99757, -79.484...  0  \n",
       "1  POLYGON ((-79.478807 35.999981, -79.478971 35....  1  \n",
       "2  POLYGON ((-79.474141 36.005681, -79.474081 36....  2  \n",
       "3  POLYGON ((-79.46624299999999 36.002165, -79.46...  3  \n",
       "4  POLYGON ((-79.53047099999999 35.966032, -79.53...  4  "
      ]
     },
     "execution_count": 3,
     "metadata": {},
     "output_type": "execute_result"
    }
   ],
   "source": [
    "state.head()"
   ]
  },
  {
   "cell_type": "code",
   "execution_count": 4,
   "metadata": {
    "collapsed": false
   },
   "outputs": [],
   "source": [
    "mini = state[['Predicted 2015 Population', 'geometry', 'Cluster', 'Congressional District', 'GEOID']]"
   ]
  },
  {
   "cell_type": "code",
   "execution_count": 5,
   "metadata": {
    "collapsed": false
   },
   "outputs": [
    {
     "name": "stderr",
     "output_type": "stream",
     "text": [
      "/usr/local/lib/python2.7/dist-packages/ipykernel/__main__.py:1: SettingWithCopyWarning: \n",
      "A value is trying to be set on a copy of a slice from a DataFrame.\n",
      "Try using .loc[row_indexer,col_indexer] = value instead\n",
      "\n",
      "See the caveats in the documentation: http://pandas.pydata.org/pandas-docs/stable/indexing.html#indexing-view-versus-copy\n",
      "  if __name__ == '__main__':\n"
     ]
    }
   ],
   "source": [
    "mini['area'] = mini['geometry'].to_crs({'init': 'epsg:3395'}).map(lambda p: p.area / 10**6)"
   ]
  },
  {
   "cell_type": "code",
   "execution_count": 6,
   "metadata": {
    "collapsed": false
   },
   "outputs": [
    {
     "name": "stderr",
     "output_type": "stream",
     "text": [
      "/usr/local/lib/python2.7/dist-packages/ipykernel/__main__.py:7: SettingWithCopyWarning: \n",
      "A value is trying to be set on a copy of a slice from a DataFrame.\n",
      "Try using .loc[row_indexer,col_indexer] = value instead\n",
      "\n",
      "See the caveats in the documentation: http://pandas.pydata.org/pandas-docs/stable/indexing.html#indexing-view-versus-copy\n"
     ]
    }
   ],
   "source": [
    "# GEOID Structure is defined as\n",
    "# STATE + COUNTY + TRACT + BLOCK = 2 + 3 + 6 + 4 = 15\n",
    "# see: https://www.census.gov/geo/reference/geoidentifiers.html\n",
    "def get_tract(row):\n",
    "#     print(type(row['GEOID']))\n",
    "    return row['GEOID'][5:11]\n",
    "mini['Tract'] = mini.apply(get_tract, axis=1)"
   ]
  },
  {
   "cell_type": "code",
   "execution_count": 7,
   "metadata": {
    "collapsed": true
   },
   "outputs": [],
   "source": [
    "tracts = mini.dissolve(by='Tract')"
   ]
  },
  {
   "cell_type": "code",
   "execution_count": 8,
   "metadata": {
    "collapsed": false
   },
   "outputs": [
    {
     "data": {
      "text/html": [
       "<div>\n",
       "<table border=\"1\" class=\"dataframe\">\n",
       "  <thead>\n",
       "    <tr style=\"text-align: right;\">\n",
       "      <th></th>\n",
       "      <th>geometry</th>\n",
       "      <th>Predicted 2015 Population</th>\n",
       "      <th>Cluster</th>\n",
       "      <th>Congressional District</th>\n",
       "      <th>GEOID</th>\n",
       "      <th>area</th>\n",
       "    </tr>\n",
       "    <tr>\n",
       "      <th>Tract</th>\n",
       "      <th></th>\n",
       "      <th></th>\n",
       "      <th></th>\n",
       "      <th></th>\n",
       "      <th></th>\n",
       "      <th></th>\n",
       "    </tr>\n",
       "  </thead>\n",
       "  <tbody>\n",
       "    <tr>\n",
       "      <th>000100</th>\n",
       "      <td>(POLYGON ((-80.84199599999999 35.220125, -80.8...</td>\n",
       "      <td>0.000000</td>\n",
       "      <td>1</td>\n",
       "      <td>10</td>\n",
       "      <td>370210001001031</td>\n",
       "      <td>0.016909</td>\n",
       "    </tr>\n",
       "    <tr>\n",
       "      <th>000101</th>\n",
       "      <td>(POLYGON ((-78.876755 36.013599, -78.877118 36...</td>\n",
       "      <td>0.000000</td>\n",
       "      <td>8</td>\n",
       "      <td>01</td>\n",
       "      <td>370630001011029</td>\n",
       "      <td>0.017904</td>\n",
       "    </tr>\n",
       "    <tr>\n",
       "      <th>000102</th>\n",
       "      <td>(POLYGON ((-78.89038599999999 36.01516, -78.89...</td>\n",
       "      <td>78.913333</td>\n",
       "      <td>8</td>\n",
       "      <td>01</td>\n",
       "      <td>370630001022015</td>\n",
       "      <td>0.121920</td>\n",
       "    </tr>\n",
       "    <tr>\n",
       "      <th>000103</th>\n",
       "      <td>POLYGON ((-77.3103 34.768795, -77.310989999999...</td>\n",
       "      <td>42.415305</td>\n",
       "      <td>5</td>\n",
       "      <td>03</td>\n",
       "      <td>371330001031024</td>\n",
       "      <td>1.677060</td>\n",
       "    </tr>\n",
       "    <tr>\n",
       "      <th>000200</th>\n",
       "      <td>(POLYGON ((-78.892566 35.020198, -78.89264 35....</td>\n",
       "      <td>11.979339</td>\n",
       "      <td>1</td>\n",
       "      <td>10</td>\n",
       "      <td>370210002002017</td>\n",
       "      <td>0.034104</td>\n",
       "    </tr>\n",
       "  </tbody>\n",
       "</table>\n",
       "</div>"
      ],
      "text/plain": [
       "                                                 geometry  \\\n",
       "Tract                                                       \n",
       "000100  (POLYGON ((-80.84199599999999 35.220125, -80.8...   \n",
       "000101  (POLYGON ((-78.876755 36.013599, -78.877118 36...   \n",
       "000102  (POLYGON ((-78.89038599999999 36.01516, -78.89...   \n",
       "000103  POLYGON ((-77.3103 34.768795, -77.310989999999...   \n",
       "000200  (POLYGON ((-78.892566 35.020198, -78.89264 35....   \n",
       "\n",
       "        Predicted 2015 Population  Cluster Congressional District  \\\n",
       "Tract                                                               \n",
       "000100                   0.000000        1                     10   \n",
       "000101                   0.000000        8                     01   \n",
       "000102                  78.913333        8                     01   \n",
       "000103                  42.415305        5                     03   \n",
       "000200                  11.979339        1                     10   \n",
       "\n",
       "                  GEOID      area  \n",
       "Tract                              \n",
       "000100  370210001001031  0.016909  \n",
       "000101  370630001011029  0.017904  \n",
       "000102  370630001022015  0.121920  \n",
       "000103  371330001031024  1.677060  \n",
       "000200  370210002002017  0.034104  "
      ]
     },
     "execution_count": 8,
     "metadata": {},
     "output_type": "execute_result"
    }
   ],
   "source": [
    "tracts.head()"
   ]
  },
  {
   "cell_type": "code",
   "execution_count": 9,
   "metadata": {
    "collapsed": false
   },
   "outputs": [],
   "source": [
    "mini = mini[['Predicted 2015 Population', 'area', 'Tract']]"
   ]
  },
  {
   "cell_type": "code",
   "execution_count": 10,
   "metadata": {
    "collapsed": false
   },
   "outputs": [
    {
     "data": {
      "text/html": [
       "<div>\n",
       "<table border=\"1\" class=\"dataframe\">\n",
       "  <thead>\n",
       "    <tr style=\"text-align: right;\">\n",
       "      <th></th>\n",
       "      <th>Predicted 2015 Population</th>\n",
       "      <th>area</th>\n",
       "      <th>Tract</th>\n",
       "    </tr>\n",
       "  </thead>\n",
       "  <tbody>\n",
       "    <tr>\n",
       "      <th>0</th>\n",
       "      <td>0.0</td>\n",
       "      <td>0.019462</td>\n",
       "      <td>021801</td>\n",
       "    </tr>\n",
       "    <tr>\n",
       "      <th>1</th>\n",
       "      <td>0.0</td>\n",
       "      <td>0.007747</td>\n",
       "      <td>021801</td>\n",
       "    </tr>\n",
       "    <tr>\n",
       "      <th>2</th>\n",
       "      <td>0.0</td>\n",
       "      <td>0.024062</td>\n",
       "      <td>021801</td>\n",
       "    </tr>\n",
       "    <tr>\n",
       "      <th>3</th>\n",
       "      <td>0.0</td>\n",
       "      <td>0.020475</td>\n",
       "      <td>021801</td>\n",
       "    </tr>\n",
       "    <tr>\n",
       "      <th>4</th>\n",
       "      <td>0.0</td>\n",
       "      <td>0.692909</td>\n",
       "      <td>021801</td>\n",
       "    </tr>\n",
       "  </tbody>\n",
       "</table>\n",
       "</div>"
      ],
      "text/plain": [
       "   Predicted 2015 Population      area   Tract\n",
       "0                        0.0  0.019462  021801\n",
       "1                        0.0  0.007747  021801\n",
       "2                        0.0  0.024062  021801\n",
       "3                        0.0  0.020475  021801\n",
       "4                        0.0  0.692909  021801"
      ]
     },
     "execution_count": 10,
     "metadata": {},
     "output_type": "execute_result"
    }
   ],
   "source": [
    "mini.head()"
   ]
  },
  {
   "cell_type": "code",
   "execution_count": 11,
   "metadata": {
    "collapsed": false
   },
   "outputs": [
    {
     "data": {
      "text/html": [
       "<div>\n",
       "<table border=\"1\" class=\"dataframe\">\n",
       "  <thead>\n",
       "    <tr style=\"text-align: right;\">\n",
       "      <th></th>\n",
       "      <th>Predicted 2015 Population</th>\n",
       "      <th>area</th>\n",
       "      <th>Tract</th>\n",
       "    </tr>\n",
       "    <tr>\n",
       "      <th>Tract</th>\n",
       "      <th></th>\n",
       "      <th></th>\n",
       "      <th></th>\n",
       "    </tr>\n",
       "  </thead>\n",
       "  <tbody>\n",
       "    <tr>\n",
       "      <th>000100</th>\n",
       "      <td>16111.0</td>\n",
       "      <td>15.656931</td>\n",
       "      <td>000100</td>\n",
       "    </tr>\n",
       "    <tr>\n",
       "      <th>000101</th>\n",
       "      <td>10018.0</td>\n",
       "      <td>214.334518</td>\n",
       "      <td>000101</td>\n",
       "    </tr>\n",
       "    <tr>\n",
       "      <th>000102</th>\n",
       "      <td>20170.0</td>\n",
       "      <td>192.327918</td>\n",
       "      <td>000102</td>\n",
       "    </tr>\n",
       "    <tr>\n",
       "      <th>000103</th>\n",
       "      <td>6232.0</td>\n",
       "      <td>560.199988</td>\n",
       "      <td>000103</td>\n",
       "    </tr>\n",
       "    <tr>\n",
       "      <th>000200</th>\n",
       "      <td>12128.0</td>\n",
       "      <td>209.324685</td>\n",
       "      <td>000200</td>\n",
       "    </tr>\n",
       "  </tbody>\n",
       "</table>\n",
       "</div>"
      ],
      "text/plain": [
       "        Predicted 2015 Population        area   Tract\n",
       "Tract                                                \n",
       "000100                    16111.0   15.656931  000100\n",
       "000101                    10018.0  214.334518  000101\n",
       "000102                    20170.0  192.327918  000102\n",
       "000103                     6232.0  560.199988  000103\n",
       "000200                    12128.0  209.324685  000200"
      ]
     },
     "execution_count": 11,
     "metadata": {},
     "output_type": "execute_result"
    }
   ],
   "source": [
    "pop = mini.groupby('Tract').sum()\n",
    "pop['Tract'] = pop.index\n",
    "pop.head()"
   ]
  },
  {
   "cell_type": "code",
   "execution_count": 12,
   "metadata": {
    "collapsed": true
   },
   "outputs": [],
   "source": [
    "del tracts['Predicted 2015 Population']"
   ]
  },
  {
   "cell_type": "code",
   "execution_count": 13,
   "metadata": {
    "collapsed": true
   },
   "outputs": [],
   "source": [
    "del tracts['area']"
   ]
  },
  {
   "cell_type": "code",
   "execution_count": 14,
   "metadata": {
    "collapsed": false
   },
   "outputs": [],
   "source": [
    "tracts['Tract'] = tracts.index"
   ]
  },
  {
   "cell_type": "code",
   "execution_count": 15,
   "metadata": {
    "collapsed": false
   },
   "outputs": [
    {
     "data": {
      "text/html": [
       "<div>\n",
       "<table border=\"1\" class=\"dataframe\">\n",
       "  <thead>\n",
       "    <tr style=\"text-align: right;\">\n",
       "      <th></th>\n",
       "      <th>geometry</th>\n",
       "      <th>Cluster</th>\n",
       "      <th>Congressional District</th>\n",
       "      <th>GEOID</th>\n",
       "      <th>Tract</th>\n",
       "    </tr>\n",
       "    <tr>\n",
       "      <th>Tract</th>\n",
       "      <th></th>\n",
       "      <th></th>\n",
       "      <th></th>\n",
       "      <th></th>\n",
       "      <th></th>\n",
       "    </tr>\n",
       "  </thead>\n",
       "  <tbody>\n",
       "    <tr>\n",
       "      <th>000100</th>\n",
       "      <td>(POLYGON ((-80.84199599999999 35.220125, -80.8...</td>\n",
       "      <td>1</td>\n",
       "      <td>10</td>\n",
       "      <td>370210001001031</td>\n",
       "      <td>000100</td>\n",
       "    </tr>\n",
       "    <tr>\n",
       "      <th>000101</th>\n",
       "      <td>(POLYGON ((-78.876755 36.013599, -78.877118 36...</td>\n",
       "      <td>8</td>\n",
       "      <td>01</td>\n",
       "      <td>370630001011029</td>\n",
       "      <td>000101</td>\n",
       "    </tr>\n",
       "    <tr>\n",
       "      <th>000102</th>\n",
       "      <td>(POLYGON ((-78.89038599999999 36.01516, -78.89...</td>\n",
       "      <td>8</td>\n",
       "      <td>01</td>\n",
       "      <td>370630001022015</td>\n",
       "      <td>000102</td>\n",
       "    </tr>\n",
       "    <tr>\n",
       "      <th>000103</th>\n",
       "      <td>POLYGON ((-77.3103 34.768795, -77.310989999999...</td>\n",
       "      <td>5</td>\n",
       "      <td>03</td>\n",
       "      <td>371330001031024</td>\n",
       "      <td>000103</td>\n",
       "    </tr>\n",
       "    <tr>\n",
       "      <th>000200</th>\n",
       "      <td>(POLYGON ((-78.892566 35.020198, -78.89264 35....</td>\n",
       "      <td>1</td>\n",
       "      <td>10</td>\n",
       "      <td>370210002002017</td>\n",
       "      <td>000200</td>\n",
       "    </tr>\n",
       "  </tbody>\n",
       "</table>\n",
       "</div>"
      ],
      "text/plain": [
       "                                                 geometry  Cluster  \\\n",
       "Tract                                                                \n",
       "000100  (POLYGON ((-80.84199599999999 35.220125, -80.8...        1   \n",
       "000101  (POLYGON ((-78.876755 36.013599, -78.877118 36...        8   \n",
       "000102  (POLYGON ((-78.89038599999999 36.01516, -78.89...        8   \n",
       "000103  POLYGON ((-77.3103 34.768795, -77.310989999999...        5   \n",
       "000200  (POLYGON ((-78.892566 35.020198, -78.89264 35....        1   \n",
       "\n",
       "       Congressional District            GEOID   Tract  \n",
       "Tract                                                   \n",
       "000100                     10  370210001001031  000100  \n",
       "000101                     01  370630001011029  000101  \n",
       "000102                     01  370630001022015  000102  \n",
       "000103                     03  371330001031024  000103  \n",
       "000200                     10  370210002002017  000200  "
      ]
     },
     "execution_count": 15,
     "metadata": {},
     "output_type": "execute_result"
    }
   ],
   "source": [
    "tracts.head()"
   ]
  },
  {
   "cell_type": "code",
   "execution_count": 16,
   "metadata": {
    "collapsed": false
   },
   "outputs": [],
   "source": [
    "tracts = tracts.merge(pop, on='Tract')"
   ]
  },
  {
   "cell_type": "code",
   "execution_count": 17,
   "metadata": {
    "collapsed": true
   },
   "outputs": [],
   "source": [
    "tracts['Population per square km'] = tracts['Predicted 2015 Population'] / tracts['area'] "
   ]
  },
  {
   "cell_type": "code",
   "execution_count": 18,
   "metadata": {
    "collapsed": false
   },
   "outputs": [
    {
     "data": {
      "text/html": [
       "<div>\n",
       "<table border=\"1\" class=\"dataframe\">\n",
       "  <thead>\n",
       "    <tr style=\"text-align: right;\">\n",
       "      <th></th>\n",
       "      <th>geometry</th>\n",
       "      <th>Cluster</th>\n",
       "      <th>Congressional District</th>\n",
       "      <th>GEOID</th>\n",
       "      <th>Tract</th>\n",
       "      <th>Predicted 2015 Population</th>\n",
       "      <th>area</th>\n",
       "      <th>Population per square km</th>\n",
       "    </tr>\n",
       "  </thead>\n",
       "  <tbody>\n",
       "    <tr>\n",
       "      <th>0</th>\n",
       "      <td>(POLYGON ((-80.84199599999999 35.220125, -80.8...</td>\n",
       "      <td>1</td>\n",
       "      <td>10</td>\n",
       "      <td>370210001001031</td>\n",
       "      <td>000100</td>\n",
       "      <td>16111.0</td>\n",
       "      <td>15.656931</td>\n",
       "      <td>1029.001128</td>\n",
       "    </tr>\n",
       "    <tr>\n",
       "      <th>1</th>\n",
       "      <td>(POLYGON ((-78.876755 36.013599, -78.877118 36...</td>\n",
       "      <td>8</td>\n",
       "      <td>01</td>\n",
       "      <td>370630001011029</td>\n",
       "      <td>000101</td>\n",
       "      <td>10018.0</td>\n",
       "      <td>214.334518</td>\n",
       "      <td>46.740022</td>\n",
       "    </tr>\n",
       "    <tr>\n",
       "      <th>2</th>\n",
       "      <td>(POLYGON ((-78.89038599999999 36.01516, -78.89...</td>\n",
       "      <td>8</td>\n",
       "      <td>01</td>\n",
       "      <td>370630001022015</td>\n",
       "      <td>000102</td>\n",
       "      <td>20170.0</td>\n",
       "      <td>192.327918</td>\n",
       "      <td>104.872970</td>\n",
       "    </tr>\n",
       "    <tr>\n",
       "      <th>3</th>\n",
       "      <td>POLYGON ((-77.3103 34.768795, -77.310989999999...</td>\n",
       "      <td>5</td>\n",
       "      <td>03</td>\n",
       "      <td>371330001031024</td>\n",
       "      <td>000103</td>\n",
       "      <td>6232.0</td>\n",
       "      <td>560.199988</td>\n",
       "      <td>11.124599</td>\n",
       "    </tr>\n",
       "    <tr>\n",
       "      <th>4</th>\n",
       "      <td>(POLYGON ((-78.892566 35.020198, -78.89264 35....</td>\n",
       "      <td>1</td>\n",
       "      <td>10</td>\n",
       "      <td>370210002002017</td>\n",
       "      <td>000200</td>\n",
       "      <td>12128.0</td>\n",
       "      <td>209.324685</td>\n",
       "      <td>57.938699</td>\n",
       "    </tr>\n",
       "  </tbody>\n",
       "</table>\n",
       "</div>"
      ],
      "text/plain": [
       "                                            geometry  Cluster  \\\n",
       "0  (POLYGON ((-80.84199599999999 35.220125, -80.8...        1   \n",
       "1  (POLYGON ((-78.876755 36.013599, -78.877118 36...        8   \n",
       "2  (POLYGON ((-78.89038599999999 36.01516, -78.89...        8   \n",
       "3  POLYGON ((-77.3103 34.768795, -77.310989999999...        5   \n",
       "4  (POLYGON ((-78.892566 35.020198, -78.89264 35....        1   \n",
       "\n",
       "  Congressional District            GEOID   Tract  Predicted 2015 Population  \\\n",
       "0                     10  370210001001031  000100                    16111.0   \n",
       "1                     01  370630001011029  000101                    10018.0   \n",
       "2                     01  370630001022015  000102                    20170.0   \n",
       "3                     03  371330001031024  000103                     6232.0   \n",
       "4                     10  370210002002017  000200                    12128.0   \n",
       "\n",
       "         area  Population per square km  \n",
       "0   15.656931               1029.001128  \n",
       "1  214.334518                 46.740022  \n",
       "2  192.327918                104.872970  \n",
       "3  560.199988                 11.124599  \n",
       "4  209.324685                 57.938699  "
      ]
     },
     "execution_count": 18,
     "metadata": {},
     "output_type": "execute_result"
    }
   ],
   "source": [
    "tracts.head()"
   ]
  },
  {
   "cell_type": "code",
   "execution_count": 19,
   "metadata": {
    "collapsed": false
   },
   "outputs": [],
   "source": [
    "tracts.to_file('./fig/shapefile/results/pop_' + state_name + '_by_tract.shp', driver=\"ESRI Shapefile\")"
   ]
  },
  {
   "cell_type": "markdown",
   "metadata": {},
   "source": [
    "# Iowa"
   ]
  },
  {
   "cell_type": "code",
   "execution_count": 20,
   "metadata": {
    "collapsed": true
   },
   "outputs": [],
   "source": [
    "state_name = 'IA'\n",
    "best_path = glob.glob('./clustered/best_stats/' + state_name +'*')[0]\n",
    "best_basename = os.path.basename(best_path)\n",
    "filename, file_extension = os.path.splitext(best_basename)\n",
    "state = gpd.read_file(glob.glob('./clustered/geojson_results/' + filename +'.geojson')[0])"
   ]
  },
  {
   "cell_type": "code",
   "execution_count": 21,
   "metadata": {
    "collapsed": false
   },
   "outputs": [],
   "source": [
    "mini = state[['Predicted 2015 Population', 'geometry', 'Cluster', 'Congressional District', 'GEOID']]"
   ]
  },
  {
   "cell_type": "code",
   "execution_count": 22,
   "metadata": {
    "collapsed": false
   },
   "outputs": [
    {
     "name": "stderr",
     "output_type": "stream",
     "text": [
      "/usr/local/lib/python2.7/dist-packages/ipykernel/__main__.py:1: SettingWithCopyWarning: \n",
      "A value is trying to be set on a copy of a slice from a DataFrame.\n",
      "Try using .loc[row_indexer,col_indexer] = value instead\n",
      "\n",
      "See the caveats in the documentation: http://pandas.pydata.org/pandas-docs/stable/indexing.html#indexing-view-versus-copy\n",
      "  if __name__ == '__main__':\n"
     ]
    }
   ],
   "source": [
    "mini['area'] = mini['geometry'].to_crs({'init': 'epsg:3395'}).map(lambda p: p.area / 10**6)"
   ]
  },
  {
   "cell_type": "code",
   "execution_count": 23,
   "metadata": {
    "collapsed": false
   },
   "outputs": [
    {
     "name": "stderr",
     "output_type": "stream",
     "text": [
      "/usr/local/lib/python2.7/dist-packages/ipykernel/__main__.py:7: SettingWithCopyWarning: \n",
      "A value is trying to be set on a copy of a slice from a DataFrame.\n",
      "Try using .loc[row_indexer,col_indexer] = value instead\n",
      "\n",
      "See the caveats in the documentation: http://pandas.pydata.org/pandas-docs/stable/indexing.html#indexing-view-versus-copy\n"
     ]
    }
   ],
   "source": [
    "# GEOID Structure is defined as\n",
    "# STATE + COUNTY + TRACT + BLOCK = 2 + 3 + 6 + 4 = 15\n",
    "# see: https://www.census.gov/geo/reference/geoidentifiers.html\n",
    "def get_tract(row):\n",
    "#     print(type(row['GEOID']))\n",
    "    return row['GEOID'][5:11]\n",
    "mini['Tract'] = mini.apply(get_tract, axis=1)"
   ]
  },
  {
   "cell_type": "code",
   "execution_count": 24,
   "metadata": {
    "collapsed": true
   },
   "outputs": [],
   "source": [
    "tracts = mini.dissolve(by='Tract')"
   ]
  },
  {
   "cell_type": "code",
   "execution_count": 25,
   "metadata": {
    "collapsed": true
   },
   "outputs": [],
   "source": [
    "mini = mini[['Predicted 2015 Population', 'area', 'Tract']]"
   ]
  },
  {
   "cell_type": "code",
   "execution_count": 26,
   "metadata": {
    "collapsed": true
   },
   "outputs": [],
   "source": [
    "pop = mini.groupby('Tract').sum()\n",
    "pop['Tract'] = pop.index"
   ]
  },
  {
   "cell_type": "code",
   "execution_count": 27,
   "metadata": {
    "collapsed": true
   },
   "outputs": [],
   "source": [
    "del tracts['Predicted 2015 Population']"
   ]
  },
  {
   "cell_type": "code",
   "execution_count": 28,
   "metadata": {
    "collapsed": true
   },
   "outputs": [],
   "source": [
    "del tracts['area']"
   ]
  },
  {
   "cell_type": "code",
   "execution_count": 29,
   "metadata": {
    "collapsed": true
   },
   "outputs": [],
   "source": [
    "tracts['Tract'] = tracts.index\n",
    "tracts = tracts.merge(pop, on='Tract')\n",
    "tracts['Population per square km'] = tracts['Predicted 2015 Population'] / tracts['area'] \n",
    "tracts.to_file('./fig/shapefile/results/pop_' + state_name + '_by_tract.shp', driver=\"ESRI Shapefile\")"
   ]
  },
  {
   "cell_type": "markdown",
   "metadata": {},
   "source": [
    "# Major Cities in NC and IA"
   ]
  },
  {
   "cell_type": "code",
   "execution_count": 33,
   "metadata": {
    "collapsed": false
   },
   "outputs": [],
   "source": [
    "cities = gpd.read_file('./fig/shapefile/citiesx010g_shp_nt00962/citiesx010g.shp')\n",
    "# From: https://catalog.data.gov/dataset/usgs-small-scale-dataset-cities-and-towns-of-the-united-states-201403-shapefile"
   ]
  },
  {
   "cell_type": "code",
   "execution_count": 34,
   "metadata": {
    "collapsed": false
   },
   "outputs": [
    {
     "data": {
      "text/html": [
       "<div>\n",
       "<table border=\"1\" class=\"dataframe\">\n",
       "  <thead>\n",
       "    <tr style=\"text-align: right;\">\n",
       "      <th></th>\n",
       "      <th>ANSICODE</th>\n",
       "      <th>COUNTY</th>\n",
       "      <th>COUNTYFIPS</th>\n",
       "      <th>ELEV_IN_FT</th>\n",
       "      <th>ELEV_IN_M</th>\n",
       "      <th>FEATURE</th>\n",
       "      <th>FEATURE2</th>\n",
       "      <th>GNIS_ID</th>\n",
       "      <th>LATITUDE</th>\n",
       "      <th>LONGITUDE</th>\n",
       "      <th>NAME</th>\n",
       "      <th>POP_2010</th>\n",
       "      <th>PopPlLat</th>\n",
       "      <th>PopPlLong</th>\n",
       "      <th>STATE</th>\n",
       "      <th>STATE_FIPS</th>\n",
       "      <th>geometry</th>\n",
       "    </tr>\n",
       "  </thead>\n",
       "  <tbody>\n",
       "    <tr>\n",
       "      <th>0</th>\n",
       "      <td>1036000</td>\n",
       "      <td>Rolette</td>\n",
       "      <td>079</td>\n",
       "      <td>1706.0</td>\n",
       "      <td>520.0</td>\n",
       "      <td>Civil</td>\n",
       "      <td>-999</td>\n",
       "      <td>1028750.0</td>\n",
       "      <td>48.813057</td>\n",
       "      <td>-100.060968</td>\n",
       "      <td>Dunseith</td>\n",
       "      <td>773.0</td>\n",
       "      <td>48.813057</td>\n",
       "      <td>-100.060968</td>\n",
       "      <td>ND</td>\n",
       "      <td>38</td>\n",
       "      <td>POINT (-100.0609678 48.81305690000016)</td>\n",
       "    </tr>\n",
       "    <tr>\n",
       "      <th>1</th>\n",
       "      <td>1036174</td>\n",
       "      <td>Rolette</td>\n",
       "      <td>079</td>\n",
       "      <td>1654.0</td>\n",
       "      <td>504.0</td>\n",
       "      <td>Civil</td>\n",
       "      <td>-999</td>\n",
       "      <td>1030349.0</td>\n",
       "      <td>48.635278</td>\n",
       "      <td>-99.618756</td>\n",
       "      <td>Mylo</td>\n",
       "      <td>20.0</td>\n",
       "      <td>48.635278</td>\n",
       "      <td>-99.618756</td>\n",
       "      <td>ND</td>\n",
       "      <td>38</td>\n",
       "      <td>POINT (-99.61875549999991 48.63527850000003)</td>\n",
       "    </tr>\n",
       "    <tr>\n",
       "      <th>2</th>\n",
       "      <td>1035912</td>\n",
       "      <td>Bottineau</td>\n",
       "      <td>009</td>\n",
       "      <td>1535.0</td>\n",
       "      <td>468.0</td>\n",
       "      <td>Civil</td>\n",
       "      <td>-999</td>\n",
       "      <td>1027718.0</td>\n",
       "      <td>48.970853</td>\n",
       "      <td>-101.282380</td>\n",
       "      <td>Antler</td>\n",
       "      <td>27.0</td>\n",
       "      <td>48.970853</td>\n",
       "      <td>-101.282380</td>\n",
       "      <td>ND</td>\n",
       "      <td>38</td>\n",
       "      <td>POINT (-101.2823802999999 48.97085320000008)</td>\n",
       "    </tr>\n",
       "    <tr>\n",
       "      <th>3</th>\n",
       "      <td>1035936</td>\n",
       "      <td>Bottineau</td>\n",
       "      <td>009</td>\n",
       "      <td>1637.0</td>\n",
       "      <td>499.0</td>\n",
       "      <td>Civil</td>\n",
       "      <td>County Seat</td>\n",
       "      <td>1028083.0</td>\n",
       "      <td>48.827230</td>\n",
       "      <td>-100.445698</td>\n",
       "      <td>Bottineau</td>\n",
       "      <td>2211.0</td>\n",
       "      <td>48.827230</td>\n",
       "      <td>-100.445698</td>\n",
       "      <td>ND</td>\n",
       "      <td>38</td>\n",
       "      <td>POINT (-100.4456984 48.82723010000012)</td>\n",
       "    </tr>\n",
       "    <tr>\n",
       "      <th>4</th>\n",
       "      <td>1036050</td>\n",
       "      <td>Bottineau</td>\n",
       "      <td>009</td>\n",
       "      <td>1467.0</td>\n",
       "      <td>447.0</td>\n",
       "      <td>Civil</td>\n",
       "      <td>-999</td>\n",
       "      <td>1029080.0</td>\n",
       "      <td>48.700837</td>\n",
       "      <td>-100.497639</td>\n",
       "      <td>Gardena</td>\n",
       "      <td>29.0</td>\n",
       "      <td>48.700837</td>\n",
       "      <td>-100.497639</td>\n",
       "      <td>ND</td>\n",
       "      <td>38</td>\n",
       "      <td>POINT (-100.4976392999999 48.70083700000004)</td>\n",
       "    </tr>\n",
       "  </tbody>\n",
       "</table>\n",
       "</div>"
      ],
      "text/plain": [
       "  ANSICODE     COUNTY COUNTYFIPS  ELEV_IN_FT  ELEV_IN_M FEATURE     FEATURE2  \\\n",
       "0  1036000    Rolette        079      1706.0      520.0   Civil         -999   \n",
       "1  1036174    Rolette        079      1654.0      504.0   Civil         -999   \n",
       "2  1035912  Bottineau        009      1535.0      468.0   Civil         -999   \n",
       "3  1035936  Bottineau        009      1637.0      499.0   Civil  County Seat   \n",
       "4  1036050  Bottineau        009      1467.0      447.0   Civil         -999   \n",
       "\n",
       "     GNIS_ID   LATITUDE   LONGITUDE       NAME  POP_2010   PopPlLat  \\\n",
       "0  1028750.0  48.813057 -100.060968   Dunseith     773.0  48.813057   \n",
       "1  1030349.0  48.635278  -99.618756       Mylo      20.0  48.635278   \n",
       "2  1027718.0  48.970853 -101.282380     Antler      27.0  48.970853   \n",
       "3  1028083.0  48.827230 -100.445698  Bottineau    2211.0  48.827230   \n",
       "4  1029080.0  48.700837 -100.497639    Gardena      29.0  48.700837   \n",
       "\n",
       "    PopPlLong STATE STATE_FIPS                                      geometry  \n",
       "0 -100.060968    ND         38        POINT (-100.0609678 48.81305690000016)  \n",
       "1  -99.618756    ND         38  POINT (-99.61875549999991 48.63527850000003)  \n",
       "2 -101.282380    ND         38  POINT (-101.2823802999999 48.97085320000008)  \n",
       "3 -100.445698    ND         38        POINT (-100.4456984 48.82723010000012)  \n",
       "4 -100.497639    ND         38  POINT (-100.4976392999999 48.70083700000004)  "
      ]
     },
     "execution_count": 34,
     "metadata": {},
     "output_type": "execute_result"
    }
   ],
   "source": [
    "cities.head()"
   ]
  },
  {
   "cell_type": "code",
   "execution_count": 37,
   "metadata": {
    "collapsed": false
   },
   "outputs": [],
   "source": [
    "nc_ia_cities = cities[(cities['STATE'] == 'NC') | (cities['STATE'] == 'IA')]"
   ]
  },
  {
   "cell_type": "code",
   "execution_count": 38,
   "metadata": {
    "collapsed": false
   },
   "outputs": [],
   "source": [
    "nc_ia_cities = nc_ia_cities[(nc_ia_cities['NAME'] == 'Des Moines') | (nc_ia_cities['NAME'] == 'Cedar Rapids') | \\\n",
    "                            (nc_ia_cities['NAME'] == 'Charlotte') | (nc_ia_cities['NAME'] == 'Raleigh')]"
   ]
  },
  {
   "cell_type": "code",
   "execution_count": 41,
   "metadata": {
    "collapsed": false
   },
   "outputs": [],
   "source": [
    "nc_ia_cities = nc_ia_cities[nc_ia_cities['POP_2010'] > 1000]"
   ]
  },
  {
   "cell_type": "code",
   "execution_count": 42,
   "metadata": {
    "collapsed": false
   },
   "outputs": [
    {
     "data": {
      "text/html": [
       "<div>\n",
       "<table border=\"1\" class=\"dataframe\">\n",
       "  <thead>\n",
       "    <tr style=\"text-align: right;\">\n",
       "      <th></th>\n",
       "      <th>ANSICODE</th>\n",
       "      <th>COUNTY</th>\n",
       "      <th>COUNTYFIPS</th>\n",
       "      <th>ELEV_IN_FT</th>\n",
       "      <th>ELEV_IN_M</th>\n",
       "      <th>FEATURE</th>\n",
       "      <th>FEATURE2</th>\n",
       "      <th>GNIS_ID</th>\n",
       "      <th>LATITUDE</th>\n",
       "      <th>LONGITUDE</th>\n",
       "      <th>NAME</th>\n",
       "      <th>POP_2010</th>\n",
       "      <th>PopPlLat</th>\n",
       "      <th>PopPlLong</th>\n",
       "      <th>STATE</th>\n",
       "      <th>STATE_FIPS</th>\n",
       "      <th>geometry</th>\n",
       "    </tr>\n",
       "  </thead>\n",
       "  <tbody>\n",
       "    <tr>\n",
       "      <th>471</th>\n",
       "      <td>467567</td>\n",
       "      <td>Linn</td>\n",
       "      <td>113</td>\n",
       "      <td>810.0</td>\n",
       "      <td>247.0</td>\n",
       "      <td>Civil</td>\n",
       "      <td>County Seat</td>\n",
       "      <td>465941.0</td>\n",
       "      <td>42.008333</td>\n",
       "      <td>-91.644068</td>\n",
       "      <td>Cedar Rapids</td>\n",
       "      <td>126326.0</td>\n",
       "      <td>42.008333</td>\n",
       "      <td>-91.644068</td>\n",
       "      <td>IA</td>\n",
       "      <td>19</td>\n",
       "      <td>POINT (-91.64406829999996 42.00833280000012)</td>\n",
       "    </tr>\n",
       "    <tr>\n",
       "      <th>7069</th>\n",
       "      <td>2394522</td>\n",
       "      <td>Polk</td>\n",
       "      <td>153</td>\n",
       "      <td>873.0</td>\n",
       "      <td>266.0</td>\n",
       "      <td>Civil</td>\n",
       "      <td>State Capital County Seat</td>\n",
       "      <td>465961.0</td>\n",
       "      <td>41.600545</td>\n",
       "      <td>-93.609106</td>\n",
       "      <td>Des Moines</td>\n",
       "      <td>203433.0</td>\n",
       "      <td>41.600545</td>\n",
       "      <td>-93.609106</td>\n",
       "      <td>IA</td>\n",
       "      <td>19</td>\n",
       "      <td>POINT (-93.60910639999997 41.60054480000008)</td>\n",
       "    </tr>\n",
       "    <tr>\n",
       "      <th>14497</th>\n",
       "      <td>2404590</td>\n",
       "      <td>Wake</td>\n",
       "      <td>183</td>\n",
       "      <td>315.0</td>\n",
       "      <td>96.0</td>\n",
       "      <td>Civil</td>\n",
       "      <td>State Capital County Seat</td>\n",
       "      <td>1024242.0</td>\n",
       "      <td>35.772096</td>\n",
       "      <td>-78.638615</td>\n",
       "      <td>Raleigh</td>\n",
       "      <td>403892.0</td>\n",
       "      <td>35.772096</td>\n",
       "      <td>-78.638615</td>\n",
       "      <td>NC</td>\n",
       "      <td>37</td>\n",
       "      <td>POINT (-78.63861449999996 35.77209600000009)</td>\n",
       "    </tr>\n",
       "    <tr>\n",
       "      <th>14557</th>\n",
       "      <td>2404032</td>\n",
       "      <td>Mecklenburg</td>\n",
       "      <td>119</td>\n",
       "      <td>761.0</td>\n",
       "      <td>232.0</td>\n",
       "      <td>Civil</td>\n",
       "      <td>County Seat</td>\n",
       "      <td>1019610.0</td>\n",
       "      <td>35.227087</td>\n",
       "      <td>-80.843127</td>\n",
       "      <td>Charlotte</td>\n",
       "      <td>731424.0</td>\n",
       "      <td>35.227087</td>\n",
       "      <td>-80.843127</td>\n",
       "      <td>NC</td>\n",
       "      <td>37</td>\n",
       "      <td>POINT (-80.84312679999994 35.22708690000007)</td>\n",
       "    </tr>\n",
       "  </tbody>\n",
       "</table>\n",
       "</div>"
      ],
      "text/plain": [
       "      ANSICODE       COUNTY COUNTYFIPS  ELEV_IN_FT  ELEV_IN_M FEATURE  \\\n",
       "471     467567         Linn        113       810.0      247.0   Civil   \n",
       "7069   2394522         Polk        153       873.0      266.0   Civil   \n",
       "14497  2404590         Wake        183       315.0       96.0   Civil   \n",
       "14557  2404032  Mecklenburg        119       761.0      232.0   Civil   \n",
       "\n",
       "                        FEATURE2    GNIS_ID   LATITUDE  LONGITUDE  \\\n",
       "471                  County Seat   465941.0  42.008333 -91.644068   \n",
       "7069   State Capital County Seat   465961.0  41.600545 -93.609106   \n",
       "14497  State Capital County Seat  1024242.0  35.772096 -78.638615   \n",
       "14557                County Seat  1019610.0  35.227087 -80.843127   \n",
       "\n",
       "               NAME  POP_2010   PopPlLat  PopPlLong STATE STATE_FIPS  \\\n",
       "471    Cedar Rapids  126326.0  42.008333 -91.644068    IA         19   \n",
       "7069     Des Moines  203433.0  41.600545 -93.609106    IA         19   \n",
       "14497       Raleigh  403892.0  35.772096 -78.638615    NC         37   \n",
       "14557     Charlotte  731424.0  35.227087 -80.843127    NC         37   \n",
       "\n",
       "                                           geometry  \n",
       "471    POINT (-91.64406829999996 42.00833280000012)  \n",
       "7069   POINT (-93.60910639999997 41.60054480000008)  \n",
       "14497  POINT (-78.63861449999996 35.77209600000009)  \n",
       "14557  POINT (-80.84312679999994 35.22708690000007)  "
      ]
     },
     "execution_count": 42,
     "metadata": {},
     "output_type": "execute_result"
    }
   ],
   "source": [
    "nc_ia_cities.head()"
   ]
  },
  {
   "cell_type": "code",
   "execution_count": 43,
   "metadata": {
    "collapsed": true
   },
   "outputs": [],
   "source": [
    "nc_ia_cities.to_file('./fig/shapefile/cities/nc_ia_cities.shp', driver=\"ESRI Shapefile\")"
   ]
  },
  {
   "cell_type": "markdown",
   "metadata": {},
   "source": [
    "# Confressional Districts for NC and IA"
   ]
  },
  {
   "cell_type": "code",
   "execution_count": 3,
   "metadata": {
    "collapsed": false
   },
   "outputs": [],
   "source": [
    "from default_values import usa_shapefile_path\n",
    "usa = gpd.read_file(usa_shapefile_path)"
   ]
  },
  {
   "cell_type": "code",
   "execution_count": 4,
   "metadata": {
    "collapsed": false
   },
   "outputs": [],
   "source": [
    "az_ne_cong_dist = usa[(usa['STATEFP'].apply(int) == int(us.states.lookup('NC').fips)) |\n",
    "    (usa['STATEFP'].apply(int) == int(us.states.lookup('IA').fips))]"
   ]
  },
  {
   "cell_type": "code",
   "execution_count": 5,
   "metadata": {
    "collapsed": false
   },
   "outputs": [
    {
     "data": {
      "text/plain": [
       "<matplotlib.axes._subplots.AxesSubplot at 0x7f3814566450>"
      ]
     },
     "execution_count": 5,
     "metadata": {},
     "output_type": "execute_result"
    },
    {
     "data": {
      "image/png": "[encoded data removed]",
      "text/plain": [
       "<matplotlib.figure.Figure at 0x7f38176e7310>"
      ]
     },
     "metadata": {},
     "output_type": "display_data"
    }
   ],
   "source": [
    "az_ne_cong_dist.plot()"
   ]
  },
  {
   "cell_type": "code",
   "execution_count": 6,
   "metadata": {
    "collapsed": true
   },
   "outputs": [],
   "source": [
    "az_ne_cong_dist.to_file('./fig/shapefile/cong_dist/nc_ia_cong_dist.shp', driver=\"ESRI Shapefile\")"
   ]
  },
  {
   "cell_type": "markdown",
   "metadata": {},
   "source": [
    "# Clusters for NC and IA"
   ]
  },
  {
   "cell_type": "code",
   "execution_count": 48,
   "metadata": {
    "collapsed": true
   },
   "outputs": [],
   "source": [
    "state_name = 'NC'\n",
    "best_path = glob.glob('./clustered/best_stats/' + state_name +'*')[0]\n",
    "best_basename = os.path.basename(best_path)\n",
    "filename, file_extension = os.path.splitext(best_basename)\n",
    "state = gpd.read_file(glob.glob('./clustered/geojson_results/' + filename +'.geojson')[0])"
   ]
  },
  {
   "cell_type": "code",
   "execution_count": 49,
   "metadata": {
    "collapsed": true
   },
   "outputs": [],
   "source": [
    "north_carolina = state.dissolve(by='Cluster')"
   ]
  },
  {
   "cell_type": "code",
   "execution_count": 50,
   "metadata": {
    "collapsed": true
   },
   "outputs": [],
   "source": [
    "north_carolina.to_file('./fig/shapefile/results/north_carolina.shp', driver=\"ESRI Shapefile\")"
   ]
  },
  {
   "cell_type": "code",
   "execution_count": 51,
   "metadata": {
    "collapsed": true
   },
   "outputs": [],
   "source": [
    "state_name = 'IA'\n",
    "best_path = glob.glob('./clustered/best_stats/' + state_name +'*')[0]\n",
    "best_basename = os.path.basename(best_path)\n",
    "filename, file_extension = os.path.splitext(best_basename)\n",
    "state = gpd.read_file(glob.glob('./clustered/geojson_results/' + filename +'.geojson')[0])\n",
    "iowa = state.dissolve(by='Cluster')\n",
    "iowa.to_file('./fig/shapefile/results/iowa.shp', driver=\"ESRI Shapefile\")"
   ]
  },
  {
   "cell_type": "code",
   "execution_count": null,
   "metadata": {
    "collapsed": true
   },
   "outputs": [],
   "source": []
  }
 ],
 "metadata": {
  "anaconda-cloud": {},
  "kernelspec": {
   "display_name": "Python [default]",
   "language": "python",
   "name": "python2"
  },
  "language_info": {
   "codemirror_mode": {
    "name": "ipython",
    "version": 2
   },
   "file_extension": ".py",
   "mimetype": "text/x-python",
   "name": "python",
   "nbconvert_exporter": "python",
   "pygments_lexer": "ipython2",
   "version": "2.7.12"
  }
 },
 "nbformat": 4,
 "nbformat_minor": 2
}
